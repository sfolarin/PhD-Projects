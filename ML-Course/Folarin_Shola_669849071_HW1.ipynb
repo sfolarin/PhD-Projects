{
 "cells": [
  {
   "cell_type": "markdown",
   "metadata": {},
   "source": [
    "# HW-1: Introduction to Python \n",
    "\n",
    "Write Python script/commands to:"
   ]
  },
  {
   "cell_type": "markdown",
   "metadata": {},
   "source": [
    "##### 1. Print second element of the following list object\n",
    "\n",
    "        l = [1,2,3,4,5]"
   ]
  },
  {
   "cell_type": "code",
   "execution_count": 2,
   "metadata": {
    "tags": []
   },
   "outputs": [
    {
     "name": "stdout",
     "output_type": "stream",
     "text": [
      "2\n"
     ]
    }
   ],
   "source": [
    "l = [1,2,3,4,5]\n",
    "print(l[1])"
   ]
  },
  {
   "cell_type": "markdown",
   "metadata": {},
   "source": [
    "##### 2. Print each letter in the following string\n",
    "        s = 'I Love Python'"
   ]
  },
  {
   "cell_type": "code",
   "execution_count": 3,
   "metadata": {
    "tags": []
   },
   "outputs": [
    {
     "name": "stdout",
     "output_type": "stream",
     "text": [
      "I\n",
      " \n",
      "L\n",
      "o\n",
      "v\n",
      "e\n",
      " \n",
      "P\n",
      "y\n",
      "t\n",
      "h\n",
      "o\n",
      "n\n"
     ]
    }
   ],
   "source": [
    "s = 'I Love Python'\n",
    "\n",
    "for letter in s:\n",
    "    print(letter)\n"
   ]
  },
  {
   "cell_type": "markdown",
   "metadata": {},
   "source": [
    "##### 3. Access each key and value in the following dictionary and print them one after another\n",
    "\n",
    "        k = {'ak': 1, 'sb': 2, 'vk': 3, 'bv': 4, 'am': 5}"
   ]
  },
  {
   "cell_type": "code",
   "execution_count": 4,
   "metadata": {
    "tags": []
   },
   "outputs": [
    {
     "name": "stdout",
     "output_type": "stream",
     "text": [
      "ak 1\n",
      "sb 2\n",
      "vk 3\n",
      "bv 4\n",
      "am 5\n"
     ]
    }
   ],
   "source": [
    "k = {'ak': 1, 'sb': 2, 'vk': 3, 'bv': 4, 'am': 5}\n",
    "\n",
    "for key, value in k.items():\n",
    "    print(key, value)"
   ]
  },
  {
   "cell_type": "markdown",
   "metadata": {},
   "source": [
    "##### 4. Identify and print different python objects for Q1, Q2, Q3"
   ]
  },
  {
   "cell_type": "code",
   "execution_count": 8,
   "metadata": {
    "tags": []
   },
   "outputs": [
    {
     "name": "stdout",
     "output_type": "stream",
     "text": [
      "Q1 - List Object:\n",
      "Object: [1, 2, 3, 4, 5], Type: <class 'list'>\n",
      "Second Element: 2, Type: <class 'int'>\n",
      "\n",
      "Q2 - String Object:\n",
      "Object: I Love Python, Type: <class 'str'>\n",
      "First Character: I, Type: <class 'str'>\n",
      "\n",
      "Q3 - Dictionary Object:\n",
      "Object: {'ak': 1, 'sb': 2, 'vk': 3, 'bv': 4, 'am': 5}, Type: <class 'dict'>\n",
      "Keys and Values:\n",
      "Key: ak, Type: <class 'str'> | Value: 1, Type: <class 'int'>\n",
      "Key: sb, Type: <class 'str'> | Value: 2, Type: <class 'int'>\n",
      "Key: vk, Type: <class 'str'> | Value: 3, Type: <class 'int'>\n",
      "Key: bv, Type: <class 'str'> | Value: 4, Type: <class 'int'>\n",
      "Key: am, Type: <class 'str'> | Value: 5, Type: <class 'int'>\n"
     ]
    }
   ],
   "source": [
    "print(\"Q1 - List Object:\")\n",
    "print(f\"Object: {l}, Type: {type(l)}\")\n",
    "print(f\"Second Element: {l[1]}, Type: {type(l[1])}\\n\")\n",
    "\n",
    "print(\"Q2 - String Object:\")\n",
    "print(f\"Object: {s}, Type: {type(s)}\")\n",
    "print(f\"First Character: {s[0]}, Type: {type(s[0])}\\n\")\n",
    "\n",
    "print(\"Q3 - Dictionary Object:\")\n",
    "print(f\"Object: {k}, Type: {type(k)}\")\n",
    "print(\"Keys and Values:\")\n",
    "for key, value in k.items():\n",
    "    print(f\"Key: {key}, Type: {type(key)} | Value: {value}, Type: {type(value)}\")\n"
   ]
  },
  {
   "cell_type": "markdown",
   "metadata": {},
   "source": [
    "##### 5. Use random module to create a list of 10 integers"
   ]
  },
  {
   "cell_type": "code",
   "execution_count": 7,
   "metadata": {
    "tags": []
   },
   "outputs": [
    {
     "name": "stdout",
     "output_type": "stream",
     "text": [
      "[78, 11, 1, 93, 79, 17, 68, 93, 7, 28]\n"
     ]
    }
   ],
   "source": [
    "import random\n",
    "\n",
    "# Generate a list of 10 random integers between 1 and 100\n",
    "random_integers = [random.randint(1, 100) for _ in range(10)]\n",
    "\n",
    "print(random_integers)\n"
   ]
  },
  {
   "cell_type": "markdown",
   "metadata": {},
   "source": [
    "##### 6. Append the string 'new word' to the list \n",
    "\n",
    "        l1 = ['first', 'second', 'third', 'fourth']"
   ]
  },
  {
   "cell_type": "code",
   "execution_count": 9,
   "metadata": {
    "tags": []
   },
   "outputs": [
    {
     "name": "stdout",
     "output_type": "stream",
     "text": [
      "['first', 'second', 'third', 'fourth', 'new word']\n"
     ]
    }
   ],
   "source": [
    "l1 = ['first', 'second', 'third', 'fourth']\n",
    "\n",
    "# Append 'new word' to the list\n",
    "l1.append('new word')\n",
    "\n",
    "print(l1)\n"
   ]
  },
  {
   "cell_type": "markdown",
   "metadata": {},
   "source": [
    "##### 7. For the list obtained above in Q6, insert the string 'zero' at the beggining"
   ]
  },
  {
   "cell_type": "code",
   "execution_count": 10,
   "metadata": {
    "tags": []
   },
   "outputs": [
    {
     "name": "stdout",
     "output_type": "stream",
     "text": [
      "['zero', 'first', 'second', 'third', 'fourth', 'new word']\n"
     ]
    }
   ],
   "source": [
    "l1 = ['first', 'second', 'third', 'fourth', 'new word']\n",
    "\n",
    "# Insert 'zero' at the beginning of the list\n",
    "l1.insert(0, 'zero')\n",
    "\n",
    "print(l1)\n"
   ]
  },
  {
   "cell_type": "markdown",
   "metadata": {},
   "source": [
    "##### 8. Count number of 's' in 'lndsgkjssadfasksdaikjsanffkjsanfkjsafhwsajproawjrn' "
   ]
  },
  {
   "cell_type": "code",
   "execution_count": 11,
   "metadata": {
    "tags": []
   },
   "outputs": [
    {
     "name": "stdout",
     "output_type": "stream",
     "text": [
      "9\n"
     ]
    }
   ],
   "source": [
    "string = 'lndsgkjssadfasksdaikjsanffkjsanfkjsafhwsajproawjrn'\n",
    "\n",
    "# Count occurrences of 's'\n",
    "count_s = string.count('s')\n",
    "\n",
    "print(count_s)\n"
   ]
  },
  {
   "cell_type": "markdown",
   "metadata": {},
   "source": [
    "##### 9. Import Numpy array and define two equal sized 1D arrays, say a & b"
   ]
  },
  {
   "cell_type": "code",
   "execution_count": 12,
   "metadata": {
    "tags": []
   },
   "outputs": [
    {
     "name": "stdout",
     "output_type": "stream",
     "text": [
      "Array a: [1 2 3 4 5]\n",
      "Array b: [ 6  7  8  9 10]\n"
     ]
    }
   ],
   "source": [
    "import numpy as np\n",
    "\n",
    "# Define two equal-sized 1D arrays\n",
    "a = np.array([1, 2, 3, 4, 5])\n",
    "b = np.array([6, 7, 8, 9, 10])\n",
    "\n",
    "# Print the arrays\n",
    "print(\"Array a:\", a)\n",
    "print(\"Array b:\", b)\n"
   ]
  },
  {
   "cell_type": "markdown",
   "metadata": {},
   "source": [
    "##### 10. Do the following operations on arrays from Q9\n",
    "        (a) Add\n",
    "        (b) Subtract\n",
    "        (c) Dot Product - using numpy and without numpy\n",
    "        (d) Find Sine of all the elements of array 'a' and exponential of elements of array 'b'"
   ]
  },
  {
   "cell_type": "code",
   "execution_count": 15,
   "metadata": {
    "tags": []
   },
   "outputs": [
    {
     "name": "stdout",
     "output_type": "stream",
     "text": [
      "Addition result: [ 7  9 11 13 15]\n",
      "Subtraction result: [-5 -5 -5 -5 -5]\n",
      "Dot Product (using NumPy): 130\n",
      "Dot Product (without NumPy): 130\n",
      "Sine of elements in array 'a': [ 0.84147098  0.90929743  0.14112001 -0.7568025  -0.95892427]\n",
      "Exponential of elements in array 'b': [  403.42879349  1096.63315843  2980.95798704  8103.08392758\n",
      " 22026.46579481]\n"
     ]
    }
   ],
   "source": [
    "import numpy as np\n",
    "\n",
    "# Define the two arrays\n",
    "a = np.array([1, 2, 3, 4, 5])\n",
    "b = np.array([6, 7, 8, 9, 10])\n",
    "\n",
    "# (a) Add the two arrays\n",
    "add_result = a + b\n",
    "print(\"Addition result: {}\".format(add_result))\n",
    "\n",
    "# (b) Subtract the two arrays\n",
    "subtract_result = a - b\n",
    "print(\"Subtraction result: {}\".format(subtract_result))\n",
    "\n",
    "# (c) Dot Product - Using NumPy\n",
    "dot_product_numpy = np.dot(a, b)\n",
    "print(\"Dot Product (using NumPy): {}\".format(dot_product_numpy))\n",
    "\n",
    "# (c) Dot Product - Without NumPy\n",
    "dot_product_manual = sum([a[i] * b[i] for i in range(len(a))])\n",
    "print(\"Dot Product (without NumPy): {}\".format(dot_product_manual))\n",
    "\n",
    "# (d) Find Sine of all the elements of array 'a' and Exponential of elements of array 'b'\n",
    "sine_a = np.sin(a)\n",
    "exp_b = np.exp(b)\n",
    "print(\"Sine of elements in array 'a': {}\".format(sine_a))\n",
    "print(\"Exponential of elements in array 'b': {}\".format(exp_b))\n"
   ]
  },
  {
   "cell_type": "markdown",
   "metadata": {},
   "source": [
    "##### 11. Write the string 'Hi' to a file named 'first.txt'"
   ]
  },
  {
   "cell_type": "code",
   "execution_count": 13,
   "metadata": {
    "tags": []
   },
   "outputs": [],
   "source": [
    "# Open the file in write mode\n",
    "with open('first.txt', 'w') as file:\n",
    "    # Write the string to the file\n",
    "    file.write('Hi')\n"
   ]
  },
  {
   "cell_type": "markdown",
   "metadata": {},
   "source": [
    "##### 12. Now append 'I am learning python' to the same file in Q11"
   ]
  },
  {
   "cell_type": "code",
   "execution_count": 14,
   "metadata": {
    "tags": []
   },
   "outputs": [],
   "source": [
    "# Open the file in append mode\n",
    "with open('first.txt', 'a') as file:\n",
    "    # Append the string to the file\n",
    "    file.write('\\nI am learning python')\n"
   ]
  },
  {
   "cell_type": "markdown",
   "metadata": {},
   "source": [
    "##### 13. Write a function that takes in a list of numbers and returns even and odd numbers"
   ]
  },
  {
   "cell_type": "code",
   "execution_count": 21,
   "metadata": {
    "tags": []
   },
   "outputs": [
    {
     "name": "stdout",
     "output_type": "stream",
     "text": [
      "Even numbers: [0, 2, 4, 6, 8, 10, 12, 14, 16, 18, 20, 22, 24, 26, 28, 30, 32, 34, 36, 38, 40, 42, 44, 46, 48]\n",
      "Odd numbers: [1, 3, 5, 7, 9, 11, 13, 15, 17, 19, 21, 23, 25, 27, 29, 31, 33, 35, 37, 39, 41, 43, 45, 47, 49]\n"
     ]
    }
   ],
   "source": [
    "def separate_even_odd(numbers):\n",
    "    # Create two lists for even and odd numbers\n",
    "    even_numbers = []\n",
    "    odd_numbers = []\n",
    "\n",
    "    # Loop through the list and check if each number is even or odd\n",
    "    for num in numbers:\n",
    "        if num % 2 == 0:\n",
    "            even_numbers.append(num)\n",
    "        else:\n",
    "            odd_numbers.append(num)\n",
    "\n",
    "    # Return a tuple with two lists: even and odd\n",
    "    return even_numbers, odd_numbers\n",
    "\n",
    "# Example:\n",
    "numbers = [num for num in range(50)] #List Comprehension\n",
    "even, odd = separate_even_odd(numbers)\n",
    "\n",
    "print(\"Even numbers:\", even)\n",
    "print(\"Odd numbers:\", odd)\n"
   ]
  },
  {
   "cell_type": "markdown",
   "metadata": {},
   "source": [
    "##### 14. Write a 'Sphere' Class to compute area and volume of a sphere with radius as input"
   ]
  },
  {
   "cell_type": "code",
   "execution_count": 22,
   "metadata": {
    "tags": []
   },
   "outputs": [
    {
     "name": "stdin",
     "output_type": "stream",
     "text": [
      "Enter the radius of the sphere:  4\n"
     ]
    },
    {
     "name": "stdout",
     "output_type": "stream",
     "text": [
      "Surface Area: 201.06\n",
      "Volume: 268.08\n"
     ]
    }
   ],
   "source": [
    "import math\n",
    "\n",
    "class Sphere:\n",
    "    def __init__(self, radius):\n",
    "        self.radius = radius  # Initialize the radius of the sphere\n",
    "\n",
    "    # Method to compute the surface area\n",
    "    def surface_area(self):\n",
    "        return 4 * math.pi * self.radius**2\n",
    "\n",
    "    # Method to compute the volume\n",
    "    def volume(self):\n",
    "        return (4/3) * math.pi * self.radius**3\n",
    "\n",
    "# Example usage:\n",
    "radius = float(input(\"Enter the radius of the sphere: \"))\n",
    "sphere = Sphere(radius)\n",
    "\n",
    "# Print the surface area and volume\n",
    "print(f\"Surface Area: {sphere.surface_area():.2f}\")\n",
    "print(f\"Volume: {sphere.volume():.2f}\")\n"
   ]
  },
  {
   "cell_type": "markdown",
   "metadata": {},
   "source": [
    "##### 15. Write a use-case demonstrating 'break' and 'continue' keywords"
   ]
  },
  {
   "cell_type": "code",
   "execution_count": 16,
   "metadata": {
    "tags": []
   },
   "outputs": [
    {
     "name": "stdout",
     "output_type": "stream",
     "text": [
      "Processing number: 1\n",
      "Processing number: 3\n",
      "Processing number: 5\n",
      "Processing number: 7\n",
      "Processing number: 9\n",
      "Processing number: 11\n",
      "Processing number: 13\n",
      "Processing number: 15\n",
      "Number 15 found! Stopping the loop.\n"
     ]
    }
   ],
   "source": [
    "numbers = [c for c in range(50)] #List Comprehension\n",
    "\n",
    "for num in numbers:\n",
    "    if num % 2 == 0:  # Skip even numbers\n",
    "        continue\n",
    "    print(f\"Processing number: {num}\")\n",
    "\n",
    "    if num == 15:  # Stop the loop when 15 is found\n",
    "        print(\"Number 15 found! Stopping the loop.\")\n",
    "        break\n"
   ]
  },
  {
   "cell_type": "markdown",
   "metadata": {},
   "source": [
    "##### Some basic exercises can also be tried at https://codingbat.com/python"
   ]
  }
 ],
 "metadata": {
  "kernelspec": {
   "display_name": "Python 3 (ipykernel)",
   "language": "python",
   "name": "python3"
  },
  "language_info": {
   "codemirror_mode": {
    "name": "ipython",
    "version": 3
   },
   "file_extension": ".py",
   "mimetype": "text/x-python",
   "name": "python",
   "nbconvert_exporter": "python",
   "pygments_lexer": "ipython3",
   "version": "3.11.5"
  }
 },
 "nbformat": 4,
 "nbformat_minor": 4
}
