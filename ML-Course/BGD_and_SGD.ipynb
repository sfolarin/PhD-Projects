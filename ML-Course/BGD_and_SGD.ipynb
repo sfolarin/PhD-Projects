{
 "cells": [
  {
   "cell_type": "markdown",
   "id": "712bdf00-c73f-43fc-aa93-81160c6e7ef2",
   "metadata": {},
   "source": [
    "# Gradient descent\n",
    "\n",
    "<center><img src=\"https://upload.wikimedia.org/wikipedia/commons/a/a3/Gradient_descent.gif\" alt=\"Drawing\" style=\"width: 300px; height: 250px;\" /></center>\n",
    "\n",
    "<div style=\"text-align: right\"> \n",
    "  <small>wikipedia.org/</small>\n",
    "</div>\n",
    "\n",
    "\n",
    "\n",
    "\n",
    "\n"
   ]
  },
  {
   "cell_type": "code",
   "execution_count": null,
   "id": "15f31cd0-8a47-48ed-9075-bcaefcf180bf",
   "metadata": {
    "tags": []
   },
   "outputs": [],
   "source": []
  },
  {
   "cell_type": "markdown",
   "id": "c5e04d32-c6e4-4d47-8885-75611b4fe2fb",
   "metadata": {},
   "source": [
    "# Learning Objectives\n",
    "\n",
    "1. [Gradient Descent](#Gradient-Descent)\n",
    "2. [The Math Behind Gradient Descent](#The-Math-Behind-Gradient-Descent)\n",
    "3. [Different Types of Gradient Descent](#Different-Types-of-Gradient-Descent)\n",
    "4. [Batch Gradient Descent](#Batch-Gradient-Descent)\n",
    "5. [Stochastic Gradient Descent](#Stochastic-Gradient-Descent)"
   ]
  },
  {
   "cell_type": "code",
   "execution_count": null,
   "id": "c7189bf9-1267-4b4d-afe3-cdbeb16caf45",
   "metadata": {},
   "outputs": [],
   "source": []
  },
  {
   "cell_type": "markdown",
   "id": "d6e4f383-2a68-40e2-81e7-631a0ecde2ff",
   "metadata": {},
   "source": [
    "## Gradient Descent\n",
    "\n",
    "\n",
    "Gradient Descent is an iterative optimization algorithm used to find the best-fitting line (in our case, a straight line) for a given dataset. We will use the Mean Squared Error (MSE) as our loss function, which measures the average squared difference between the actual values and the predicted values."
   ]
  },
  {
   "cell_type": "code",
   "execution_count": null,
   "id": "25b60f43-5f9d-44dd-9cd9-01a8e738c137",
   "metadata": {},
   "outputs": [],
   "source": []
  },
  {
   "cell_type": "markdown",
   "id": "cee77915-c1a1-4c4b-9a72-27a0d9c7d15d",
   "metadata": {},
   "source": [
    "## The Math Behind Gradient Descent\n",
    "\n",
    "Suppose our goal is to fit a set of points to a straight line by minimizing the Mean Squared Error (MSE) through adjustments of the values of `m` (slope) and `b` (intercept) using the Gradient Descent algorithm.\n",
    "\n",
    "#### Step 1: Define the MSE Loss Function\n",
    "\n",
    "The MSE loss function for linear regression can be defined as follows:\n",
    "\n",
    "$$ MSE(m, b) = \\frac{1}{N} \\sum_{i=1}^{N} (y_i - (mx_i + b))^2 $$\n",
    "\n",
    "\n",
    "This is the cost function. A likely two-dimensional representation for a single minimum usually looks like:\n",
    "\n",
    "<center><img src=\"https://editor.analyticsvidhya.com/uploads/42181plot-3d-parabola.png\" alt=\"Drawing\" style=\"width: 300px; height: 250px;\" /></center>\n",
    "\n",
    "<div style=\"text-align: right\"> \n",
    "  <small>analyticsvidhya.com</small>\n",
    "</div>\n",
    "\n",
    "\n",
    "\n",
    "Where:\n",
    "- $ m $ is the slope of the line.\n",
    "- $ b $ is the y-intercept of the line.\n",
    "- $ N $ is the number of data points.\n",
    "- $ (x_i, y_i)$ are the data points.\n",
    "\n",
    "#### Step 2: Compute Partial Derivatives\n",
    "\n",
    "To perform Gradient Descent, we need to compute the partial derivatives of the MSE loss function with respect to `m` and `b`. These derivatives guide us in updating `m` and `b` in the right direction to minimize the loss.\n",
    "\n",
    "- Partial derivative with respect to  $m$:\n",
    "\n",
    "$$ \\frac{\\partial MSE}{\\partial m} = -\\frac{2}{N} \\sum_{i=1}^{N} x_i(y_i - (mx_i + b)) $$\n",
    "\n",
    "- Partial derivative with respect to $ b $:\n",
    "\n",
    "$$ \\frac{\\partial MSE}{\\partial b} = -\\frac{2}{N} \\sum_{i=1}^{N} (y_i - (mx_i + b)) $$\n",
    "\n",
    "#### Step 3: Gradient Descent Updates\n",
    "\n",
    "Now, we can update our values of `m` and `b` using the following update rules:\n",
    "\n",
    "$$ m = m - \\alpha \\frac{\\partial MSE}{\\partial m} $$\n",
    "$$ b = b - \\alpha \\frac{\\partial MSE}{\\partial b} $$\n",
    "\n",
    "Where:\n",
    "- $ \\alpha $ is the learning rate, a hyperparameter that controls the step size in each iteration.\n",
    "\n",
    "#### Step 4: Iterate Until Convergence\n",
    "\n",
    "Repeat the update step for `m` and `b` until the loss converges to a minimum or until a predefined number of iterations is reached.\n",
    "\n",
    "<center><img src=\"https://editor.analyticsvidhya.com/uploads/56656contour.png\" alt=\"Drawing\" style=\"width: 300px; height: 250px;\" /></center>\n",
    "\n",
    "<div style=\"text-align: right\"> \n",
    "  <small>analyticsvidhya.com</small>\n",
    "</div>\n"
   ]
  },
  {
   "cell_type": "markdown",
   "id": "ff900e92-e9fc-4d82-a998-01f11a8c2c06",
   "metadata": {},
   "source": [
    "Let's use the same example as described previously and implement Gradient Descent using the above formula. We would like to visualize what happens at each point, so we will create a GIF of the entire Gradient Descent run.\n",
    "\n",
    "#### Function to compute GD"
   ]
  },
  {
   "cell_type": "code",
   "execution_count": 1,
   "id": "d366fc26-7819-45e1-b74e-9e429ab2f40c",
   "metadata": {
    "tags": []
   },
   "outputs": [],
   "source": [
    "import numpy as np\n",
    "import os\n",
    "import matplotlib.pyplot as plt\n",
    "from tqdm import tqdm         # status bar for a loop\n",
    "from matplotlib.animation import ArtistAnimation # For the creation of gif\n",
    "from mpl_toolkits.mplot3d import Axes3D\n",
    "from IPython.display import Image, display, HTML #For the visualization of gif in Jupyter\n",
    "\n",
    "plt.style.use('bmh')"
   ]
  },
  {
   "cell_type": "code",
   "execution_count": 2,
   "id": "0f78d4cd-b285-4980-803d-b50aa094e959",
   "metadata": {
    "tags": []
   },
   "outputs": [],
   "source": [
    "\n",
    "\n",
    "def gradient_descent(x,y,\n",
    "                     filename=\"GD.gif\",\n",
    "                     learning_rate = 0.1,\n",
    "                     iterations=100,\n",
    "                     fps = 5\n",
    "                    ):\n",
    "    \n",
    "    \n",
    "    # we will be using simple plotting\n",
    "    \n",
    "    fig, ax = plt.subplots(figsize = (5,5))\n",
    "    images = []  \n",
    "    m_curr = b_curr = 0\n",
    "    n = len(x)\n",
    "    f = plt.scatter(x,y,color='red',marker='+',linewidths=5)\n",
    "    for i in tqdm(range(iterations)):\n",
    "        y_predicted = m_curr * x + b_curr\n",
    "        md = -(2/n)*sum(x*(y-y_predicted))\n",
    "        yd = -(2/n)*sum(y-y_predicted)\n",
    "        m_curr = m_curr - learning_rate * md\n",
    "        b_curr = b_curr - learning_rate* yd\n",
    "        point = plt.scatter(x,y_predicted,color='green')\n",
    "        line = plt.plot(x,y_predicted,color='green',linestyle=\"dashed\")\n",
    "        \n",
    "        images.append([f, point,line[0]])\n",
    "    \n",
    "    anim = ArtistAnimation(fig, images) \n",
    "    plt.close(fig)\n",
    "    anim.save(filename, writer = 'pillow',fps = fps) \n",
    "        \n",
    "    "
   ]
  },
  {
   "cell_type": "code",
   "execution_count": 3,
   "id": "244126aa-7c91-401e-8773-b7bd76c1d827",
   "metadata": {
    "tags": []
   },
   "outputs": [
    {
     "name": "stderr",
     "output_type": "stream",
     "text": [
      "100%|██████████| 100/100 [00:00<00:00, 168.27it/s]\n"
     ]
    }
   ],
   "source": [
    "x = np.array([1,2,3,4,5])\n",
    "y = np.array([5,7,9,11,13])\n",
    "gradient_descent(x,y,filename=\"GD_optimal.gif\",learning_rate = 0.03)"
   ]
  },
  {
   "cell_type": "code",
   "execution_count": 5,
   "id": "087c29d1-b203-45c2-b3f8-f8b4437b667a",
   "metadata": {
    "tags": []
   },
   "outputs": [
    {
     "data": {
      "text/html": [
       "<img src=\"./GD_optimal.gif\" />"
      ],
      "text/plain": [
       "<IPython.core.display.HTML object>"
      ]
     },
     "execution_count": 5,
     "metadata": {},
     "output_type": "execute_result"
    }
   ],
   "source": [
    "HTML('<img src=\"./GD_optimal.gif\" />') # Visualize"
   ]
  },
  {
   "cell_type": "markdown",
   "id": "2f492d5d-316c-443a-b850-30dc15c23539",
   "metadata": {
    "tags": []
   },
   "source": [
    "#### Effect of learning rate\n",
    "\n",
    "The selection of the learning rate in Gradient Descent plays a critical role in determining the efficiency and success of the optimization process. \n",
    "\n",
    "1. **Large Learning Rate**:\n",
    "   - If the learning rate is too large, the algorithm may overshoot the optimal point and fail to converge. This can result in the loss function increasing or oscillating, preventing convergence.\n",
    "\n",
    "2. **Small Learning Rate**:\n",
    "   - A very small learning rate may lead to slow convergence. The algorithm takes tiny steps towards the minimum, which can be computationally expensive and time-consuming.\n",
    "\n",
    "3. **Appropriate Learning Rate**:\n",
    "   - Choosing the right learning rate is crucial. An appropriate learning rate allows Gradient Descent to converge efficiently without overshooting. It balances convergence speed and stability.\n",
    "\n",
    "4. **Adaptive Learning Rates**:\n",
    "   - Some advanced variants of Gradient Descent, such as Adam and RMSprop, adapt the learning rate during training. This adaptability can lead to faster convergence and better performance on complex optimization landscapes.\n",
    "\n",
    "\n",
    "\n",
    "<center><img src=\"https://149695847.v2.pressablecdn.com/wp-content/uploads/2021/11/kjr-21-33-g007-l.jpg\" alt=\"Drawing\" style=\"width: 650px; height: 200px;\" /></center>\n",
    "\n",
    "<div style=\"text-align: right\"> \n",
    "  <small>analyticsindiamag.com</small>\n",
    "</div>\n",
    "\n",
    "\n",
    "#### Slow Learning rate\n",
    "\n"
   ]
  },
  {
   "cell_type": "code",
   "execution_count": 6,
   "id": "a1ad6636-385c-4fe1-b8e0-78aaeec92174",
   "metadata": {
    "tags": []
   },
   "outputs": [
    {
     "name": "stderr",
     "output_type": "stream",
     "text": [
      "100%|██████████| 100/100 [00:00<00:00, 164.27it/s]\n"
     ]
    }
   ],
   "source": [
    "gradient_descent(x,y,filename=\"GD_slow.gif\",learning_rate = 0.0001)"
   ]
  },
  {
   "cell_type": "code",
   "execution_count": 7,
   "id": "6abdee67-ca89-475a-beed-0b959f7aa6c0",
   "metadata": {
    "tags": []
   },
   "outputs": [
    {
     "data": {
      "text/html": [
       "<img src=\"./GD_slow.gif\" />"
      ],
      "text/plain": [
       "<IPython.core.display.HTML object>"
      ]
     },
     "execution_count": 7,
     "metadata": {},
     "output_type": "execute_result"
    }
   ],
   "source": [
    "HTML('<img src=\"./GD_slow.gif\" />')"
   ]
  },
  {
   "cell_type": "markdown",
   "id": "985a6660-afcc-497c-ba9f-97626447d712",
   "metadata": {},
   "source": [
    "#### Large Learning rate"
   ]
  },
  {
   "cell_type": "code",
   "execution_count": 8,
   "id": "987f23cb-adc9-4a1f-bad5-77187b02e06f",
   "metadata": {
    "tags": []
   },
   "outputs": [
    {
     "name": "stderr",
     "output_type": "stream",
     "text": [
      "100%|██████████| 100/100 [00:00<00:00, 196.58it/s]\n"
     ]
    }
   ],
   "source": [
    "gradient_descent(x,y,filename=\"GD_large.gif\",learning_rate = 0.08)"
   ]
  },
  {
   "cell_type": "code",
   "execution_count": 9,
   "id": "5b902362-2402-4cda-9065-2d246f06c4f3",
   "metadata": {
    "tags": []
   },
   "outputs": [
    {
     "data": {
      "text/html": [
       "<img src=\"./GD_large.gif\" />"
      ],
      "text/plain": [
       "<IPython.core.display.HTML object>"
      ]
     },
     "execution_count": 9,
     "metadata": {},
     "output_type": "execute_result"
    }
   ],
   "source": [
    "HTML('<img src=\"./GD_large.gif\" />')"
   ]
  },
  {
   "cell_type": "code",
   "execution_count": null,
   "id": "c2e8416e-50d2-4914-9aed-7ef9aa307214",
   "metadata": {},
   "outputs": [],
   "source": []
  },
  {
   "cell_type": "markdown",
   "id": "b9a8fb12-cf67-49c9-acf4-4e81335ddc92",
   "metadata": {},
   "source": [
    "## Different Types of Gradient Descent\n",
    "\n",
    "#### 1. Batch Gradient Descent\n",
    "\n",
    "- **Description**: Batch Gradient Descent computes the gradient of the loss function with respect to the entire dataset. It updates the model parameters after processing the entire dataset.\n",
    "\n",
    "#### 2. Stochastic Gradient Descent (SGD)\n",
    "\n",
    "- **Description**: SGD updates the model parameters after processing each individual data point. It has a stochastic (random) element due to the one-point-at-a-time updates.\n",
    "\n",
    "#### 3. Mini-Batch Gradient Descent\n",
    "\n",
    "- **Description**: Mini-Batch Gradient Descent strikes a balance between Batch and SGD. It processes a small random subset (mini-batch) of the dataset in each iteration.\n",
    "\n",
    "\n",
    "The above-mentioned ones are the most commonly used Gradient Descent methods. There are other advanced ones that address issues such as slow convergence and implement adaptive learning rates. These include Momentum Gradient Descent, Adagrad, RMSprop, Adam, etc. [See here](https://towardsdatascience.com/learning-parameters-part-5-65a2f3583f7d) for more details!\n",
    "\n"
   ]
  },
  {
   "cell_type": "markdown",
   "id": "6fa16a51-b80b-4dba-9b4f-e094c8528b01",
   "metadata": {},
   "source": [
    "## Python Code for Adam"
   ]
  },
  {
   "cell_type": "code",
   "execution_count": 10,
   "id": "be9b2bf6-ccf5-4e8a-8863-dd8bf0d5e89f",
   "metadata": {
    "tags": []
   },
   "outputs": [],
   "source": [
    "import numpy as np\n",
    "\n",
    "def do_adam(data, grad_w, grad_b, error):\n",
    "    # Initialize parameters\n",
    "    w, b = 1, 1\n",
    "    eta = 0.01\n",
    "    max_epochs = 100\n",
    "    eps = 1e-8  # Small value to avoid division by zero\n",
    "    beta1, beta2 = 0.9, 0.99  # Momentum and RMSProp decay rates\n",
    "\n",
    "    # Initialize moving averages\n",
    "    m_w, m_b = 0, 0\n",
    "    v_w, v_b = 0, 0\n",
    "\n",
    "    for i in range(1, max_epochs + 1):  # i should start from 1\n",
    "        dw, db = 0, 0\n",
    "        for x, y in data:\n",
    "            dw += grad_w(w, b, x, y)\n",
    "            db += grad_b(w, b, x, y)\n",
    "\n",
    "        # Update biased first moment estimate\n",
    "        m_w = beta1 * m_w + (1 - beta1) * dw\n",
    "        m_b = beta1 * m_b + (1 - beta1) * db\n",
    "\n",
    "        # Update biased second moment estimate\n",
    "        v_w = beta2 * v_w + (1 - beta2) * dw**2\n",
    "        v_b = beta2 * v_b + (1 - beta2) * db**2\n",
    "\n",
    "        # Compute bias-corrected estimates\n",
    "        m_w_hat = m_w / (1 - beta1**i)\n",
    "        m_b_hat = m_b / (1 - beta1**i)\n",
    "\n",
    "        v_w_hat = v_w / (1 - beta2**i)\n",
    "        v_b_hat = v_b / (1 - beta2**i)\n",
    "\n",
    "        # Update parameters\n",
    "        w = w - eta * m_w_hat / (np.sqrt(v_w_hat) + eps)\n",
    "        b = b - eta * m_b_hat / (np.sqrt(v_b_hat) + eps)\n",
    "\n",
    "    print(error(w, b))  # Final loss/error after optimization\n",
    "    return w, b\n"
   ]
  },
  {
   "cell_type": "code",
   "execution_count": 11,
   "id": "142caa4e-cc87-47ad-b7d1-60301c1e6f84",
   "metadata": {
    "tags": []
   },
   "outputs": [],
   "source": [
    "import numpy as np\n",
    "import matplotlib.pyplot as plt\n",
    "from matplotlib.animation import ArtistAnimation\n",
    "from tqdm import tqdm\n",
    "\n",
    "# Define gradient functions (for simple linear regression)\n",
    "def grad_w(w, b, x, y):\n",
    "    n = len(x)\n",
    "    y_predicted = w * x + b\n",
    "    return -(2/n) * sum(x * (y - y_predicted))  # Partial derivative w.r.t w\n",
    "\n",
    "def grad_b(w, b, x, y):\n",
    "    n = len(x)\n",
    "    y_predicted = w * x + b\n",
    "    return -(2/n) * sum(y - y_predicted)  # Partial derivative w.r.t b\n",
    "\n",
    "def error(w, b, x, y):\n",
    "    return np.mean((y - (w * x + b)) ** 2)  # Mean Squared Error\n",
    "\n",
    "# Adam Optimizer with Visualization\n",
    "def adam_optimizer(x, y, \n",
    "                   filename=\"Adam.gif\", \n",
    "                   learning_rate=0.1, \n",
    "                   iterations=100, \n",
    "                   fps=5):\n",
    "    \n",
    "    # Initialize Adam parameters\n",
    "    w, b = 0, 0  # Start with initial guesses\n",
    "    eta = learning_rate  # Learning rate\n",
    "    eps = 1e-8  # Small value to avoid division by zero\n",
    "    beta1, beta2 = 0.9, 0.99  # Adam parameters\n",
    "    m_w = m_b = v_w = v_b = 0  # Momentum and RMS terms\n",
    "\n",
    "    # Plotting setup\n",
    "    fig, ax = plt.subplots(figsize=(5, 5))\n",
    "    images = []  \n",
    "    n = len(x)\n",
    "    f = plt.scatter(x, y, color='red', marker='+', linewidths=5)\n",
    "\n",
    "    # Adam optimization loop\n",
    "    for i in tqdm(range(1, iterations + 1)):\n",
    "        # Compute gradients\n",
    "        dw = grad_w(w, b, x, y)\n",
    "        db = grad_b(w, b, x, y)\n",
    "\n",
    "        # Update biased first moment estimate\n",
    "        m_w = beta1 * m_w + (1 - beta1) * dw\n",
    "        m_b = beta1 * m_b + (1 - beta1) * db\n",
    "\n",
    "        # Update biased second moment estimate\n",
    "        v_w = beta2 * v_w + (1 - beta2) * dw**2\n",
    "        v_b = beta2 * v_b + (1 - beta2) * db**2\n",
    "\n",
    "        # Compute bias-corrected estimates\n",
    "        m_w_hat = m_w / (1 - beta1 ** i)\n",
    "        m_b_hat = m_b / (1 - beta1 ** i)\n",
    "        v_w_hat = v_w / (1 - beta2 ** i)\n",
    "        v_b_hat = v_b / (1 - beta2 ** i)\n",
    "\n",
    "        # Update weights\n",
    "        w = w - eta * m_w_hat / (np.sqrt(v_w_hat) + eps)\n",
    "        b = b - eta * m_b_hat / (np.sqrt(v_b_hat) + eps)\n",
    "\n",
    "        # Predicted line after each iteration\n",
    "        y_predicted = w * x + b\n",
    "        point = plt.scatter(x, y_predicted, color='green')\n",
    "        line = plt.plot(x, y_predicted, color='green', linestyle=\"dashed\")\n",
    "\n",
    "        images.append([f, point, line[0]])\n",
    "\n",
    "    # Create and save animation\n",
    "    anim = ArtistAnimation(fig, images) \n",
    "    plt.close(fig)\n",
    "    anim.save(filename, writer='pillow', fps=fps) \n",
    "\n",
    "    print(f\"Final error: {error(w, b, x, y)}\")\n",
    "    return w, b\n"
   ]
  },
  {
   "cell_type": "code",
   "execution_count": 19,
   "id": "a87dc45b-fbb8-4ccf-acbd-60e79c58a0b5",
   "metadata": {
    "tags": []
   },
   "outputs": [
    {
     "name": "stderr",
     "output_type": "stream",
     "text": [
      "100%|██████████| 100/100 [00:00<00:00, 173.73it/s]\n"
     ]
    },
    {
     "name": "stdout",
     "output_type": "stream",
     "text": [
      "Final error: 0.09659525864194274\n"
     ]
    },
    {
     "data": {
      "text/plain": [
       "(2.2192131217297395, 2.3203044981375607)"
      ]
     },
     "execution_count": 19,
     "metadata": {},
     "output_type": "execute_result"
    }
   ],
   "source": [
    "x = np.array([1,2,3,4,5])\n",
    "y = np.array([5,7,9,11,13])\n",
    "adam_optimizer(x,y,filename=\"Adam_optimal.gif\",learning_rate = 0.05)"
   ]
  },
  {
   "cell_type": "markdown",
   "id": "81cb9275-6d6a-4d06-87e0-ac4b051e86aa",
   "metadata": {},
   "source": [
    "## Batch Gradient Descent"
   ]
  },
  {
   "cell_type": "code",
   "execution_count": 2,
   "id": "85c0e054-f532-4db9-9747-8933767b22b4",
   "metadata": {
    "tags": []
   },
   "outputs": [],
   "source": [
    "import pandas as pd\n",
    "import numpy as np\n",
    "from matplotlib import pyplot as plt"
   ]
  },
  {
   "cell_type": "markdown",
   "id": "92f0cd65-35d0-4047-a206-8f090291e5b1",
   "metadata": {},
   "source": [
    "#### Loading the dataset"
   ]
  },
  {
   "cell_type": "code",
   "execution_count": 3,
   "id": "5cd0843e-a55d-44eb-ab50-fa437aad6632",
   "metadata": {
    "tags": []
   },
   "outputs": [
    {
     "data": {
      "text/html": [
       "<div>\n",
       "<style scoped>\n",
       "    .dataframe tbody tr th:only-of-type {\n",
       "        vertical-align: middle;\n",
       "    }\n",
       "\n",
       "    .dataframe tbody tr th {\n",
       "        vertical-align: top;\n",
       "    }\n",
       "\n",
       "    .dataframe thead th {\n",
       "        text-align: right;\n",
       "    }\n",
       "</style>\n",
       "<table border=\"1\" class=\"dataframe\">\n",
       "  <thead>\n",
       "    <tr style=\"text-align: right;\">\n",
       "      <th></th>\n",
       "      <th>area</th>\n",
       "      <th>bedrooms</th>\n",
       "      <th>price</th>\n",
       "    </tr>\n",
       "  </thead>\n",
       "  <tbody>\n",
       "    <tr>\n",
       "      <th>3</th>\n",
       "      <td>1521</td>\n",
       "      <td>3</td>\n",
       "      <td>75.00</td>\n",
       "    </tr>\n",
       "    <tr>\n",
       "      <th>9</th>\n",
       "      <td>3700</td>\n",
       "      <td>5</td>\n",
       "      <td>167.00</td>\n",
       "    </tr>\n",
       "    <tr>\n",
       "      <th>0</th>\n",
       "      <td>1056</td>\n",
       "      <td>2</td>\n",
       "      <td>39.07</td>\n",
       "    </tr>\n",
       "    <tr>\n",
       "      <th>16</th>\n",
       "      <td>1180</td>\n",
       "      <td>3</td>\n",
       "      <td>48.00</td>\n",
       "    </tr>\n",
       "    <tr>\n",
       "      <th>18</th>\n",
       "      <td>2770</td>\n",
       "      <td>3</td>\n",
       "      <td>102.00</td>\n",
       "    </tr>\n",
       "  </tbody>\n",
       "</table>\n",
       "</div>"
      ],
      "text/plain": [
       "    area  bedrooms   price\n",
       "3   1521         3   75.00\n",
       "9   3700         5  167.00\n",
       "0   1056         2   39.07\n",
       "16  1180         3   48.00\n",
       "18  2770         3  102.00"
      ]
     },
     "execution_count": 3,
     "metadata": {},
     "output_type": "execute_result"
    }
   ],
   "source": [
    "df = pd.read_csv(\"homeprices_banglore.csv\")\n",
    "df.sample(5)"
   ]
  },
  {
   "cell_type": "markdown",
   "id": "d3c0dbcd-4c42-4e27-9761-58b271608afb",
   "metadata": {},
   "source": [
    "#### Data scaling"
   ]
  },
  {
   "cell_type": "code",
   "execution_count": 12,
   "id": "0e353b5f-d6cc-418a-ac5b-7b4f1bf9ff33",
   "metadata": {
    "tags": []
   },
   "outputs": [],
   "source": [
    "from sklearn.preprocessing import MinMaxScaler"
   ]
  },
  {
   "cell_type": "markdown",
   "id": "fc3264c8-5b45-4216-8ab9-b987facfd88f",
   "metadata": {},
   "source": [
    "\n",
    "\n",
    "`MinMaxScaler` scales your data so that the minimum value becomes 0, and the maximum value becomes 1 for each feature. It's particularly useful when you want to ensure that all features have the same scale, which can be crucial for certain machine learning algorithms.\n",
    "\n"
   ]
  },
  {
   "cell_type": "code",
   "execution_count": 13,
   "id": "0e23b2c3-7fb3-4555-92ba-f0aaf0f6ea38",
   "metadata": {
    "tags": []
   },
   "outputs": [
    {
     "data": {
      "text/plain": [
       "array([[0.08827586, 0.25      ],\n",
       "       [0.62068966, 0.75      ],\n",
       "       [0.22068966, 0.5       ],\n",
       "       [0.24862069, 0.5       ],\n",
       "       [0.13793103, 0.25      ],\n",
       "       [0.12758621, 0.25      ],\n",
       "       [0.6662069 , 0.75      ],\n",
       "       [0.86206897, 0.75      ],\n",
       "       [0.17586207, 0.5       ],\n",
       "       [1.        , 1.        ],\n",
       "       [0.34482759, 0.5       ],\n",
       "       [0.68448276, 0.75      ],\n",
       "       [0.06896552, 0.25      ],\n",
       "       [0.10344828, 0.25      ],\n",
       "       [0.5       , 0.5       ],\n",
       "       [0.12931034, 0.25      ],\n",
       "       [0.13103448, 0.5       ],\n",
       "       [0.25517241, 0.5       ],\n",
       "       [0.67931034, 0.5       ],\n",
       "       [0.        , 0.        ]])"
      ]
     },
     "execution_count": 13,
     "metadata": {},
     "output_type": "execute_result"
    }
   ],
   "source": [
    "sx = MinMaxScaler()\n",
    "sy = MinMaxScaler()\n",
    "\n",
    "scaled_X = sx.fit_transform(df.drop('price',axis='columns').values)\n",
    "scaled_y = sy.fit_transform(df['price'].values.reshape(df.shape[0],1))\n",
    "\n",
    "scaled_X"
   ]
  },
  {
   "cell_type": "code",
   "execution_count": 5,
   "id": "cdd8abee-5a4a-477e-aa78-2efbce63b288",
   "metadata": {
    "tags": []
   },
   "outputs": [
    {
     "data": {
      "text/plain": [
       "array([1., 1.])"
      ]
     },
     "execution_count": 5,
     "metadata": {},
     "output_type": "execute_result"
    }
   ],
   "source": [
    "np.ones(shape=2)"
   ]
  },
  {
   "cell_type": "markdown",
   "id": "26283a63-4905-472f-a367-2453763ea500",
   "metadata": {},
   "source": [
    "##### Computing batch gradient descent"
   ]
  },
  {
   "cell_type": "code",
   "execution_count": 42,
   "id": "ed680e81-ccc0-4ac4-a835-072a75ef0751",
   "metadata": {
    "tags": []
   },
   "outputs": [],
   "source": [
    "def batch_gradient_descent(X, y_true, epochs, learning_rate = 0.01):\n",
    "\n",
    "    number_of_features = X.shape[1]\n",
    "    # numpy array with 1 row and columns equal to number of features. In \n",
    "    # our case number_of_features = 2 (area, bedroom)\n",
    "    w = np.ones(shape=(number_of_features)) \n",
    "    b = 0\n",
    "    total_samples = X.shape[0] # number of rows in X\n",
    "    \n",
    "    cost_list = []\n",
    "    epoch_list = []\n",
    "    \n",
    "    for i in range(epochs):        \n",
    "        y_predicted = np.dot(w, X.T) + b\n",
    "\n",
    "        w_grad = -(2/total_samples)*(X.T.dot(y_true-y_predicted))\n",
    "        b_grad = -(2/total_samples)*np.sum(y_true-y_predicted)\n",
    "        \n",
    "        w = w - learning_rate * w_grad\n",
    "        b = b - learning_rate * b_grad\n",
    "        \n",
    "        cost = np.mean(np.square(y_true-y_predicted)) # MSE (Mean Squared Error)\n",
    "        \n",
    "        if i%10==0:\n",
    "            cost_list.append(cost)\n",
    "            epoch_list.append(i)\n",
    "        \n",
    "    return w, b, cost, cost_list, epoch_list\n",
    "\n"
   ]
  },
  {
   "cell_type": "code",
   "execution_count": 43,
   "id": "add7671b-f32a-4276-98d0-34344e27cd0b",
   "metadata": {
    "tags": []
   },
   "outputs": [
    {
     "data": {
      "text/plain": [
       "(array([0.70712464, 0.67456527]), -0.23034857438407427, 0.0068641890429808105)"
      ]
     },
     "execution_count": 43,
     "metadata": {},
     "output_type": "execute_result"
    }
   ],
   "source": [
    "w, b, cost, cost_list, epoch_list = batch_gradient_descent(scaled_X,scaled_y.reshape(scaled_y.shape[0],),500)\n",
    "w, b, cost"
   ]
  },
  {
   "cell_type": "markdown",
   "id": "c26ec7df-19a2-4942-ab41-d03c63139efa",
   "metadata": {},
   "source": [
    "#### Plotting the cost against epochs"
   ]
  },
  {
   "cell_type": "code",
   "execution_count": 8,
   "id": "65dae327-b49e-496e-a349-0ce2babda9e3",
   "metadata": {
    "tags": []
   },
   "outputs": [
    {
     "data": {
      "text/plain": [
       "[<matplotlib.lines.Line2D at 0x2500921dc50>]"
      ]
     },
     "execution_count": 8,
     "metadata": {},
     "output_type": "execute_result"
    },
    {
     "data": {
      "image/png": "[encoded data removed]",
      "text/plain": [
       "<Figure size 640x480 with 1 Axes>"
      ]
     },
     "metadata": {},
     "output_type": "display_data"
    }
   ],
   "source": [
    "plt.xlabel(\"epoch\",size=20)\n",
    "plt.ylabel(\"cost\",size=20)\n",
    "plt.plot(epoch_list,cost_list)"
   ]
  },
  {
   "cell_type": "markdown",
   "id": "f29e1a00-406d-445c-8ab6-5af883ce9cf1",
   "metadata": {},
   "source": [
    "## Using Adam Optimizer"
   ]
  },
  {
   "cell_type": "code",
   "execution_count": 9,
   "id": "058683f9-2aaa-487c-9a5d-1b67cdccfcd7",
   "metadata": {
    "tags": []
   },
   "outputs": [],
   "source": [
    "import numpy as np\n",
    "import matplotlib.pyplot as plt\n",
    "from tqdm import tqdm\n",
    "\n",
    "def adam_batch_gradient_descent(X, y_true, \n",
    "                                epochs=100, \n",
    "                                learning_rate=0.01, \n",
    "                                beta1=0.9, \n",
    "                                beta2=0.99, \n",
    "                                eps=1e-8):\n",
    "\n",
    "    number_of_features = X.shape[1]  # Number of features (e.g., area, bedrooms)\n",
    "    w = np.ones(shape=(number_of_features))  # Initialize weights\n",
    "    b = 0  # Initialize bias\n",
    "    total_samples = X.shape[0]  # Number of rows in X\n",
    "\n",
    "    # Adam optimizer parameters\n",
    "    m_w, v_w = np.zeros(shape=(number_of_features)), np.zeros(shape=(number_of_features))  # Momentum & RMSProp terms for weights\n",
    "    m_b, v_b = 0, 0  # Momentum & RMSProp terms for bias\n",
    "\n",
    "    # Tracking cost for visualization\n",
    "    cost_list, epoch_list = [], []\n",
    "\n",
    "    # Gradient Descent Loop\n",
    "    for i in tqdm(range(1, epochs + 1)):\n",
    "        # Predictions\n",
    "        y_predicted = np.dot(w, X.T) + b\n",
    "\n",
    "        # Compute gradients\n",
    "        w_grad = -(2 / total_samples) * (X.T.dot(y_true - y_predicted))\n",
    "        b_grad = -(2 / total_samples) * np.sum(y_true - y_predicted)\n",
    "\n",
    "        # Update biased first moment estimate\n",
    "        m_w = beta1 * m_w + (1 - beta1) * w_grad\n",
    "        m_b = beta1 * m_b + (1 - beta1) * b_grad\n",
    "\n",
    "        # Update biased second moment estimate\n",
    "        v_w = beta2 * v_w + (1 - beta2) * (w_grad ** 2)\n",
    "        v_b = beta2 * v_b + (1 - beta2) * (b_grad ** 2)\n",
    "\n",
    "        # Compute bias-corrected estimates\n",
    "        m_w_hat = m_w / (1 - beta1 ** i)\n",
    "        m_b_hat = m_b / (1 - beta1 ** i)\n",
    "        v_w_hat = v_w / (1 - beta2 ** i)\n",
    "        v_b_hat = v_b / (1 - beta2 ** i)\n",
    "\n",
    "        # Update parameters\n",
    "        w -= learning_rate * m_w_hat / (np.sqrt(v_w_hat) + eps)\n",
    "        b -= learning_rate * m_b_hat / (np.sqrt(v_b_hat) + eps)\n",
    "\n",
    "        # Compute cost (Mean Squared Error)\n",
    "        cost = np.mean(np.square(y_true - y_predicted))\n",
    "        \n",
    "        # Store cost every 10 iterations\n",
    "        if i % 10 == 0:\n",
    "            cost_list.append(cost)\n",
    "            epoch_list.append(i)\n",
    "\n",
    "    return w, b, cost, cost_list, epoch_list\n"
   ]
  },
  {
   "cell_type": "code",
   "execution_count": 10,
   "id": "63a21f62-ac95-4347-b52c-ff4fda0f01b5",
   "metadata": {
    "tags": []
   },
   "outputs": [
    {
     "name": "stderr",
     "output_type": "stream",
     "text": [
      "100%|██████████| 500/500 [00:00<00:00, 8196.39it/s]\n"
     ]
    },
    {
     "data": {
      "text/plain": [
       "(array([0.86452841, 0.27802722]), -0.08970570751072506, 0.002954485541094361)"
      ]
     },
     "execution_count": 10,
     "metadata": {},
     "output_type": "execute_result"
    }
   ],
   "source": [
    "w, b, cost, cost_list, epoch_list = adam_batch_gradient_descent(scaled_X,scaled_y.reshape(scaled_y.shape[0],),500)\n",
    "w, b, cost"
   ]
  },
  {
   "cell_type": "code",
   "execution_count": 11,
   "id": "6263bff7-7e66-4121-918b-3f77c6c9482a",
   "metadata": {
    "tags": []
   },
   "outputs": [
    {
     "data": {
      "text/plain": [
       "[<matplotlib.lines.Line2D at 0x250092d7ad0>]"
      ]
     },
     "execution_count": 11,
     "metadata": {},
     "output_type": "execute_result"
    },
    {
     "data": {
      "image/png": "[encoded data removed]",
      "text/plain": [
       "<Figure size 640x480 with 1 Axes>"
      ]
     },
     "metadata": {},
     "output_type": "display_data"
    }
   ],
   "source": [
    "plt.xlabel(\"epoch\",size=20)\n",
    "plt.ylabel(\"cost\",size=20)\n",
    "plt.plot(epoch_list,cost_list)"
   ]
  },
  {
   "cell_type": "markdown",
   "id": "83fad0de-2b34-4f67-aaad-542c4c2bd63f",
   "metadata": {},
   "source": [
    "#### Predicting on new data"
   ]
  },
  {
   "cell_type": "code",
   "execution_count": 8,
   "id": "d23622b1-9a48-45c1-b26f-6640803bca7b",
   "metadata": {
    "tags": []
   },
   "outputs": [],
   "source": [
    "def predict(area,bedrooms,w,b):\n",
    "    scaled_X = sx.transform([[area, bedrooms]])[0]\n",
    "    # here w1 = w[0] , w2 = w[1], w3 = w[2] and bias is b\n",
    "    # equation for price is w1*area + w2*bedrooms + w3*age + bias\n",
    "    # scaled_X[0] is area\n",
    "    # scaled_X[1] is bedrooms\n",
    "    # scaled_X[2] is age\n",
    "    scaled_price = w[0] * scaled_X[0] + w[1] * scaled_X[1] + b\n",
    "    # once we get price prediction we need to to rescal it back to original value\n",
    "    # also since it returns 2D array, to get single value we need to do value[0][0]\n",
    "    return sy.inverse_transform([[scaled_price]])[0][0]\n",
    "\n"
   ]
  },
  {
   "cell_type": "code",
   "execution_count": null,
   "id": "616f091d-41e6-43ac-b822-ed2a7684af71",
   "metadata": {
    "tags": []
   },
   "outputs": [],
   "source": []
  },
  {
   "cell_type": "code",
   "execution_count": 50,
   "id": "f766f9e8-3cda-4fe1-9096-3527e27158b3",
   "metadata": {
    "tags": []
   },
   "outputs": [],
   "source": [
    "#For area 2600 and bedrooms 4 predict the price"
   ]
  },
  {
   "cell_type": "code",
   "execution_count": 95,
   "id": "654cdda2-55af-42e1-9242-25a921c3c005",
   "metadata": {
    "tags": []
   },
   "outputs": [
    {
     "data": {
      "text/plain": [
       "120.48150463563798"
      ]
     },
     "execution_count": 95,
     "metadata": {},
     "output_type": "execute_result"
    }
   ],
   "source": [
    "predict(2600,4,w,b)"
   ]
  },
  {
   "cell_type": "markdown",
   "id": "bce5f0a8-c125-4e05-a34a-a8dc4a5bc012",
   "metadata": {},
   "source": [
    "## Stochastic Gradient Descent"
   ]
  },
  {
   "cell_type": "code",
   "execution_count": 14,
   "id": "33b75bfc-6449-463f-911b-77c0c3eca357",
   "metadata": {
    "tags": []
   },
   "outputs": [],
   "source": [
    "import random\n",
    "\n",
    "def stochastic_gradient_descent(X, y_true, epochs, learning_rate = 0.01):\n",
    " \n",
    "    number_of_features = X.shape[1]\n",
    "    # numpy array with 1 row and columns equal to number of features. In \n",
    "    # our case number_of_features = 3 (area, bedroom and age)\n",
    "    w = np.ones(shape=(number_of_features)) \n",
    "    b = 0\n",
    "    total_samples = X.shape[0]\n",
    "    \n",
    "    cost_list = []\n",
    "    epoch_list = []\n",
    "    \n",
    "    for i in range(epochs):    \n",
    "        random_index = random.randint(0,total_samples-1) # random index from total samples\n",
    "        sample_x = X[random_index]\n",
    "        sample_y = y_true[random_index]\n",
    "        \n",
    "        y_predicted = np.dot(w, sample_x.T) + b\n",
    "    \n",
    "        w_grad = -(2/total_samples)*(sample_x.T.dot(sample_y-y_predicted))\n",
    "        b_grad = -(2/total_samples)*(sample_y-y_predicted)\n",
    "        \n",
    "        w = w - learning_rate * w_grad\n",
    "        b = b - learning_rate * b_grad\n",
    "        \n",
    "        cost = np.square(sample_y-y_predicted)\n",
    "        \n",
    "        if i%100==0: # at every 100th iteration record the cost and epoch value\n",
    "            cost_list.append(cost)\n",
    "            epoch_list.append(i)\n",
    "        \n",
    "    return w, b, cost, cost_list, epoch_list\n"
   ]
  },
  {
   "cell_type": "code",
   "execution_count": 15,
   "id": "1b8b0a34-7dc0-4d56-8144-c3766d15c168",
   "metadata": {
    "tags": []
   },
   "outputs": [
    {
     "data": {
      "text/plain": [
       "(array([0.66408325, 0.60284909]), -0.177399136536384, 0.031533489088542616)"
      ]
     },
     "execution_count": 15,
     "metadata": {},
     "output_type": "execute_result"
    }
   ],
   "source": [
    "w_sgd, b_sgd, cost_sgd, cost_list_sgd, epoch_list_sgd = stochastic_gradient_descent(scaled_X,scaled_y.reshape(scaled_y.shape[0],),20000)\n",
    "w_sgd, b_sgd, cost_sgd"
   ]
  },
  {
   "cell_type": "code",
   "execution_count": 16,
   "id": "9e4e3cf8-f9c8-46e5-8f7d-2ee0e9f7f7ec",
   "metadata": {
    "tags": []
   },
   "outputs": [
    {
     "data": {
      "text/plain": [
       "[<matplotlib.lines.Line2D at 0x139a680af90>]"
      ]
     },
     "execution_count": 16,
     "metadata": {},
     "output_type": "execute_result"
    },
    {
     "data": {
      "image/png": "[encoded data removed]",
      "text/plain": [
       "<Figure size 640x480 with 1 Axes>"
      ]
     },
     "metadata": {},
     "output_type": "display_data"
    }
   ],
   "source": [
    "plt.xlabel(\"epoch\",size=20)\n",
    "plt.ylabel(\"cost\",size=20)\n",
    "plt.plot(epoch_list_sgd,cost_list_sgd)"
   ]
  },
  {
   "cell_type": "markdown",
   "id": "f1c875db-b3ec-4ece-8aa9-ee50059896ed",
   "metadata": {},
   "source": [
    "## Adam version"
   ]
  },
  {
   "cell_type": "code",
   "execution_count": 17,
   "id": "be915cc7-d499-431a-9b79-e699051b626f",
   "metadata": {
    "tags": []
   },
   "outputs": [],
   "source": [
    "import numpy as np\n",
    "import random\n",
    "import matplotlib.pyplot as plt\n",
    "from tqdm import tqdm\n",
    "\n",
    "def adam_stochastic_gradient_descent(X, y_true, \n",
    "                                     epochs=20000, \n",
    "                                     learning_rate=0.01, \n",
    "                                     beta1=0.9, \n",
    "                                     beta2=0.99, \n",
    "                                     eps=1e-8):\n",
    "\n",
    "    number_of_features = X.shape[1]  # Number of features\n",
    "    w = np.ones(shape=(number_of_features))  # Initialize weights\n",
    "    b = 0  # Initialize bias\n",
    "    total_samples = X.shape[0]  # Number of data points\n",
    "\n",
    "    # Adam optimizer parameters\n",
    "    m_w, v_w = np.zeros(shape=(number_of_features)), np.zeros(shape=(number_of_features))  # Momentum & RMS terms for weights\n",
    "    m_b, v_b = 0, 0  # Momentum & RMS terms for bias\n",
    "\n",
    "    # Tracking cost for visualization\n",
    "    cost_list, epoch_list = [], []\n",
    "\n",
    "    # Stochastic Gradient Descent Loop\n",
    "    for i in tqdm(range(1, epochs + 1)):\n",
    "        # Select a random sample (SGD)\n",
    "        random_index = random.randint(0, total_samples - 1)\n",
    "        sample_x = X[random_index]\n",
    "        sample_y = y_true[random_index]\n",
    "\n",
    "        # Compute prediction\n",
    "        y_predicted = np.dot(w, sample_x.T) + b\n",
    "\n",
    "        # Compute gradients (using one sample)\n",
    "        w_grad = -2 * (sample_x.T.dot(sample_y - y_predicted))\n",
    "        b_grad = -2 * (sample_y - y_predicted)\n",
    "\n",
    "        # Update biased first moment estimate\n",
    "        m_w = beta1 * m_w + (1 - beta1) * w_grad\n",
    "        m_b = beta1 * m_b + (1 - beta1) * b_grad\n",
    "\n",
    "        # Update biased second moment estimate\n",
    "        v_w = beta2 * v_w + (1 - beta2) * (w_grad ** 2)\n",
    "        v_b = beta2 * v_b + (1 - beta2) * (b_grad ** 2)\n",
    "\n",
    "        # Compute bias-corrected estimates\n",
    "        m_w_hat = m_w / (1 - beta1 ** i)\n",
    "        m_b_hat = m_b / (1 - beta1 ** i)\n",
    "        v_w_hat = v_w / (1 - beta2 ** i)\n",
    "        v_b_hat = v_b / (1 - beta2 ** i)\n",
    "\n",
    "        # Update parameters\n",
    "        w -= learning_rate * m_w_hat / (np.sqrt(v_w_hat) + eps)\n",
    "        b -= learning_rate * m_b_hat / (np.sqrt(v_b_hat) + eps)\n",
    "\n",
    "        # Compute cost (Mean Squared Error for one sample)\n",
    "        cost = np.square(sample_y - y_predicted)\n",
    "\n",
    "        # Store cost every 100 iterations\n",
    "        if i % 100 == 0:\n",
    "            cost_list.append(cost)\n",
    "            epoch_list.append(i)\n",
    "\n",
    "    return w, b, cost, cost_list, epoch_list\n"
   ]
  },
  {
   "cell_type": "code",
   "execution_count": 26,
   "id": "2d7b34f3-3ca6-4bb1-a841-3d09b4657273",
   "metadata": {
    "tags": []
   },
   "outputs": [],
   "source": [
    "def plot_cost(epoch_list, cost_list, title=\"Adam Optimizer - SGD Cost Reduction\"):\n",
    "    plt.figure(figsize=(6, 4))\n",
    "    plt.plot(epoch_list, cost_list)\n",
    "    plt.xlabel(\"Epochs\")\n",
    "    plt.ylabel(\"Cost (MSE)\")\n",
    "    plt.title(title)\n",
    "    plt.grid()\n",
    "    plt.show()\n"
   ]
  },
  {
   "cell_type": "code",
   "execution_count": 23,
   "id": "912240bb-88fc-4712-9d12-50a83b4dbfea",
   "metadata": {
    "tags": []
   },
   "outputs": [
    {
     "name": "stderr",
     "output_type": "stream",
     "text": [
      "100%|██████████| 20000/20000 [00:01<00:00, 14495.55it/s]\n"
     ]
    },
    {
     "data": {
      "text/plain": [
       "(array([0.88117827, 0.21340862]), -0.06989108341386063, 0.005297932689813273)"
      ]
     },
     "execution_count": 23,
     "metadata": {},
     "output_type": "execute_result"
    }
   ],
   "source": [
    "w_sgd, b_sgd, cost_sgd, cost_list_sgd, epoch_list_sgd = adam_stochastic_gradient_descent(scaled_X,scaled_y.reshape(scaled_y.shape[0],),20000)\n",
    "w_sgd, b_sgd, cost_sgd"
   ]
  },
  {
   "cell_type": "code",
   "execution_count": 20,
   "id": "13b27521-1ef8-456d-b107-6149349eedba",
   "metadata": {
    "tags": []
   },
   "outputs": [
    {
     "data": {
      "text/plain": [
       "-0.08671682272543257"
      ]
     },
     "execution_count": 20,
     "metadata": {},
     "output_type": "execute_result"
    }
   ],
   "source": [
    "b_sgd"
   ]
  },
  {
   "cell_type": "code",
   "execution_count": 27,
   "id": "46f45419-57f4-4d07-b958-84f9b2cb07a5",
   "metadata": {
    "tags": []
   },
   "outputs": [
    {
     "data": {
      "image/png": "[encoded data removed]",
      "text/plain": [
       "<Figure size 600x400 with 1 Axes>"
      ]
     },
     "metadata": {},
     "output_type": "display_data"
    }
   ],
   "source": [
    "plot_cost(epoch_list_sgd, cost_list_sgd, title=\"Adam Optimizer - SGD Cost Reduction\")"
   ]
  },
  {
   "cell_type": "code",
   "execution_count": 55,
   "id": "889c25b7-41aa-41dd-953e-c6e57df5bdc9",
   "metadata": {
    "tags": []
   },
   "outputs": [],
   "source": [
    "#For area 2600 and bedrooms 4 predict the price"
   ]
  },
  {
   "cell_type": "code",
   "execution_count": 22,
   "id": "931ca0ea-118e-4bd0-886b-710c4ea780ed",
   "metadata": {
    "tags": []
   },
   "outputs": [
    {
     "data": {
      "text/plain": [
       "119.49529164368005"
      ]
     },
     "execution_count": 22,
     "metadata": {},
     "output_type": "execute_result"
    }
   ],
   "source": [
    "predict(2600,4,w_sgd, b_sgd) "
   ]
  },
  {
   "cell_type": "markdown",
   "id": "d2727a7f-aec3-461a-90c0-7a38d37cdb4b",
   "metadata": {},
   "source": [
    "#### We have a scikit learn implementation of SGD for regression"
   ]
  },
  {
   "cell_type": "code",
   "execution_count": 28,
   "id": "e302a204-fca6-4189-985c-e4dde1461606",
   "metadata": {
    "tags": []
   },
   "outputs": [],
   "source": [
    "from sklearn.linear_model import SGDRegressor"
   ]
  },
  {
   "cell_type": "code",
   "execution_count": 29,
   "id": "209bf386-3fbc-4e84-907a-ae8abddc38c1",
   "metadata": {
    "tags": []
   },
   "outputs": [],
   "source": [
    "reg = SGDRegressor(loss='squared_error',learning_rate='constant', eta0=0.01, penalty=None,fit_intercept=True, max_iter=20000, tol=0)"
   ]
  },
  {
   "cell_type": "code",
   "execution_count": 30,
   "id": "e7615b33-3076-42e7-a4d3-1f2e075ddb7f",
   "metadata": {
    "tags": []
   },
   "outputs": [
    {
     "data": {
      "text/html": [
       "<style>#sk-container-id-1 {color: black;}#sk-container-id-1 pre{padding: 0;}#sk-container-id-1 div.sk-toggleable {background-color: white;}#sk-container-id-1 label.sk-toggleable__label {cursor: pointer;display: block;width: 100%;margin-bottom: 0;padding: 0.3em;box-sizing: border-box;text-align: center;}#sk-container-id-1 label.sk-toggleable__label-arrow:before {content: \"▸\";float: left;margin-right: 0.25em;color: #696969;}#sk-container-id-1 label.sk-toggleable__label-arrow:hover:before {color: black;}#sk-container-id-1 div.sk-estimator:hover label.sk-toggleable__label-arrow:before {color: black;}#sk-container-id-1 div.sk-toggleable__content {max-height: 0;max-width: 0;overflow: hidden;text-align: left;background-color: #f0f8ff;}#sk-container-id-1 div.sk-toggleable__content pre {margin: 0.2em;color: black;border-radius: 0.25em;background-color: #f0f8ff;}#sk-container-id-1 input.sk-toggleable__control:checked~div.sk-toggleable__content {max-height: 200px;max-width: 100%;overflow: auto;}#sk-container-id-1 input.sk-toggleable__control:checked~label.sk-toggleable__label-arrow:before {content: \"▾\";}#sk-container-id-1 div.sk-estimator input.sk-toggleable__control:checked~label.sk-toggleable__label {background-color: #d4ebff;}#sk-container-id-1 div.sk-label input.sk-toggleable__control:checked~label.sk-toggleable__label {background-color: #d4ebff;}#sk-container-id-1 input.sk-hidden--visually {border: 0;clip: rect(1px 1px 1px 1px);clip: rect(1px, 1px, 1px, 1px);height: 1px;margin: -1px;overflow: hidden;padding: 0;position: absolute;width: 1px;}#sk-container-id-1 div.sk-estimator {font-family: monospace;background-color: #f0f8ff;border: 1px dotted black;border-radius: 0.25em;box-sizing: border-box;margin-bottom: 0.5em;}#sk-container-id-1 div.sk-estimator:hover {background-color: #d4ebff;}#sk-container-id-1 div.sk-parallel-item::after {content: \"\";width: 100%;border-bottom: 1px solid gray;flex-grow: 1;}#sk-container-id-1 div.sk-label:hover label.sk-toggleable__label {background-color: #d4ebff;}#sk-container-id-1 div.sk-serial::before {content: \"\";position: absolute;border-left: 1px solid gray;box-sizing: border-box;top: 0;bottom: 0;left: 50%;z-index: 0;}#sk-container-id-1 div.sk-serial {display: flex;flex-direction: column;align-items: center;background-color: white;padding-right: 0.2em;padding-left: 0.2em;position: relative;}#sk-container-id-1 div.sk-item {position: relative;z-index: 1;}#sk-container-id-1 div.sk-parallel {display: flex;align-items: stretch;justify-content: center;background-color: white;position: relative;}#sk-container-id-1 div.sk-item::before, #sk-container-id-1 div.sk-parallel-item::before {content: \"\";position: absolute;border-left: 1px solid gray;box-sizing: border-box;top: 0;bottom: 0;left: 50%;z-index: -1;}#sk-container-id-1 div.sk-parallel-item {display: flex;flex-direction: column;z-index: 1;position: relative;background-color: white;}#sk-container-id-1 div.sk-parallel-item:first-child::after {align-self: flex-end;width: 50%;}#sk-container-id-1 div.sk-parallel-item:last-child::after {align-self: flex-start;width: 50%;}#sk-container-id-1 div.sk-parallel-item:only-child::after {width: 0;}#sk-container-id-1 div.sk-dashed-wrapped {border: 1px dashed gray;margin: 0 0.4em 0.5em 0.4em;box-sizing: border-box;padding-bottom: 0.4em;background-color: white;}#sk-container-id-1 div.sk-label label {font-family: monospace;font-weight: bold;display: inline-block;line-height: 1.2em;}#sk-container-id-1 div.sk-label-container {text-align: center;}#sk-container-id-1 div.sk-container {/* jupyter's `normalize.less` sets `[hidden] { display: none; }` but bootstrap.min.css set `[hidden] { display: none !important; }` so we also need the `!important` here to be able to override the default hidden behavior on the sphinx rendered scikit-learn.org. See: https://github.com/scikit-learn/scikit-learn/issues/21755 */display: inline-block !important;position: relative;}#sk-container-id-1 div.sk-text-repr-fallback {display: none;}</style><div id=\"sk-container-id-1\" class=\"sk-top-container\"><div class=\"sk-text-repr-fallback\"><pre>SGDRegressor(learning_rate=&#x27;constant&#x27;, max_iter=20000, penalty=None, tol=0)</pre><b>In a Jupyter environment, please rerun this cell to show the HTML representation or trust the notebook. <br />On GitHub, the HTML representation is unable to render, please try loading this page with nbviewer.org.</b></div><div class=\"sk-container\" hidden><div class=\"sk-item\"><div class=\"sk-estimator sk-toggleable\"><input class=\"sk-toggleable__control sk-hidden--visually\" id=\"sk-estimator-id-1\" type=\"checkbox\" checked><label for=\"sk-estimator-id-1\" class=\"sk-toggleable__label sk-toggleable__label-arrow\">SGDRegressor</label><div class=\"sk-toggleable__content\"><pre>SGDRegressor(learning_rate=&#x27;constant&#x27;, max_iter=20000, penalty=None, tol=0)</pre></div></div></div></div></div>"
      ],
      "text/plain": [
       "SGDRegressor(learning_rate='constant', max_iter=20000, penalty=None, tol=0)"
      ]
     },
     "execution_count": 30,
     "metadata": {},
     "output_type": "execute_result"
    }
   ],
   "source": [
    "reg.fit(scaled_X,scaled_y.reshape(scaled_y.shape[0],))"
   ]
  },
  {
   "cell_type": "code",
   "execution_count": 31,
   "id": "548758c6-b675-46b9-b6d9-c7878a983b82",
   "metadata": {
    "tags": []
   },
   "outputs": [
    {
     "data": {
      "text/plain": [
       "(array([0.83245577, 0.31743614]), array([-0.09691726]))"
      ]
     },
     "execution_count": 31,
     "metadata": {},
     "output_type": "execute_result"
    }
   ],
   "source": [
    "reg.coef_ ,reg.intercept_"
   ]
  },
  {
   "cell_type": "code",
   "execution_count": 32,
   "id": "1789c67f-37b0-4c44-9f9d-271746f99f5f",
   "metadata": {
    "tags": []
   },
   "outputs": [
    {
     "data": {
      "text/plain": [
       "array([[120.81063083]])"
      ]
     },
     "execution_count": 32,
     "metadata": {},
     "output_type": "execute_result"
    }
   ],
   "source": [
    "scaled_X_predict = sx.transform([[2600, 4]])\n",
    "pred = reg.predict(scaled_X_predict)\n",
    "sy.inverse_transform(pred.reshape(-1, 1))"
   ]
  },
  {
   "cell_type": "markdown",
   "id": "cb464ce8-8471-4467-9628-f65efc62b873",
   "metadata": {},
   "source": [
    "See the [documentation](https://scikit-learn.org/stable/modules/generated/sklearn.linear_model.SGDRegressor.html) for more details on the parameters."
   ]
  },
  {
   "cell_type": "markdown",
   "id": "39739344-170f-4d22-9646-cebd86a69d78",
   "metadata": {},
   "source": [
    "### On a materials dataset"
   ]
  },
  {
   "cell_type": "code",
   "execution_count": 33,
   "id": "566cd255-e9f2-46a8-bdcc-a62330915d22",
   "metadata": {
    "tags": []
   },
   "outputs": [
    {
     "data": {
      "text/html": [
       "<div>\n",
       "<style scoped>\n",
       "    .dataframe tbody tr th:only-of-type {\n",
       "        vertical-align: middle;\n",
       "    }\n",
       "\n",
       "    .dataframe tbody tr th {\n",
       "        vertical-align: top;\n",
       "    }\n",
       "\n",
       "    .dataframe thead th {\n",
       "        text-align: right;\n",
       "    }\n",
       "</style>\n",
       "<table border=\"1\" class=\"dataframe\">\n",
       "  <thead>\n",
       "    <tr style=\"text-align: right;\">\n",
       "      <th></th>\n",
       "      <th>Number</th>\n",
       "      <th>MendeleevNumber</th>\n",
       "      <th>AtomicWeight</th>\n",
       "      <th>MeltingT</th>\n",
       "      <th>Column</th>\n",
       "      <th>Row</th>\n",
       "      <th>CovalentRadius</th>\n",
       "      <th>Electronegativity</th>\n",
       "      <th>NsValence</th>\n",
       "      <th>NpValence</th>\n",
       "      <th>...</th>\n",
       "      <th>NsUnfilled</th>\n",
       "      <th>NpUnfilled</th>\n",
       "      <th>NdUnfilled</th>\n",
       "      <th>NfUnfilled</th>\n",
       "      <th>NUnfilled</th>\n",
       "      <th>GSvolume_pa</th>\n",
       "      <th>GSbandgap</th>\n",
       "      <th>GSmagmom</th>\n",
       "      <th>SpaceGroupNumber</th>\n",
       "      <th>K_VRH</th>\n",
       "    </tr>\n",
       "  </thead>\n",
       "  <tbody>\n",
       "    <tr>\n",
       "      <th>0</th>\n",
       "      <td>18.0</td>\n",
       "      <td>95.666667</td>\n",
       "      <td>40.598269</td>\n",
       "      <td>74.263333</td>\n",
       "      <td>17.333333</td>\n",
       "      <td>2.666667</td>\n",
       "      <td>76.666667</td>\n",
       "      <td>3.653333</td>\n",
       "      <td>2.0</td>\n",
       "      <td>5.333333</td>\n",
       "      <td>...</td>\n",
       "      <td>0.0</td>\n",
       "      <td>0.666667</td>\n",
       "      <td>0.0</td>\n",
       "      <td>0.0</td>\n",
       "      <td>0.666667</td>\n",
       "      <td>18.491667</td>\n",
       "      <td>3.8250</td>\n",
       "      <td>0.0</td>\n",
       "      <td>85.000</td>\n",
       "      <td>42.0</td>\n",
       "    </tr>\n",
       "    <tr>\n",
       "      <th>1</th>\n",
       "      <td>17.8</td>\n",
       "      <td>64.300000</td>\n",
       "      <td>39.374732</td>\n",
       "      <td>158.536000</td>\n",
       "      <td>11.800000</td>\n",
       "      <td>3.000000</td>\n",
       "      <td>110.700000</td>\n",
       "      <td>2.815000</td>\n",
       "      <td>1.7</td>\n",
       "      <td>3.100000</td>\n",
       "      <td>...</td>\n",
       "      <td>0.3</td>\n",
       "      <td>1.100000</td>\n",
       "      <td>0.0</td>\n",
       "      <td>0.0</td>\n",
       "      <td>1.400000</td>\n",
       "      <td>33.165417</td>\n",
       "      <td>1.1820</td>\n",
       "      <td>0.0</td>\n",
       "      <td>84.100</td>\n",
       "      <td>15.0</td>\n",
       "    </tr>\n",
       "    <tr>\n",
       "      <th>2</th>\n",
       "      <td>23.0</td>\n",
       "      <td>88.625000</td>\n",
       "      <td>54.161302</td>\n",
       "      <td>132.550000</td>\n",
       "      <td>16.000000</td>\n",
       "      <td>2.875000</td>\n",
       "      <td>76.625000</td>\n",
       "      <td>3.480000</td>\n",
       "      <td>2.0</td>\n",
       "      <td>4.000000</td>\n",
       "      <td>...</td>\n",
       "      <td>0.0</td>\n",
       "      <td>1.250000</td>\n",
       "      <td>0.0</td>\n",
       "      <td>0.0</td>\n",
       "      <td>1.250000</td>\n",
       "      <td>14.595948</td>\n",
       "      <td>1.4775</td>\n",
       "      <td>0.0</td>\n",
       "      <td>49.625</td>\n",
       "      <td>3.0</td>\n",
       "    </tr>\n",
       "    <tr>\n",
       "      <th>3</th>\n",
       "      <td>10.0</td>\n",
       "      <td>82.375000</td>\n",
       "      <td>20.369348</td>\n",
       "      <td>158.393750</td>\n",
       "      <td>15.000000</td>\n",
       "      <td>2.375000</td>\n",
       "      <td>84.500000</td>\n",
       "      <td>2.721250</td>\n",
       "      <td>2.0</td>\n",
       "      <td>3.000000</td>\n",
       "      <td>...</td>\n",
       "      <td>0.0</td>\n",
       "      <td>3.000000</td>\n",
       "      <td>0.0</td>\n",
       "      <td>0.0</td>\n",
       "      <td>3.000000</td>\n",
       "      <td>17.694308</td>\n",
       "      <td>4.6325</td>\n",
       "      <td>0.0</td>\n",
       "      <td>122.000</td>\n",
       "      <td>145.0</td>\n",
       "    </tr>\n",
       "    <tr>\n",
       "      <th>4</th>\n",
       "      <td>8.4</td>\n",
       "      <td>69.000000</td>\n",
       "      <td>16.998934</td>\n",
       "      <td>119.664000</td>\n",
       "      <td>12.800000</td>\n",
       "      <td>2.200000</td>\n",
       "      <td>87.000000</td>\n",
       "      <td>2.858000</td>\n",
       "      <td>1.8</td>\n",
       "      <td>3.000000</td>\n",
       "      <td>...</td>\n",
       "      <td>0.2</td>\n",
       "      <td>1.800000</td>\n",
       "      <td>0.0</td>\n",
       "      <td>0.0</td>\n",
       "      <td>2.000000</td>\n",
       "      <td>14.265417</td>\n",
       "      <td>1.2874</td>\n",
       "      <td>0.0</td>\n",
       "      <td>91.800</td>\n",
       "      <td>27.0</td>\n",
       "    </tr>\n",
       "  </tbody>\n",
       "</table>\n",
       "<p>5 rows × 23 columns</p>\n",
       "</div>"
      ],
      "text/plain": [
       "   Number  MendeleevNumber  AtomicWeight    MeltingT     Column       Row  \\\n",
       "0    18.0        95.666667     40.598269   74.263333  17.333333  2.666667   \n",
       "1    17.8        64.300000     39.374732  158.536000  11.800000  3.000000   \n",
       "2    23.0        88.625000     54.161302  132.550000  16.000000  2.875000   \n",
       "3    10.0        82.375000     20.369348  158.393750  15.000000  2.375000   \n",
       "4     8.4        69.000000     16.998934  119.664000  12.800000  2.200000   \n",
       "\n",
       "   CovalentRadius  Electronegativity  NsValence  NpValence  ...  NsUnfilled  \\\n",
       "0       76.666667           3.653333        2.0   5.333333  ...         0.0   \n",
       "1      110.700000           2.815000        1.7   3.100000  ...         0.3   \n",
       "2       76.625000           3.480000        2.0   4.000000  ...         0.0   \n",
       "3       84.500000           2.721250        2.0   3.000000  ...         0.0   \n",
       "4       87.000000           2.858000        1.8   3.000000  ...         0.2   \n",
       "\n",
       "   NpUnfilled  NdUnfilled  NfUnfilled  NUnfilled  GSvolume_pa  GSbandgap  \\\n",
       "0    0.666667         0.0         0.0   0.666667    18.491667     3.8250   \n",
       "1    1.100000         0.0         0.0   1.400000    33.165417     1.1820   \n",
       "2    1.250000         0.0         0.0   1.250000    14.595948     1.4775   \n",
       "3    3.000000         0.0         0.0   3.000000    17.694308     4.6325   \n",
       "4    1.800000         0.0         0.0   2.000000    14.265417     1.2874   \n",
       "\n",
       "   GSmagmom  SpaceGroupNumber  K_VRH  \n",
       "0       0.0            85.000   42.0  \n",
       "1       0.0            84.100   15.0  \n",
       "2       0.0            49.625    3.0  \n",
       "3       0.0           122.000  145.0  \n",
       "4       0.0            91.800   27.0  \n",
       "\n",
       "[5 rows x 23 columns]"
      ]
     },
     "execution_count": 33,
     "metadata": {},
     "output_type": "execute_result"
    }
   ],
   "source": [
    "data = pd.read_csv('K_VRH.csv')\n",
    "data.head()"
   ]
  },
  {
   "cell_type": "code",
   "execution_count": 34,
   "id": "e96e439c-6f3b-4f2c-a8d6-2c634d8f8078",
   "metadata": {
    "tags": []
   },
   "outputs": [],
   "source": [
    "data = data.sample(frac=1) # Shuffling the rows"
   ]
  },
  {
   "cell_type": "markdown",
   "id": "9607e0a8-a252-46c6-815c-756f1650cd27",
   "metadata": {},
   "source": [
    "#### Separate X and y data"
   ]
  },
  {
   "cell_type": "code",
   "execution_count": 35,
   "id": "be498374-abbf-4316-be44-83e9084cb50d",
   "metadata": {
    "tags": []
   },
   "outputs": [
    {
     "data": {
      "text/html": [
       "<div>\n",
       "<style scoped>\n",
       "    .dataframe tbody tr th:only-of-type {\n",
       "        vertical-align: middle;\n",
       "    }\n",
       "\n",
       "    .dataframe tbody tr th {\n",
       "        vertical-align: top;\n",
       "    }\n",
       "\n",
       "    .dataframe thead th {\n",
       "        text-align: right;\n",
       "    }\n",
       "</style>\n",
       "<table border=\"1\" class=\"dataframe\">\n",
       "  <thead>\n",
       "    <tr style=\"text-align: right;\">\n",
       "      <th></th>\n",
       "      <th>Number</th>\n",
       "      <th>MendeleevNumber</th>\n",
       "      <th>AtomicWeight</th>\n",
       "      <th>MeltingT</th>\n",
       "      <th>Column</th>\n",
       "      <th>Row</th>\n",
       "      <th>CovalentRadius</th>\n",
       "      <th>Electronegativity</th>\n",
       "      <th>NsValence</th>\n",
       "      <th>NpValence</th>\n",
       "      <th>...</th>\n",
       "      <th>NValence</th>\n",
       "      <th>NsUnfilled</th>\n",
       "      <th>NpUnfilled</th>\n",
       "      <th>NdUnfilled</th>\n",
       "      <th>NfUnfilled</th>\n",
       "      <th>NUnfilled</th>\n",
       "      <th>GSvolume_pa</th>\n",
       "      <th>GSbandgap</th>\n",
       "      <th>GSmagmom</th>\n",
       "      <th>SpaceGroupNumber</th>\n",
       "    </tr>\n",
       "  </thead>\n",
       "  <tbody>\n",
       "    <tr>\n",
       "      <th>229</th>\n",
       "      <td>21.250000</td>\n",
       "      <td>72.250</td>\n",
       "      <td>44.918025</td>\n",
       "      <td>1078.6225</td>\n",
       "      <td>12.25</td>\n",
       "      <td>3.500000</td>\n",
       "      <td>120.250000</td>\n",
       "      <td>2.180000</td>\n",
       "      <td>1.500000</td>\n",
       "      <td>2.000000</td>\n",
       "      <td>...</td>\n",
       "      <td>7.250000</td>\n",
       "      <td>0.500000</td>\n",
       "      <td>1.000000</td>\n",
       "      <td>1.25</td>\n",
       "      <td>0.0</td>\n",
       "      <td>2.750000</td>\n",
       "      <td>18.458437</td>\n",
       "      <td>1.1010</td>\n",
       "      <td>0.000000</td>\n",
       "      <td>148.500000</td>\n",
       "    </tr>\n",
       "    <tr>\n",
       "      <th>108</th>\n",
       "      <td>40.500000</td>\n",
       "      <td>79.375</td>\n",
       "      <td>95.279000</td>\n",
       "      <td>678.8675</td>\n",
       "      <td>14.00</td>\n",
       "      <td>4.375000</td>\n",
       "      <td>126.875000</td>\n",
       "      <td>2.245000</td>\n",
       "      <td>1.750000</td>\n",
       "      <td>2.250000</td>\n",
       "      <td>...</td>\n",
       "      <td>15.750000</td>\n",
       "      <td>0.250000</td>\n",
       "      <td>1.500000</td>\n",
       "      <td>0.00</td>\n",
       "      <td>0.0</td>\n",
       "      <td>1.750000</td>\n",
       "      <td>23.042823</td>\n",
       "      <td>0.3995</td>\n",
       "      <td>0.000000</td>\n",
       "      <td>101.625000</td>\n",
       "    </tr>\n",
       "    <tr>\n",
       "      <th>363</th>\n",
       "      <td>21.750000</td>\n",
       "      <td>56.500</td>\n",
       "      <td>46.634635</td>\n",
       "      <td>1624.1175</td>\n",
       "      <td>8.25</td>\n",
       "      <td>3.750000</td>\n",
       "      <td>136.250000</td>\n",
       "      <td>1.702500</td>\n",
       "      <td>2.000000</td>\n",
       "      <td>0.250000</td>\n",
       "      <td>...</td>\n",
       "      <td>5.750000</td>\n",
       "      <td>0.000000</td>\n",
       "      <td>1.250000</td>\n",
       "      <td>4.00</td>\n",
       "      <td>0.0</td>\n",
       "      <td>5.250000</td>\n",
       "      <td>13.657500</td>\n",
       "      <td>0.0000</td>\n",
       "      <td>1.055337</td>\n",
       "      <td>219.250000</td>\n",
       "    </tr>\n",
       "    <tr>\n",
       "      <th>15</th>\n",
       "      <td>13.600000</td>\n",
       "      <td>49.400</td>\n",
       "      <td>28.683620</td>\n",
       "      <td>318.5000</td>\n",
       "      <td>9.20</td>\n",
       "      <td>2.800000</td>\n",
       "      <td>117.000000</td>\n",
       "      <td>2.066000</td>\n",
       "      <td>1.600000</td>\n",
       "      <td>1.600000</td>\n",
       "      <td>...</td>\n",
       "      <td>5.200000</td>\n",
       "      <td>0.400000</td>\n",
       "      <td>0.800000</td>\n",
       "      <td>0.00</td>\n",
       "      <td>0.0</td>\n",
       "      <td>1.200000</td>\n",
       "      <td>24.374000</td>\n",
       "      <td>0.0000</td>\n",
       "      <td>0.000000</td>\n",
       "      <td>135.200000</td>\n",
       "    </tr>\n",
       "    <tr>\n",
       "      <th>9</th>\n",
       "      <td>15.333333</td>\n",
       "      <td>31.000</td>\n",
       "      <td>31.398667</td>\n",
       "      <td>242.6200</td>\n",
       "      <td>6.00</td>\n",
       "      <td>3.333333</td>\n",
       "      <td>157.333333</td>\n",
       "      <td>1.693333</td>\n",
       "      <td>1.333333</td>\n",
       "      <td>1.333333</td>\n",
       "      <td>...</td>\n",
       "      <td>2.666667</td>\n",
       "      <td>0.666667</td>\n",
       "      <td>0.666667</td>\n",
       "      <td>0.00</td>\n",
       "      <td>0.0</td>\n",
       "      <td>1.333333</td>\n",
       "      <td>51.772778</td>\n",
       "      <td>0.0000</td>\n",
       "      <td>0.000000</td>\n",
       "      <td>156.666667</td>\n",
       "    </tr>\n",
       "  </tbody>\n",
       "</table>\n",
       "<p>5 rows × 22 columns</p>\n",
       "</div>"
      ],
      "text/plain": [
       "        Number  MendeleevNumber  AtomicWeight   MeltingT  Column       Row  \\\n",
       "229  21.250000           72.250     44.918025  1078.6225   12.25  3.500000   \n",
       "108  40.500000           79.375     95.279000   678.8675   14.00  4.375000   \n",
       "363  21.750000           56.500     46.634635  1624.1175    8.25  3.750000   \n",
       "15   13.600000           49.400     28.683620   318.5000    9.20  2.800000   \n",
       "9    15.333333           31.000     31.398667   242.6200    6.00  3.333333   \n",
       "\n",
       "     CovalentRadius  Electronegativity  NsValence  NpValence  ...   NValence  \\\n",
       "229      120.250000           2.180000   1.500000   2.000000  ...   7.250000   \n",
       "108      126.875000           2.245000   1.750000   2.250000  ...  15.750000   \n",
       "363      136.250000           1.702500   2.000000   0.250000  ...   5.750000   \n",
       "15       117.000000           2.066000   1.600000   1.600000  ...   5.200000   \n",
       "9        157.333333           1.693333   1.333333   1.333333  ...   2.666667   \n",
       "\n",
       "     NsUnfilled  NpUnfilled  NdUnfilled  NfUnfilled  NUnfilled  GSvolume_pa  \\\n",
       "229    0.500000    1.000000        1.25         0.0   2.750000    18.458437   \n",
       "108    0.250000    1.500000        0.00         0.0   1.750000    23.042823   \n",
       "363    0.000000    1.250000        4.00         0.0   5.250000    13.657500   \n",
       "15     0.400000    0.800000        0.00         0.0   1.200000    24.374000   \n",
       "9      0.666667    0.666667        0.00         0.0   1.333333    51.772778   \n",
       "\n",
       "     GSbandgap  GSmagmom  SpaceGroupNumber  \n",
       "229     1.1010  0.000000        148.500000  \n",
       "108     0.3995  0.000000        101.625000  \n",
       "363     0.0000  1.055337        219.250000  \n",
       "15      0.0000  0.000000        135.200000  \n",
       "9       0.0000  0.000000        156.666667  \n",
       "\n",
       "[5 rows x 22 columns]"
      ]
     },
     "execution_count": 35,
     "metadata": {},
     "output_type": "execute_result"
    }
   ],
   "source": [
    "Xcols = data.columns[:-1]\n",
    "X = data[Xcols]\n",
    "#X = data[['GSvolume_pa','MeltingT','NValence']]\n",
    "X.head()"
   ]
  },
  {
   "cell_type": "code",
   "execution_count": 36,
   "id": "8f9dcd72-db26-48e2-93c1-0df4e40a0241",
   "metadata": {
    "tags": []
   },
   "outputs": [
    {
     "data": {
      "text/plain": [
       "(479, 22)"
      ]
     },
     "execution_count": 36,
     "metadata": {},
     "output_type": "execute_result"
    }
   ],
   "source": [
    "X.shape"
   ]
  },
  {
   "cell_type": "code",
   "execution_count": 37,
   "id": "605242b3-4ac4-4dfa-8078-bb6a83212a16",
   "metadata": {
    "tags": []
   },
   "outputs": [
    {
     "data": {
      "text/plain": [
       "Index(['Number', 'MendeleevNumber', 'AtomicWeight', 'MeltingT', 'Column',\n",
       "       'Row', 'CovalentRadius', 'Electronegativity', 'NsValence', 'NpValence',\n",
       "       'NdValence', 'NfValence', 'NValence', 'NsUnfilled', 'NpUnfilled',\n",
       "       'NdUnfilled', 'NfUnfilled', 'NUnfilled', 'GSvolume_pa', 'GSbandgap',\n",
       "       'GSmagmom', 'SpaceGroupNumber'],\n",
       "      dtype='object')"
      ]
     },
     "execution_count": 37,
     "metadata": {},
     "output_type": "execute_result"
    }
   ],
   "source": [
    "X.columns"
   ]
  },
  {
   "cell_type": "code",
   "execution_count": 38,
   "id": "6c08704d-4a2d-4678-bec5-6f7cb9390101",
   "metadata": {
    "tags": []
   },
   "outputs": [
    {
     "data": {
      "text/plain": [
       "<Axes: >"
      ]
     },
     "execution_count": 38,
     "metadata": {},
     "output_type": "execute_result"
    },
    {
     "data": {
      "image/png": "[encoded data removed]",
      "text/plain": [
       "<Figure size 640x480 with 2 Axes>"
      ]
     },
     "metadata": {},
     "output_type": "display_data"
    }
   ],
   "source": [
    "import seaborn as sns\n",
    "\n",
    "sns.heatmap(data.corr())"
   ]
  },
  {
   "cell_type": "code",
   "execution_count": 39,
   "id": "eb34e428-3177-4b43-81bd-bbf95a0b895b",
   "metadata": {
    "tags": []
   },
   "outputs": [
    {
     "data": {
      "text/plain": [
       "229     94.0\n",
       "108     53.0\n",
       "363    185.0\n",
       "15      58.0\n",
       "9       27.0\n",
       "       ...  \n",
       "442    119.0\n",
       "441    126.0\n",
       "375     70.0\n",
       "313     74.0\n",
       "46       4.0\n",
       "Name: K_VRH, Length: 479, dtype: float64"
      ]
     },
     "execution_count": 39,
     "metadata": {},
     "output_type": "execute_result"
    }
   ],
   "source": [
    "y = data['K_VRH'] # The Bulk modulus\n",
    "y"
   ]
  },
  {
   "cell_type": "markdown",
   "id": "54b591b9-a7f2-4a7f-83bc-8a4c63f127b2",
   "metadata": {},
   "source": [
    "#### Transform the dataset"
   ]
  },
  {
   "cell_type": "code",
   "execution_count": 40,
   "id": "bf43a5f6-2de4-49cb-b833-8df1be95d573",
   "metadata": {
    "tags": []
   },
   "outputs": [],
   "source": [
    "sx = MinMaxScaler()\n",
    "sy = MinMaxScaler()\n",
    "\n",
    "scaled_X_mat = sx.fit_transform(X.values)\n",
    "scaled_y_mat = sy.fit_transform(y.values.reshape(-1, 1))\n"
   ]
  },
  {
   "cell_type": "markdown",
   "id": "8aa302a0-0c91-4e73-977c-62c75a2aee1d",
   "metadata": {},
   "source": [
    "#### Using Batch Gradient Descent"
   ]
  },
  {
   "cell_type": "code",
   "execution_count": 44,
   "id": "5404cfce-f2b7-48ae-8d29-e0b3ab75db7f",
   "metadata": {
    "tags": []
   },
   "outputs": [
    {
     "data": {
      "text/plain": [
       "(array([-0.08010052,  0.05147075, -0.01715126,  0.52194703,  0.16924633,\n",
       "         0.07480027,  0.05797287,  0.48297801,  0.09312491, -0.44775125,\n",
       "        -0.00243659,  0.11662589, -0.24874843,  0.0855699 ,  0.170308  ,\n",
       "         0.23298663,  0.11208578, -0.26113854, -0.21190354,  0.03026142,\n",
       "         0.07623202, -0.08462453]),\n",
       " -0.08668626977880464,\n",
       " 0.013070018647463336)"
      ]
     },
     "execution_count": 44,
     "metadata": {},
     "output_type": "execute_result"
    }
   ],
   "source": [
    "w, b, cost, cost_list, epoch_list = batch_gradient_descent(scaled_X_mat,scaled_y_mat.reshape(scaled_y_mat.shape[0],),100000)\n",
    "w, b, cost"
   ]
  },
  {
   "cell_type": "code",
   "execution_count": 54,
   "id": "d4510fb9-aaa2-4147-94df-50ef13c606c6",
   "metadata": {
    "tags": []
   },
   "outputs": [
    {
     "data": {
      "text/plain": [
       "(1, 22)"
      ]
     },
     "execution_count": 54,
     "metadata": {},
     "output_type": "execute_result"
    }
   ],
   "source": [
    "w.reshape(1,-1).shape"
   ]
  },
  {
   "cell_type": "code",
   "execution_count": 60,
   "id": "9d1d5d53-ce7f-43c5-adfa-ac524871b3ca",
   "metadata": {
    "tags": []
   },
   "outputs": [
    {
     "data": {
      "text/plain": [
       "(22, 479)"
      ]
     },
     "execution_count": 60,
     "metadata": {},
     "output_type": "execute_result"
    }
   ],
   "source": [
    "scaled_X_mat.T.shape"
   ]
  },
  {
   "cell_type": "code",
   "execution_count": 45,
   "id": "adf7f361-4cef-4927-9e55-da33f842f383",
   "metadata": {
    "tags": []
   },
   "outputs": [
    {
     "data": {
      "text/plain": [
       "[<matplotlib.lines.Line2D at 0x139a95f8ad0>]"
      ]
     },
     "execution_count": 45,
     "metadata": {},
     "output_type": "execute_result"
    },
    {
     "data": {
      "image/png": "[encoded data removed]",
      "text/plain": [
       "<Figure size 640x480 with 1 Axes>"
      ]
     },
     "metadata": {},
     "output_type": "display_data"
    }
   ],
   "source": [
    "plt.xlabel(\"epoch\",size=15)\n",
    "plt.ylabel(\"Cost-Bulk Modulus\",size=15)\n",
    "plt.plot(epoch_list,cost_list)"
   ]
  },
  {
   "cell_type": "markdown",
   "id": "f32d28db-0020-4869-a249-c366ace9f291",
   "metadata": {},
   "source": [
    "#### The final MSE error"
   ]
  },
  {
   "cell_type": "code",
   "execution_count": 51,
   "id": "546b5a84-6c04-4c2c-b706-8e68d139b4f2",
   "metadata": {
    "tags": []
   },
   "outputs": [],
   "source": [
    "predict = np.matmul(w.reshape(1, -1),scaled_X_mat.T)+b\n",
    "\n",
    "predict_actual_scale = sy.inverse_transform(predict).T\n"
   ]
  },
  {
   "cell_type": "code",
   "execution_count": 64,
   "id": "3abd00c9-759d-4feb-9746-1a8c721df9d2",
   "metadata": {
    "tags": []
   },
   "outputs": [],
   "source": [
    "#predict_actual_scale"
   ]
  },
  {
   "cell_type": "code",
   "execution_count": null,
   "id": "6d1391a2-9a41-4465-b460-6beec38148ef",
   "metadata": {
    "tags": []
   },
   "outputs": [],
   "source": []
  },
  {
   "cell_type": "code",
   "execution_count": 68,
   "id": "173d2725-9ae4-4f37-812d-139e25f292b4",
   "metadata": {
    "tags": []
   },
   "outputs": [
    {
     "data": {
      "text/plain": [
       "1355.151737008584"
      ]
     },
     "execution_count": 68,
     "metadata": {},
     "output_type": "execute_result"
    }
   ],
   "source": [
    "MSE = np.mean(np.square(predict_actual_scale.flatten()-y))\n",
    "MSE"
   ]
  },
  {
   "cell_type": "markdown",
   "id": "d64593c1-a2a8-4db3-9ac4-3050caf5d0cd",
   "metadata": {},
   "source": [
    "###  Parity plot"
   ]
  },
  {
   "cell_type": "code",
   "execution_count": 71,
   "id": "21e21484-a64e-4b06-aae0-6113d15d46e0",
   "metadata": {
    "tags": []
   },
   "outputs": [
    {
     "data": {
      "text/plain": [
       "Text(0, 0.5, 'Target-K (GPa)')"
      ]
     },
     "execution_count": 71,
     "metadata": {},
     "output_type": "execute_result"
    },
    {
     "data": {
      "image/png": "[encoded data removed]",
      "text/plain": [
       "<Figure size 640x480 with 1 Axes>"
      ]
     },
     "metadata": {},
     "output_type": "display_data"
    }
   ],
   "source": [
    "plt.scatter(predict_actual_scale.flatten(),y)\n",
    "\n",
    "plt.xlabel(\"Predicted-K (GPa)\",size=15)\n",
    "plt.ylabel(\"Target-K (GPa)\",size=15)"
   ]
  },
  {
   "cell_type": "markdown",
   "id": "a18caac6-0868-4e88-8487-e4559d3e9648",
   "metadata": {},
   "source": [
    "### Using Stochastic Gradient Descent"
   ]
  },
  {
   "cell_type": "code",
   "execution_count": 72,
   "id": "9128955d-665c-404f-a134-332a5f78fe9e",
   "metadata": {
    "tags": []
   },
   "outputs": [
    {
     "data": {
      "text/plain": [
       "(array([ 0.14188447,  0.06601248,  0.17158953,  0.44041528,  0.17063974,\n",
       "        -0.03143413, -0.01104896,  0.45076958, -0.23287921,  0.6035468 ,\n",
       "         0.21929733,  0.54981535,  0.31610698,  0.71666514,  0.55349115,\n",
       "         0.59978598,  0.74656941,  0.46352983,  0.51707111,  0.84456036,\n",
       "         0.92212336,  0.03944406]),\n",
       " -1.4083700683060256,\n",
       " 0.3157266581064741)"
      ]
     },
     "execution_count": 72,
     "metadata": {},
     "output_type": "execute_result"
    }
   ],
   "source": [
    "w_sgd, b_sgd, cost_sgd, cost_list_sgd, epoch_list_sgd = stochastic_gradient_descent(scaled_X_mat,scaled_y_mat.reshape(scaled_y_mat.shape[0],),100000)\n",
    "w_sgd, b_sgd, cost_sgd"
   ]
  },
  {
   "cell_type": "code",
   "execution_count": 73,
   "id": "340ac21d-eaa4-402d-8311-e4e6aaac60b0",
   "metadata": {
    "tags": []
   },
   "outputs": [
    {
     "data": {
      "text/plain": [
       "[<matplotlib.lines.Line2D at 0x139ada49bd0>]"
      ]
     },
     "execution_count": 73,
     "metadata": {},
     "output_type": "execute_result"
    },
    {
     "data": {
      "image/png": "[encoded data removed]",
      "text/plain": [
       "<Figure size 640x480 with 1 Axes>"
      ]
     },
     "metadata": {},
     "output_type": "display_data"
    }
   ],
   "source": [
    "plt.xlabel(\"epoch\",size=15)\n",
    "plt.ylabel(\"Cost-Bulk Modulus\",size=15)\n",
    "plt.plot(epoch_list_sgd,cost_list_sgd)"
   ]
  },
  {
   "cell_type": "code",
   "execution_count": 74,
   "id": "2fad9fde-eacd-4de0-b45e-f1f5a8e1f377",
   "metadata": {
    "tags": []
   },
   "outputs": [],
   "source": [
    "predict = np.matmul(w_sgd.reshape(1, -1),scaled_X_mat.T)+b_sgd\n",
    "\n",
    "predict_actual_scale = sy.inverse_transform(predict).T\n"
   ]
  },
  {
   "cell_type": "code",
   "execution_count": 75,
   "id": "4c4e9bd8-8d58-48a0-9e13-b990b687e604",
   "metadata": {
    "tags": []
   },
   "outputs": [
    {
     "data": {
      "text/plain": [
       "17432.780571840103"
      ]
     },
     "execution_count": 75,
     "metadata": {},
     "output_type": "execute_result"
    }
   ],
   "source": [
    "MSE = np.mean(np.square(predict_actual_scale.flatten()-y))\n",
    "MSE"
   ]
  },
  {
   "cell_type": "markdown",
   "id": "5f6ec698-3c75-4b53-8712-92235c53cf41",
   "metadata": {},
   "source": [
    "###  Parity plot"
   ]
  },
  {
   "cell_type": "code",
   "execution_count": 76,
   "id": "15662d2d-3540-4e6e-aca6-c66c808ada07",
   "metadata": {
    "tags": []
   },
   "outputs": [
    {
     "data": {
      "text/plain": [
       "Text(0, 0.5, 'Target-K (GPa)')"
      ]
     },
     "execution_count": 76,
     "metadata": {},
     "output_type": "execute_result"
    },
    {
     "data": {
      "image/png": "[encoded data removed]",
      "text/plain": [
       "<Figure size 640x480 with 1 Axes>"
      ]
     },
     "metadata": {},
     "output_type": "display_data"
    }
   ],
   "source": [
    "plt.scatter(predict_actual_scale.flatten(),y)\n",
    "\n",
    "plt.xlabel(\"Predicted-K (GPa)\",size=15)\n",
    "plt.ylabel(\"Target-K (GPa)\",size=15)"
   ]
  },
  {
   "cell_type": "code",
   "execution_count": null,
   "id": "60cd0833-c813-4d42-a7d0-37745d868f9e",
   "metadata": {},
   "outputs": [],
   "source": []
  }
 ],
 "metadata": {
  "kernelspec": {
   "display_name": "Python 3 (ipykernel)",
   "language": "python",
   "name": "python3"
  },
  "language_info": {
   "codemirror_mode": {
    "name": "ipython",
    "version": 3
   },
   "file_extension": ".py",
   "mimetype": "text/x-python",
   "name": "python",
   "nbconvert_exporter": "python",
   "pygments_lexer": "ipython3",
   "version": "3.11.5"
  }
 },
 "nbformat": 4,
 "nbformat_minor": 5
}
