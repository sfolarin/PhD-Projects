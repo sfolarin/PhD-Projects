{
 "cells": [
  {
   "cell_type": "markdown",
   "id": "d61483cc",
   "metadata": {},
   "source": [
    "# Basics of python programming "
   ]
  },
  {
   "cell_type": "markdown",
   "id": "19274c7d",
   "metadata": {},
   "source": [
    "\n",
    "\n",
    "### Python Programming Language\n",
    "\n",
    "\n",
    "\n",
    "\n",
    "<center><img src=\"https://www.python.org/static/img/python-logo@2x.png\" alt=\"Drawing\" style=\"width: 400px; height: 100px;\" /></center>\n",
    "\n",
    "Python is a versatile and easy-to-learn programming language known for its simplicity and readability. With a wide range of applications, from web development to data analysis and machine learning, Python's clear syntax and extensive libraries make it a popular choice for both beginners and experienced programmers.\n",
    "\n",
    "\n",
    "Visit [python.org](https://www.python.org/doc/) for more information!"
   ]
  },
  {
   "cell_type": "markdown",
   "id": "fb783f86",
   "metadata": {},
   "source": [
    "## Learning Objectives"
   ]
  },
  {
   "cell_type": "markdown",
   "id": "702463ff",
   "metadata": {},
   "source": [
    "1. [Getting Started with Jupyter](#Getting-started-with-Jupyter)\n",
    "2. [Python Basics: Variables, Strings, IO](#Python-basics)\n",
    "3. [Exploring Modules: Importing and Usage](#Exploring-modules)\n",
    "4. [Organizing Data: Lists and Dictionaries](#Organizing-data)\n",
    "5. [Playing with Variables: Math and Boolean Operations](#Playing-with-variables)\n",
    "6. [Making Choices: Conditional Operators](#Making-choices)\n",
    "7. [Looping Around: For and While Loops](#For-and-while-loops)\n",
    "8. [Understanding functions and classes](#Understanding-functions-and-classes)\n",
    "9. [Applications of Functions and Classes](#Applications-of-Functions-and-Classes)\n",
    "10. [Scientific Computing with NumPy](#Scientific-Computing-with-NumPy)\n",
    "11. [Basics of Data Science with Pandas](#Basics-of-Data-Science-with-Pandas)\n",
    "12. [Data Visualization](#Data-Visualization)\n"
   ]
  },
  {
   "cell_type": "markdown",
   "id": "9d3760ad",
   "metadata": {},
   "source": [
    " <--[Back to Top](#top)-->"
   ]
  },
  {
   "cell_type": "markdown",
   "id": "19c97e75",
   "metadata": {
    "tags": []
   },
   "source": [
    "## Getting started with Jupyter\n",
    "\n",
    "\n",
    "<center><img src=\"https://jupyter.org/assets/homepage/main-logo.svg\" alt=\"Drawing\" style=\"width: 200px; height: 250px;\" /></center>\n",
    "\n",
    "\n",
    "[Jupyter Notebook](https://jupyter.org/) is an interactive computing environment that allows you to create and share documents containing live code, equations, visualizations, and narrative text. It's widely used for data analysis, scientific computing, machine learning, and more.\n",
    "\n",
    "### Getting started\n",
    "\n",
    "For installation and running Jupyter, refer to the [documentation](https://jupyter.org/install).\n",
    "\n",
    "\n",
    "\n"
   ]
  },
  {
   "cell_type": "markdown",
   "id": "5d7dae3e",
   "metadata": {},
   "source": [
    " <--[Back to Top](#top)-->"
   ]
  },
  {
   "cell_type": "markdown",
   "id": "9b2941e6",
   "metadata": {},
   "source": [
    "## Python basics\n",
    "\n",
    "### Variables\n",
    "\n",
    "In Python, a variable is a named container used to store data. Think of it as a labeled box where you can keep different types of information, such as numbers, text, or more complex data.\n",
    "\n",
    "**Numeric** : Integers (`int`) represent whole numbers, which can be either positive or negative, and they do not have decimal points. Floating-Point Numbers (`float`) are numerical values that include decimal points or can be expressed in exponential notation.\n",
    "\n",
    "**Strings** (`str`): Strings are sequences of characters enclosed in single (`'`) or double (`\"`) quotes. They are used to represent text in Python.\n",
    "\n",
    "**Boolean** (`bool`): Represents the truth values `True` or `False`. Used for logical operations.\n",
    "\n",
    "\n",
    "#### Variable Assignment\n",
    "Variables are created through assignment. You give a name to your variable and assign a value to it using the = operator:\n"
   ]
  },
  {
   "cell_type": "code",
   "execution_count": 1,
   "id": "30a1af2b",
   "metadata": {
    "tags": []
   },
   "outputs": [],
   "source": [
    "age = 32  # Numeric type variable. \"int\" \n",
    "height = 5.5  # Numeric type variable. \"float\" \n",
    "name = \"James\" # string\n",
    "Is_female = False # Bool type"
   ]
  },
  {
   "cell_type": "markdown",
   "id": "0fc1fbdf",
   "metadata": {},
   "source": [
    "you can check the type of a variable with python's `type()` function. (We will learn about functions in a bit more detail later!)"
   ]
  },
  {
   "cell_type": "code",
   "execution_count": 2,
   "id": "151b84fb",
   "metadata": {
    "tags": []
   },
   "outputs": [
    {
     "data": {
      "text/plain": [
       "(int, float, str, bool)"
      ]
     },
     "execution_count": 2,
     "metadata": {},
     "output_type": "execute_result"
    }
   ],
   "source": [
    "type(age), type(height), type(name), type(Is_female)"
   ]
  },
  {
   "cell_type": "markdown",
   "id": "4302703a",
   "metadata": {},
   "source": [
    "### IO (Input and Output)\n",
    "\n",
    "#### Input Operations\n",
    "Using `input()` Function. \n",
    "\n",
    "The `input()` function allows you to get input from the user. It reads a line of text from the user and returns it as a string."
   ]
  },
  {
   "cell_type": "code",
   "execution_count": 5,
   "id": "8599f6ef",
   "metadata": {
    "tags": []
   },
   "outputs": [
    {
     "name": "stdout",
     "output_type": "stream",
     "text": [
      "Enter your name: Shola T\n"
     ]
    }
   ],
   "source": [
    "name = input(\"Enter your name: \")\n",
    "#print(f\"Your name is {name}\")"
   ]
  },
  {
   "cell_type": "code",
   "execution_count": 1,
   "id": "12c8ac7b-97d1-4deb-b3dd-5c53ae33e108",
   "metadata": {
    "tags": []
   },
   "outputs": [
    {
     "name": "stdin",
     "output_type": "stream",
     "text": [
      "Enter your name Shola\n"
     ]
    },
    {
     "name": "stdout",
     "output_type": "stream",
     "text": [
      "His name is Shola\n"
     ]
    }
   ],
   "source": [
    "name = input(\"Enter your name\")\n",
    "print(f\"His name is {name}\")"
   ]
  },
  {
   "cell_type": "markdown",
   "id": "859a5ae4",
   "metadata": {
    "tags": []
   },
   "source": [
    "### Output Operations\n",
    "Using `print()` Function\n",
    "The `print()` function is used to display output on the screen. You can print strings, variables, and even do formatting.\n"
   ]
  },
  {
   "cell_type": "code",
   "execution_count": 6,
   "id": "aad404d4",
   "metadata": {
    "tags": []
   },
   "outputs": [
    {
     "name": "stdout",
     "output_type": "stream",
     "text": [
      "You have inputted your name as : Shola T\n"
     ]
    }
   ],
   "source": [
    "print(\"You have inputted your name as :\", name)"
   ]
  },
  {
   "cell_type": "code",
   "execution_count": 4,
   "id": "2f1e9413",
   "metadata": {
    "tags": []
   },
   "outputs": [
    {
     "name": "stdout",
     "output_type": "stream",
     "text": [
      "You have inputted your name as : AK\n"
     ]
    }
   ],
   "source": [
    "# another way of printing using \"format()\" method\n",
    "print(\"You have inputted your name as : {}\".format(name)) "
   ]
  },
  {
   "cell_type": "markdown",
   "id": "8a0362eb",
   "metadata": {},
   "source": [
    "### Writing to a File\n",
    "You can also write output to a file using the `write()` method."
   ]
  },
  {
   "cell_type": "code",
   "execution_count": 5,
   "id": "762fea1d",
   "metadata": {
    "tags": []
   },
   "outputs": [],
   "source": [
    "with open(\"output.txt\", \"w\") as f:\n",
    "    f.write(\"You have inputted your name as : {}\".format(name))\n",
    "    \n",
    "## Read about Metadata"
   ]
  },
  {
   "cell_type": "code",
   "execution_count": 2,
   "id": "4d21677e-394d-4a18-bf1d-f541519bfd52",
   "metadata": {
    "tags": []
   },
   "outputs": [],
   "source": [
    "with open(\"out.txt\", \"w\") as f:\n",
    "    f.write('his name is {}'.format(name))"
   ]
  },
  {
   "cell_type": "markdown",
   "id": "a992a3b8",
   "metadata": {},
   "source": [
    "### Reading from a File\n",
    "You can read data from a file using the `read()` or `readlines()` method."
   ]
  },
  {
   "cell_type": "code",
   "execution_count": 6,
   "id": "7f2814d7",
   "metadata": {
    "tags": []
   },
   "outputs": [
    {
     "name": "stdout",
     "output_type": "stream",
     "text": [
      "You have inputted your name as : AK\n"
     ]
    }
   ],
   "source": [
    "with open(\"output.txt\", \"r\") as f:\n",
    "    content = f.read()\n",
    "    print(content)"
   ]
  },
  {
   "cell_type": "code",
   "execution_count": 5,
   "id": "af534ab7-e385-427f-a837-972c701a7a67",
   "metadata": {
    "tags": []
   },
   "outputs": [
    {
     "name": "stdout",
     "output_type": "stream",
     "text": [
      "His name is Shola\n"
     ]
    }
   ],
   "source": [
    "with open(\"out.txt\", \"r\") as f:\n",
    "    content = f.read()\n",
    "    print(content)"
   ]
  },
  {
   "cell_type": "markdown",
   "id": "4a232377",
   "metadata": {},
   "source": [
    "<-- [Back to Top](#top) -->"
   ]
  },
  {
   "cell_type": "markdown",
   "id": "018b7edb",
   "metadata": {},
   "source": [
    "## Exploring modules\n",
    "\n",
    "Python modules are files containing Python code, which can be used to define functions, classes, and variables. They allow you to organize your code and reuse functionality across different programs. Python comes with a variety of built-in modules, and you can also create and use your own.\n",
    "\n",
    "### Importing Modules\n",
    "To use a module, you need to import it using the `import` keyword. \n",
    "\n",
    "Example: The `math` module provides mathematical functions and constants.\n",
    "\n",
    "There are different ways to import modules.\n",
    "\n",
    "Import the entire module ---"
   ]
  },
  {
   "cell_type": "code",
   "execution_count": 7,
   "id": "c8e8f776",
   "metadata": {
    "tags": []
   },
   "outputs": [],
   "source": [
    "import math"
   ]
  },
  {
   "cell_type": "markdown",
   "id": "04733308",
   "metadata": {},
   "source": [
    "Import specific parts from a module ---"
   ]
  },
  {
   "cell_type": "code",
   "execution_count": 8,
   "id": "d99f68af",
   "metadata": {},
   "outputs": [],
   "source": [
    "from math import sqrt, pi"
   ]
  },
  {
   "cell_type": "markdown",
   "id": "b707f0f1",
   "metadata": {},
   "source": [
    "After importing a module, you can access its functions, classes, and variables using the module name and dot notation or use the specific part independently."
   ]
  },
  {
   "cell_type": "code",
   "execution_count": 9,
   "id": "4ebf175b",
   "metadata": {
    "tags": []
   },
   "outputs": [
    {
     "name": "stdout",
     "output_type": "stream",
     "text": [
      "5.0\n",
      "5.0\n",
      "3.141592653589793\n"
     ]
    }
   ],
   "source": [
    "print(math.sqrt(25))  # Square root using dot notation\n",
    "print(sqrt(25))  # Square root using the specific part directly\n",
    "print(math.pi)  # Value of pi"
   ]
  },
  {
   "cell_type": "markdown",
   "id": "c41812d4",
   "metadata": {},
   "source": [
    "#### Python's Default Modules\n",
    "\n",
    "Python comes with several default modules that cover various tasks. For example\n",
    "\n",
    "`random`: Generates random numbers.\n",
    "\n",
    "`datetime`: Dates and times manipulation.\n",
    "\n",
    "`os`: Operating system-related functions.\n"
   ]
  },
  {
   "cell_type": "markdown",
   "id": "a9e49852",
   "metadata": {},
   "source": [
    "To generate a random integer between 1 and 10 ---"
   ]
  },
  {
   "cell_type": "code",
   "execution_count": 10,
   "id": "35816021",
   "metadata": {
    "tags": []
   },
   "outputs": [
    {
     "name": "stdout",
     "output_type": "stream",
     "text": [
      "Random number: 4\n"
     ]
    }
   ],
   "source": [
    "import random\n",
    "\n",
    "random_number = random.randint(1, 10)\n",
    "\n",
    "print(\"Random number:\", random_number)"
   ]
  },
  {
   "cell_type": "markdown",
   "id": "0cc4d57e",
   "metadata": {},
   "source": [
    "Today's date ---"
   ]
  },
  {
   "cell_type": "code",
   "execution_count": 11,
   "id": "7aa7a6c5",
   "metadata": {
    "tags": []
   },
   "outputs": [
    {
     "name": "stdout",
     "output_type": "stream",
     "text": [
      "Today's date: 2023-08-18\n"
     ]
    }
   ],
   "source": [
    "from datetime import date\n",
    "\n",
    "today = date.today()\n",
    "print(\"Today's date:\", today)"
   ]
  },
  {
   "cell_type": "markdown",
   "id": "9af59e4a",
   "metadata": {},
   "source": [
    "<-- [Back to Top](#top) -->"
   ]
  },
  {
   "cell_type": "markdown",
   "id": "40653b2c",
   "metadata": {},
   "source": [
    "## Organizing data\n",
    "In Python, lists and dictionaries are powerful data structures that allow you to organize and manage collections of data in different ways.  Lists provide ordered collections, while dictionaries offer flexible key-value associations. Understanding these data structures enables you to efficiently manipulate and retrieve data within your programs.\n",
    "\n",
    "### Lists\n",
    "A list is an ordered collection of items, and each item can be of a different type. Lists are mutable, which means you can add, remove, or modify items after creation.\n",
    "\n",
    "Creating Lists ---"
   ]
  },
  {
   "cell_type": "code",
   "execution_count": 12,
   "id": "42c4c923",
   "metadata": {
    "tags": []
   },
   "outputs": [],
   "source": [
    "fruits = [\"apple\", \"banana\", \"orange\"]\n",
    "numbers = [1, 2, 3, 4, 5]\n",
    "mixed = [\"hello\", 42, True]"
   ]
  },
  {
   "cell_type": "markdown",
   "id": "d5ed43aa",
   "metadata": {},
   "source": [
    "Accessing List Items\n",
    "\n",
    "List items are accessed by their index, starting from 0 ---\n",
    "\n"
   ]
  },
  {
   "cell_type": "code",
   "execution_count": 13,
   "id": "4477ecb3",
   "metadata": {
    "tags": []
   },
   "outputs": [
    {
     "name": "stdout",
     "output_type": "stream",
     "text": [
      "apple\n"
     ]
    }
   ],
   "source": [
    "print(fruits[0]) "
   ]
  },
  {
   "cell_type": "markdown",
   "id": "4ccff96d",
   "metadata": {},
   "source": [
    "#### Modifying Lists\n",
    "You can modify list items using their index ---"
   ]
  },
  {
   "cell_type": "code",
   "execution_count": 14,
   "id": "a9d778de",
   "metadata": {
    "tags": []
   },
   "outputs": [
    {
     "name": "stdout",
     "output_type": "stream",
     "text": [
      "['apple', 'grape', 'orange']\n"
     ]
    }
   ],
   "source": [
    "fruits[1] = \"grape\"\n",
    "print(fruits)  # Output: [\"apple\", \"grape\", \"orange\"]"
   ]
  },
  {
   "cell_type": "markdown",
   "id": "160f6469",
   "metadata": {},
   "source": [
    "### Dictionaries\n",
    "A dictionary is an unordered collection of key-value pairs. Dictionaries are mutable and can store items of different types.\n",
    "\n",
    "Creating Dictionaries ---"
   ]
  },
  {
   "cell_type": "code",
   "execution_count": 7,
   "id": "3f02f5fb",
   "metadata": {
    "tags": []
   },
   "outputs": [],
   "source": [
    "person = {\n",
    "    \"name\": \"malice\",\n",
    "    \"age\": 30,\n",
    "    \"city\": \"New York\"\n",
    "}"
   ]
  },
  {
   "cell_type": "markdown",
   "id": "0fa2e5ab",
   "metadata": {
    "tags": []
   },
   "source": [
    "#### Accessing Dictionary Values\n",
    "Values in a dictionary are accessed using their keys ---"
   ]
  },
  {
   "cell_type": "code",
   "execution_count": 8,
   "id": "943c88ea",
   "metadata": {
    "tags": []
   },
   "outputs": [
    {
     "name": "stdout",
     "output_type": "stream",
     "text": [
      "malice\n"
     ]
    }
   ],
   "source": [
    "print(person[\"name\"])"
   ]
  },
  {
   "cell_type": "markdown",
   "id": "56229269",
   "metadata": {},
   "source": [
    "#### Modifying Dictionaries\n",
    "You can modify dictionary values using their keys ---"
   ]
  },
  {
   "cell_type": "code",
   "execution_count": 17,
   "id": "c77b9bac",
   "metadata": {
    "tags": []
   },
   "outputs": [
    {
     "name": "stdout",
     "output_type": "stream",
     "text": [
      "31\n"
     ]
    }
   ],
   "source": [
    "person[\"age\"] = 31\n",
    "print(person[\"age\"])  # Output: 31"
   ]
  },
  {
   "cell_type": "markdown",
   "id": "6f00b73a",
   "metadata": {},
   "source": [
    "<-- [Back to Top](#top) -->"
   ]
  },
  {
   "cell_type": "markdown",
   "id": "670afcdc",
   "metadata": {},
   "source": [
    "## Playing with variables\n",
    "\n",
    "### Math operations\n",
    "\n",
    "Now that we understand variables, we can combine them with operations. Python has many built in operations, for example\n",
    "\n",
    "| Operator     | Name           | Description                                            |\n",
    "|--------------|----------------|--------------------------------------------------------|\n",
    "| ``a + b``    | Addition       | Sum of ``a`` and ``b``                                 |\n",
    "| ``a - b``    | Subtraction    | Difference of ``a`` and ``b``                          |\n",
    "| ``a * b``    | Multiplication | Product of ``a`` and ``b``                             |\n",
    "| ``a / b``    | True division  | Quotient of ``a`` and ``b``                            |\n",
    "| ``a // b``   | Floor division | Quotient of ``a`` and ``b``, removing fractional parts |\n",
    "| ``a % b``    | Modulus        | Integer remainder after division of ``a`` by ``b``     |\n",
    "| ``a ** b``   | Exponentiation | ``a`` raised to the power of ``b``                     |\n",
    "| ``-a``       | Negation       | The negative of ``a``                                  |\n",
    "\n",
    "<span style=\"display:none\"></span>\n",
    "\n",
    "These should all be familiar to you except possibly floor division and the modulus operator, but these are both very useful in many applications. \n"
   ]
  },
  {
   "cell_type": "code",
   "execution_count": 18,
   "id": "f53872c8",
   "metadata": {
    "tags": []
   },
   "outputs": [
    {
     "name": "stdout",
     "output_type": "stream",
     "text": [
      "a+b:  13\n",
      "a-b:  7\n",
      "a*b:  30\n",
      "a/b:  3.3333333333333335\n",
      "a//b:  3\n",
      "a%b:  1\n",
      "a**b:  1000\n",
      "-a:  -10\n"
     ]
    }
   ],
   "source": [
    "a=10\n",
    "b=3\n",
    "print(\"a+b: \",a+b) \n",
    "print(\"a-b: \",a-b)\n",
    "print(\"a*b: \",a*b)\n",
    "print(\"a/b: \",a/b)\n",
    "print(\"a//b: \",a//b)\n",
    "print(\"a%b: \",a%b)\n",
    "print(\"a**b: \",a**b)\n",
    "print(\"-a: \",-a)"
   ]
  },
  {
   "cell_type": "markdown",
   "id": "fbf67dbf",
   "metadata": {},
   "source": [
    "### Boolean operations\n",
    "\n",
    "Boolean operations are essential for making comparisons and decisions in your code. They involve evaluating expressions to produce either `True` or `False` values.\n",
    "\n",
    "\n",
    "| Operator | Name           | Description                                        |\n",
    "|----------|----------------|----------------------------------------------------|\n",
    "| `==`     | Equal to       | Compares if two values are equal.                  |\n",
    "| `!=`     | Not equal to   | Compares if two values are not equal.              |\n",
    "| `<`      | Less than      | Checks if the left value is less than the right.   |\n",
    "| `>`      | Greater than   | Checks if the left value is greater than the right.|\n",
    "| `<=`     | Less or equal  | Checks if the left value is less than or equal.    |\n",
    "| `>=`     | Greater or equal| Checks if the left value is greater than or equal. |\n"
   ]
  },
  {
   "cell_type": "code",
   "execution_count": 19,
   "id": "b5907ca4",
   "metadata": {
    "tags": []
   },
   "outputs": [
    {
     "name": "stdout",
     "output_type": "stream",
     "text": [
      "a==b:  False\n",
      "a!=b:  True\n",
      "a<b:  False\n",
      "a>b:  True\n",
      "a<=b:  False\n",
      "a>=b:  True\n"
     ]
    }
   ],
   "source": [
    "a=10\n",
    "b=3\n",
    "\n",
    "print(\"a==b: \",a==b)\n",
    "print(\"a!=b: \",a!=b)\n",
    "print(\"a<b: \",a<b)\n",
    "print(\"a>b: \",a>b)\n",
    "print(\"a<=b: \",a<=b)\n",
    "print(\"a>=b: \",a>=b)"
   ]
  },
  {
   "cell_type": "markdown",
   "id": "1acca4e6",
   "metadata": {},
   "source": [
    "<-- [Back to Top](#top) -->"
   ]
  },
  {
   "cell_type": "markdown",
   "id": "73c33889",
   "metadata": {},
   "source": [
    "## Making-choices\n",
    "\n",
    "Conditional operators allow your program to make decisions based on specific conditions. They evaluate expressions and produce boolean results (`True` or `False`), enabling your code to take different paths.\n",
    "\n",
    "\n",
    "### Logical Operators\n",
    "Logical operators combine boolean values or expressions.\n",
    "\n",
    "`and`: Returns `True` if both conditions are True.\n",
    "\n",
    "`or`: Returns `True` if at least one condition is True.\n",
    "\n",
    "`not`: Returns the opposite of the boolean value.\n",
    "\n"
   ]
  },
  {
   "cell_type": "code",
   "execution_count": 20,
   "id": "0ec1d5b0",
   "metadata": {
    "tags": []
   },
   "outputs": [
    {
     "name": "stdout",
     "output_type": "stream",
     "text": [
      "True\n"
     ]
    }
   ],
   "source": [
    "is_student = True\n",
    "has_homework = False\n",
    "can_play = is_student and not has_homework  \n",
    "\n",
    "print(can_play)"
   ]
  },
  {
   "cell_type": "markdown",
   "id": "5d111f24",
   "metadata": {},
   "source": [
    "### If Statements\n",
    "The `if` statement executes code only if a condition is met."
   ]
  },
  {
   "cell_type": "code",
   "execution_count": 21,
   "id": "b597aad8",
   "metadata": {
    "tags": []
   },
   "outputs": [
    {
     "name": "stdout",
     "output_type": "stream",
     "text": [
      "It's a hot day!\n"
     ]
    }
   ],
   "source": [
    "temperature = 40\n",
    "\n",
    "if temperature > 30:\n",
    "    print(\"It's a hot day!\")\n"
   ]
  },
  {
   "cell_type": "markdown",
   "id": "0ce99ba6",
   "metadata": {},
   "source": [
    "### Else and Elif Statements\n",
    "Use else to specify code to execute when the condition is not met. `elif` combines `else` and `if`, allowing you to check multiple conditions."
   ]
  },
  {
   "cell_type": "code",
   "execution_count": 22,
   "id": "afc33d16",
   "metadata": {
    "tags": []
   },
   "outputs": [
    {
     "name": "stdout",
     "output_type": "stream",
     "text": [
      "It's a pleasant day.\n"
     ]
    }
   ],
   "source": [
    "temperature = 25\n",
    "\n",
    "if temperature > 30:\n",
    "    print(\"It's a hot day!\")\n",
    "elif temperature > 20:\n",
    "    print(\"It's a pleasant day.\")\n",
    "else:\n",
    "    print(\"It's a cold day.\")\n"
   ]
  },
  {
   "cell_type": "markdown",
   "id": "b430f1df",
   "metadata": {},
   "source": [
    "<-- [Back to Top](#top) -->"
   ]
  },
  {
   "cell_type": "markdown",
   "id": "7c17453c",
   "metadata": {},
   "source": [
    "## For and while loops\n",
    "Loops allow you to repeat a block of code multiple times, making your programs more efficient and concise.\n",
    "\n",
    "### For Loops\n",
    "\n",
    "For loops iterate over a sequence of elements, such as lists, strings, or ranges."
   ]
  },
  {
   "cell_type": "code",
   "execution_count": 23,
   "id": "ad563352",
   "metadata": {
    "tags": []
   },
   "outputs": [
    {
     "name": "stdout",
     "output_type": "stream",
     "text": [
      "apple\n",
      "banana\n",
      "orange\n"
     ]
    }
   ],
   "source": [
    "fruits = [\"apple\", \"banana\", \"orange\"]\n",
    "for fruit in fruits:\n",
    "    print(fruit)\n"
   ]
  },
  {
   "cell_type": "markdown",
   "id": "c0a5e57b",
   "metadata": {},
   "source": [
    "### Range in For Loops\n",
    "Using `range()` creates a sequence of numbers to iterate over."
   ]
  },
  {
   "cell_type": "code",
   "execution_count": 24,
   "id": "21cc4d2e",
   "metadata": {
    "tags": []
   },
   "outputs": [
    {
     "name": "stdout",
     "output_type": "stream",
     "text": [
      "0\n",
      "1\n",
      "2\n",
      "3\n"
     ]
    }
   ],
   "source": [
    "for i in range(4):\n",
    "    print(i)"
   ]
  },
  {
   "cell_type": "markdown",
   "id": "732e5d2c",
   "metadata": {},
   "source": [
    "### While Loops\n",
    "While loops execute a block of code as long as a condition is true."
   ]
  },
  {
   "cell_type": "code",
   "execution_count": 25,
   "id": "26225084",
   "metadata": {
    "tags": []
   },
   "outputs": [
    {
     "name": "stdout",
     "output_type": "stream",
     "text": [
      "Count: 0\n",
      "Count: 1\n",
      "Count: 2\n",
      "Count: 3\n"
     ]
    }
   ],
   "source": [
    "count = 0\n",
    "while count < 4:\n",
    "    print(\"Count:\", count)\n",
    "    count += 1\n"
   ]
  },
  {
   "cell_type": "markdown",
   "id": "716debd8",
   "metadata": {},
   "source": [
    "### Break and Continue\n",
    "Use `break` to exit a loop prematurely and `continue` to skip the current iteration."
   ]
  },
  {
   "cell_type": "code",
   "execution_count": 6,
   "id": "122358f0",
   "metadata": {
    "tags": []
   },
   "outputs": [
    {
     "name": "stdout",
     "output_type": "stream",
     "text": [
      "0\n",
      "1\n",
      "2\n",
      "4\n"
     ]
    }
   ],
   "source": [
    "for num in range(5):\n",
    "    if num == 3:\n",
    "        continue\n",
    "    print(num)\n"
   ]
  },
  {
   "cell_type": "markdown",
   "id": "c25f8a0d",
   "metadata": {},
   "source": [
    "<-- [Back to Top](#top) -->"
   ]
  },
  {
   "cell_type": "markdown",
   "id": "21ed4a76",
   "metadata": {},
   "source": [
    "## Understanding functions and classes\n",
    "\n",
    "\n",
    "### Functions\n",
    "Functions are blocks of code that perform specific tasks. They promote code reuse and organization by allowing you to encapsulate functionality.\n",
    "\n",
    "#### Defining a Function\n",
    "To define a function, use the `def` keyword, followed by the function name and parameters in parentheses. The function body is indented.\n",
    "\n"
   ]
  },
  {
   "cell_type": "code",
   "execution_count": 27,
   "id": "92e2f2b3",
   "metadata": {
    "tags": []
   },
   "outputs": [],
   "source": [
    "def greet(name):\n",
    "    return f\"Hello, {name}!\""
   ]
  },
  {
   "cell_type": "markdown",
   "id": "8e76f309",
   "metadata": {},
   "source": [
    "### Calling a Function\n",
    "Call a function by using its name followed by parentheses and any required arguments."
   ]
  },
  {
   "cell_type": "code",
   "execution_count": 28,
   "id": "a47a18da",
   "metadata": {
    "tags": []
   },
   "outputs": [
    {
     "name": "stdout",
     "output_type": "stream",
     "text": [
      "Hello, Alice!\n"
     ]
    }
   ],
   "source": [
    "message = greet(\"Alice\")\n",
    "print(message) \n"
   ]
  },
  {
   "cell_type": "markdown",
   "id": "bee47b81",
   "metadata": {},
   "source": [
    "## Classes\n",
    "Classes are blueprints for creating objects. They allow you to bundle data (attributes) and behavior (methods) into a single unit.\n",
    "\n",
    "### Defining a Class\n",
    "Define a class using the `class` keyword, and define attributes and methods within it."
   ]
  },
  {
   "cell_type": "code",
   "execution_count": 7,
   "id": "07e78fcc",
   "metadata": {
    "tags": []
   },
   "outputs": [],
   "source": [
    "class Dog:\n",
    "    def __init__(self, name, age):\n",
    "        self.name = name\n",
    "        self.age = age\n",
    "\n",
    "    def bark(self):\n",
    "        return f\"{self.name} says Woof!\"\n"
   ]
  },
  {
   "cell_type": "markdown",
   "id": "9247d43d",
   "metadata": {},
   "source": [
    "### Creating Objects\n",
    "Create objects (instances) of a class using the class name followed by parentheses."
   ]
  },
  {
   "cell_type": "code",
   "execution_count": 9,
   "id": "461b7670",
   "metadata": {
    "tags": []
   },
   "outputs": [
    {
     "data": {
      "text/plain": [
       "<__main__.Dog at 0x2e718a1ab50>"
      ]
     },
     "execution_count": 9,
     "metadata": {},
     "output_type": "execute_result"
    }
   ],
   "source": [
    "my_dog = Dog(\"Buddy\", 3)\n",
    "my_dog"
   ]
  },
  {
   "cell_type": "markdown",
   "id": "66773fca",
   "metadata": {},
   "source": [
    "### Accessing Attributes and Methods\n",
    "Access attributes and methods of an object using dot notation."
   ]
  },
  {
   "cell_type": "code",
   "execution_count": 31,
   "id": "7d980bde",
   "metadata": {},
   "outputs": [
    {
     "name": "stdout",
     "output_type": "stream",
     "text": [
      "Buddy\n",
      "Buddy says Woof!\n"
     ]
    }
   ],
   "source": [
    "print(my_dog.name)  \n",
    "print(my_dog.bark())  "
   ]
  },
  {
   "cell_type": "markdown",
   "id": "f453433d",
   "metadata": {},
   "source": [
    "### Functions vs. Methods\n",
    "Functions are standalone code blocks, while methods are functions that belong to a specific class and operate on its objects."
   ]
  },
  {
   "cell_type": "markdown",
   "id": "9b28a582",
   "metadata": {},
   "source": [
    "<-- [Back to Top](#top) -->"
   ]
  },
  {
   "cell_type": "markdown",
   "id": "86fcea96",
   "metadata": {},
   "source": [
    "## Applications of Functions and Classes\n",
    "\n",
    "### 1. Solving a Quadratic Equation\n",
    "In this example, we'll write a Python function to solve a quadratic equation.\n",
    "\n",
    "\n",
    "#### Quadratic Formula\n",
    "The solutions of a quadratic equation \n",
    "$$ax^2 + bx + c = 0 $$\n",
    "\n",
    "can be found using the quadratic formula:\n",
    "$$x = \\frac{-b \\pm \\sqrt{b^2 - 4ac}}{2a} $$\n",
    "\n",
    "\n",
    "\n",
    "\n",
    "#### Python Function\n",
    "Here's a Python  function that calculates the solutions of a quadratic equation ---"
   ]
  },
  {
   "cell_type": "code",
   "execution_count": 32,
   "id": "0259df7a",
   "metadata": {
    "tags": []
   },
   "outputs": [],
   "source": [
    "import cmath\n",
    "\n",
    "def solve_quadratic(a, b, c):\n",
    "    discriminant = cmath.sqrt(b**2 - 4*a*c)\n",
    "    root1 = (-b + discriminant) / (2*a)\n",
    "    root2 = (-b - discriminant) / (2*a)\n",
    "    return root1, root2"
   ]
  },
  {
   "cell_type": "markdown",
   "id": "df7e4086",
   "metadata": {},
   "source": [
    "Note: Here we are using `cmath` module insted of the `math` module. The `math` module is used for real-number mathematical operations, while the `cmath` module is designed for complex-number mathematical operations."
   ]
  },
  {
   "cell_type": "code",
   "execution_count": 33,
   "id": "7929cb17",
   "metadata": {
    "tags": []
   },
   "outputs": [
    {
     "name": "stdout",
     "output_type": "stream",
     "text": [
      "Root 1: (1.5+1.3228756555322954j)\n",
      "Root 2: (1.5-1.3228756555322954j)\n"
     ]
    }
   ],
   "source": [
    "a = 1\n",
    "b = -3\n",
    "c = 4\n",
    "root1, root2 = solve_quadratic(a, b, c)\n",
    "print(\"Root 1:\", root1)\n",
    "print(\"Root 2:\", root2)"
   ]
  },
  {
   "cell_type": "markdown",
   "id": "afa98cd3",
   "metadata": {},
   "source": [
    "### 2. Calculating the Area of a Triangle\n",
    "In this example, we'll write a Python function to calculate the area of a triangle based on its three sides using the Heron's Formula. \n",
    "\n",
    "#### Heron's Formula\n",
    "The area of a triangle with sides  `a`, `b`, and `c` can be calculated using Heron's Formula:\n",
    "\n",
    "<center><img src=\"triangle.png\" alt=\"Drawing\" style=\"width: 150px; height: 150px;\" /></center>\n",
    "\n",
    "\n",
    "\n",
    "$$\\text{Area} = \\sqrt{s \\cdot (s - a) \\cdot (s - b) \\cdot (s - c)}$$\n",
    "\n",
    "\n",
    "Where `s` is the semi-perimeter of the triangle:\n",
    "\n",
    "$$s = \\frac{a + b + c}{2}$$\n",
    "\n",
    "#### Python Function\n",
    "Here's a Python function that calculates the area of a triangle ---\n",
    "\n",
    "\n"
   ]
  },
  {
   "cell_type": "code",
   "execution_count": 34,
   "id": "2afefca3",
   "metadata": {
    "tags": []
   },
   "outputs": [],
   "source": [
    "import math\n",
    "\n",
    "def triangle_area(a, b, c):\n",
    "    s = (a + b + c) / 2\n",
    "    area = math.sqrt(s * (s - a) * (s - b) * (s - c))\n",
    "    return area"
   ]
  },
  {
   "cell_type": "markdown",
   "id": "9b869c41",
   "metadata": {},
   "source": [
    "### Usage\n",
    "Now you can use the triangle_area function to calculate the area of a triangle:"
   ]
  },
  {
   "cell_type": "code",
   "execution_count": 35,
   "id": "b7bffa10",
   "metadata": {
    "tags": []
   },
   "outputs": [
    {
     "name": "stdout",
     "output_type": "stream",
     "text": [
      "Area of the triangle: 17.41228014936585\n"
     ]
    }
   ],
   "source": [
    "a = 5\n",
    "b = 7\n",
    "c = 9\n",
    "area = triangle_area(a, b, c)\n",
    "print(\"Area of the triangle:\", area)\n"
   ]
  },
  {
   "cell_type": "markdown",
   "id": "316244a2",
   "metadata": {},
   "source": [
    "Now, let's put the above formula in a class called `TriangleCalculator` that calculates the perimeter and the area of a triangle."
   ]
  },
  {
   "cell_type": "code",
   "execution_count": 36,
   "id": "0a021f42",
   "metadata": {
    "tags": []
   },
   "outputs": [
    {
     "name": "stdout",
     "output_type": "stream",
     "text": [
      "Perimeter: 21\n",
      "Area: 17.41228014936585\n"
     ]
    }
   ],
   "source": [
    "\n",
    "class TriangleCalculator:\n",
    "    def __init__(self, a, b, c):\n",
    "        self.a = a\n",
    "        self.b = b\n",
    "        self.c = c\n",
    "\n",
    "    def triangle_perimeter(self):\n",
    "        return self.a + self.b + self.c\n",
    "\n",
    "    def triangle_area(self):\n",
    "        s = (self.a + self.b + self.c) / 2\n",
    "        area = math.sqrt(s * (s - self.a) * (s - self.b) * (s - self.c))\n",
    "        return area\n",
    "\n",
    "\n",
    "# Usage\n",
    "\n",
    "a = 5\n",
    "b = 7\n",
    "c = 9\n",
    "\n",
    "triangle = TriangleCalculator(a, b, c)\n",
    "perimeter = triangle.triangle_perimeter()\n",
    "area = triangle.triangle_area()\n",
    "\n",
    "print(\"Perimeter:\", perimeter)\n",
    "print(\"Area:\", area)"
   ]
  },
  {
   "cell_type": "markdown",
   "id": "845f76e4",
   "metadata": {},
   "source": [
    "<-- [Back to Top](#top) -->"
   ]
  },
  {
   "cell_type": "markdown",
   "id": "54c4d56a",
   "metadata": {},
   "source": [
    "## Scientific Computing with NumPy\n",
    "NumPy is a powerful library in Python for scientific computing and numerical operations. With its array and matrix operations, mathematical functions, and tools for linear algebra, NumPy empowers researchers, scientists, and engineers to perform complex numerical computations efficiently and effectively.\n",
    "\n",
    "\n",
    "### Importing NumPy\n",
    "To use NumPy, you need to import it in your Python code:\n",
    "\n"
   ]
  },
  {
   "cell_type": "code",
   "execution_count": 11,
   "id": "7cef3567",
   "metadata": {
    "tags": []
   },
   "outputs": [],
   "source": [
    "import numpy as np"
   ]
  },
  {
   "cell_type": "markdown",
   "id": "41f99d11",
   "metadata": {},
   "source": [
    "### Creating Arrays and Matrices\n",
    "NumPy allows you to create arrays and matrices with ease ---"
   ]
  },
  {
   "cell_type": "code",
   "execution_count": 38,
   "id": "2f3a6958",
   "metadata": {
    "tags": []
   },
   "outputs": [],
   "source": [
    "# Creating arrays\n",
    "arr = np.array([1, 2, 3])\n",
    "\n",
    "# Creating matrices\n",
    "matrix = np.array([[1, 2, 3], [4, 5, 6], [7, 8, 9]])\n"
   ]
  },
  {
   "cell_type": "markdown",
   "id": "75c753a3",
   "metadata": {},
   "source": [
    "### Basic Operations\n",
    "NumPy supports various mathematical operations on arrays and matrices ---"
   ]
  },
  {
   "cell_type": "markdown",
   "id": "4eee18f5",
   "metadata": {},
   "source": [
    "#### Defining array"
   ]
  },
  {
   "cell_type": "code",
   "execution_count": 39,
   "id": "b4734f0b",
   "metadata": {
    "tags": []
   },
   "outputs": [
    {
     "name": "stdout",
     "output_type": "stream",
     "text": [
      "[1 2 3] [4 5 6]\n"
     ]
    }
   ],
   "source": [
    "a = np.array([1, 2, 3])\n",
    "b = np.array([4, 5, 6])\n",
    "\n",
    "print(a,b)"
   ]
  },
  {
   "cell_type": "markdown",
   "id": "75d61878",
   "metadata": {},
   "source": [
    "#### Element-wise addition"
   ]
  },
  {
   "cell_type": "code",
   "execution_count": 40,
   "id": "4e6419e9",
   "metadata": {},
   "outputs": [
    {
     "name": "stdout",
     "output_type": "stream",
     "text": [
      "[5 7 9]\n"
     ]
    }
   ],
   "source": [
    "result_add = a + b\n",
    "print(result_add)"
   ]
  },
  {
   "cell_type": "markdown",
   "id": "6318f53c",
   "metadata": {},
   "source": [
    "#### Element-wise multiplication"
   ]
  },
  {
   "cell_type": "code",
   "execution_count": 41,
   "id": "5737288a",
   "metadata": {
    "tags": []
   },
   "outputs": [
    {
     "name": "stdout",
     "output_type": "stream",
     "text": [
      "[ 4 10 18]\n"
     ]
    }
   ],
   "source": [
    "result_mul = a * b\n",
    "print(result_mul)"
   ]
  },
  {
   "cell_type": "markdown",
   "id": "8b9a1b5d",
   "metadata": {},
   "source": [
    "#### Defining mtarix"
   ]
  },
  {
   "cell_type": "code",
   "execution_count": 12,
   "id": "46317fcb",
   "metadata": {
    "tags": []
   },
   "outputs": [
    {
     "name": "stdout",
     "output_type": "stream",
     "text": [
      "[[1 2]\n",
      " [3 4]]\n"
     ]
    }
   ],
   "source": [
    "matrix_a = np.array([[1, 2], [3, 4]])\n",
    "print(matrix_a)"
   ]
  },
  {
   "cell_type": "code",
   "execution_count": 13,
   "id": "5dc19a36",
   "metadata": {
    "tags": []
   },
   "outputs": [
    {
     "name": "stdout",
     "output_type": "stream",
     "text": [
      "[[5 6]\n",
      " [7 8]]\n"
     ]
    }
   ],
   "source": [
    "matrix_b = np.array([[5, 6], [7, 8]])\n",
    "print(matrix_b)"
   ]
  },
  {
   "cell_type": "markdown",
   "id": "4df91096",
   "metadata": {},
   "source": [
    "####  Matrix multiplicaltion"
   ]
  },
  {
   "cell_type": "code",
   "execution_count": 14,
   "id": "a524337e",
   "metadata": {
    "tags": []
   },
   "outputs": [
    {
     "name": "stdout",
     "output_type": "stream",
     "text": [
      "[[19 22]\n",
      " [43 50]]\n"
     ]
    }
   ],
   "source": [
    "result_matmul = np.matmul(matrix_a, matrix_b)\n",
    "print(result_matmul)"
   ]
  },
  {
   "cell_type": "markdown",
   "id": "6a10c4b8",
   "metadata": {
    "tags": []
   },
   "source": [
    "### Useful Mathematical Functions in NumPy\n",
    "\n",
    "#### Basic Functions\n",
    "\n",
    "`np.sum(arr)`: Calculates the sum of array elements.\n",
    "\n",
    "`np.mean(arr)`: Computes the mean (average) of array elements.\n",
    "\n",
    "`np.median(arr)`: Computes the median of array elements.\n",
    "\n",
    "`np.std(arr)`: Calculates the standard deviation of array elements.\n",
    "\n",
    "`np.var(arr)`: Computes the variance of array elements.\n",
    "\n",
    "#### Trigonometric Functions\n",
    "\n",
    "`np.sin(arr)`: Computes the sine of array elements.\n",
    "\n",
    "`np.cos(arr)`: Computes the cosine of array elements.\n",
    "\n",
    "`np.tan(arr)`: Computes the tangent of array elements.\n",
    "\n",
    "#### Exponential and Logarithmic Functions\n",
    "\n",
    "`np.exp(arr)`: Computes the exponential of array elements.\n",
    "\n",
    "`np.log(arr)`: Computes the natural logarithm of array elements.\n",
    "\n",
    "`np.log10(arr)`: Computes the base-10 logarithm of array elements.\n",
    "\n",
    "#### Linear Algebra Functions\n",
    "\n",
    "`np.dot(arr1, arr2)`: Computes the dot product of arrays.\n",
    "\n",
    "`np.cross(arr1, arr2)`: Computes the cross product of arrays.\n",
    "\n",
    "`np.linalg.inv(arr)`: Computes the inverse of a matrix.\n",
    "\n",
    "`np.linalg.det(arr)`: Computes the determinant of a matrix.\n",
    "\n",
    "These are just a few examples of the extensive mathematical functions available in NumPy. These functions are invaluable for performing complex calculations efficiently and accurately in various domains. For more detail check their official page [NumPy](https://numpy.org/).\n",
    "\n",
    "#### For example:"
   ]
  },
  {
   "cell_type": "code",
   "execution_count": 18,
   "id": "f1a6905d-8e1c-4153-b127-235baab49ac7",
   "metadata": {
    "tags": []
   },
   "outputs": [
    {
     "data": {
      "text/plain": [
       "array([[19, 22],\n",
       "       [43, 50]])"
      ]
     },
     "execution_count": 18,
     "metadata": {},
     "output_type": "execute_result"
    }
   ],
   "source": [
    "np.dot(matrix_a, matrix_b)"
   ]
  },
  {
   "cell_type": "code",
   "execution_count": 20,
   "id": "70a06e52-6ae7-4619-844d-2a65786f56d7",
   "metadata": {
    "tags": []
   },
   "outputs": [
    {
     "data": {
      "text/plain": [
       "array([[ 2.71828183,  7.3890561 ],\n",
       "       [20.08553692, 54.59815003]])"
      ]
     },
     "execution_count": 20,
     "metadata": {},
     "output_type": "execute_result"
    }
   ],
   "source": [
    "np.exp(matrix_a)"
   ]
  },
  {
   "cell_type": "code",
   "execution_count": 19,
   "id": "13e76bab-2f9a-4257-a6ef-8e61693ec12d",
   "metadata": {
    "tags": []
   },
   "outputs": [
    {
     "data": {
      "text/plain": [
       "array([[19, 22],\n",
       "       [43, 50]])"
      ]
     },
     "execution_count": 19,
     "metadata": {},
     "output_type": "execute_result"
    }
   ],
   "source": [
    "np.matmul(matrix_a, matrix_b)"
   ]
  },
  {
   "cell_type": "code",
   "execution_count": 45,
   "id": "1d4d7aec",
   "metadata": {
    "tags": []
   },
   "outputs": [
    {
     "name": "stdout",
     "output_type": "stream",
     "text": [
      "2.0 0.816496580927726\n"
     ]
    }
   ],
   "source": [
    "arr = np.array([1, 2, 3])\n",
    "mean = np.mean(arr)  # Computing \n",
    "std_dev = np.std(arr)\n",
    "\n",
    "print(mean,std_dev)"
   ]
  },
  {
   "cell_type": "code",
   "execution_count": 46,
   "id": "725b78f2",
   "metadata": {
    "tags": []
   },
   "outputs": [
    {
     "name": "stdout",
     "output_type": "stream",
     "text": [
      "-2.0000000000000004\n"
     ]
    }
   ],
   "source": [
    "matrix = np.array([[1, 2], [3, 4]])\n",
    "determinant = np.linalg.det(matrix)\n",
    "print(determinant )"
   ]
  },
  {
   "cell_type": "markdown",
   "id": "aab65438",
   "metadata": {},
   "source": [
    "### An Example!\n",
    "\n",
    "#### Solving a system of linear equations\n",
    "\n",
    "Let's consider the following system of equations:\n",
    "\n",
    "$$\\begin{align*}\n",
    "a_{11}x + a_{12}y &= b_1 \\\\\n",
    "a_{21}x + a_{22}y &= b_2\n",
    "\\end{align*}$$\n",
    "\n",
    "\n",
    "We can define the A and B matrix, and solve the equation using matrix inversion \n",
    "\n",
    "$$\\begin{align*}\n",
    "A &= \\begin{bmatrix}\n",
    "    a_{11} & a_{12} \\\\\n",
    "    a_{21} & a_{22}\n",
    "\\end{bmatrix} \\\\\n",
    "x &= \\begin{bmatrix}\n",
    "    x \\\\\n",
    "    y\n",
    "\\end{bmatrix} \\\\\n",
    "B &= \\begin{bmatrix}\n",
    "    b_1 \\\\\n",
    "    b_2\n",
    "\\end{bmatrix} \\\\\n",
    "Ax &= B \\\\\n",
    "x &= A^{-1}B\n",
    "\\end{align*}\n",
    "$$\n",
    "\n",
    "\n",
    "Now, let us write a function that solves this system of equations using NumPy.In this example, the `solve_linear_system` function takes the coefficients matrix and constants vector as inputs and uses np.linalg.solve() to find the solution. If the system of equations has no unique solution, the function returns \"No unique solution\". Otherwise, it returns the solution vector."
   ]
  },
  {
   "cell_type": "code",
   "execution_count": 47,
   "id": "29c04896",
   "metadata": {},
   "outputs": [],
   "source": [
    "import numpy as np\n",
    "\n",
    "def solve_linear_system(coefficients, constants):\n",
    "    try:\n",
    "        solution = np.linalg.solve(coefficients, constants)\n",
    "        return solution\n",
    "    except np.linalg.LinAlgError:\n",
    "        return \"No unique solution\"\n",
    "    \n",
    "    "
   ]
  },
  {
   "cell_type": "code",
   "execution_count": 48,
   "id": "c5da86b6",
   "metadata": {},
   "outputs": [
    {
     "name": "stdout",
     "output_type": "stream",
     "text": [
      "Solution: [2.8 2.4]\n"
     ]
    }
   ],
   "source": [
    "# system of equations\n",
    "a11,a12,a21,a22 = 2,1,3,4\n",
    "b1,b2 = 8,18\n",
    "\n",
    "# Example coefficients and constants\n",
    "A = np.array([[a11, a12], [a21, a22]])\n",
    "B = np.array([b1, b2])\n",
    "\n",
    "solution = solve_linear_system(A, B)\n",
    "print(\"Solution:\", solution)\n"
   ]
  },
  {
   "cell_type": "markdown",
   "id": "028fb6f8",
   "metadata": {},
   "source": [
    "<-- [Back to Top](#top) -->"
   ]
  },
  {
   "cell_type": "markdown",
   "id": "44bde3ba",
   "metadata": {},
   "source": [
    "## Basics of Data Science with Pandas\n",
    "Pandas is a powerful library in Python for data manipulation and analysis. It provides easy-to-use data structures and functions that make data cleaning, exploration, and transformation more efficient.\n",
    "\n",
    "\n",
    "### Importing Pandas\n",
    "To start using Pandas, import it in your Python script or notebook:"
   ]
  },
  {
   "cell_type": "code",
   "execution_count": 22,
   "id": "ff2414fe",
   "metadata": {
    "tags": []
   },
   "outputs": [],
   "source": [
    "import pandas as pd"
   ]
  },
  {
   "cell_type": "markdown",
   "id": "9068382a",
   "metadata": {},
   "source": [
    "### Creating DataFrames\n",
    "A DataFrame is a primary Pandas data structure that stores data in a tabular format. You can create a DataFrame from various data sources.\n",
    "\n",
    "#### Create a DataFrame from a dictionary"
   ]
  },
  {
   "cell_type": "code",
   "execution_count": 23,
   "id": "bc247fe0",
   "metadata": {
    "tags": []
   },
   "outputs": [
    {
     "data": {
      "text/html": [
       "<div>\n",
       "<style scoped>\n",
       "    .dataframe tbody tr th:only-of-type {\n",
       "        vertical-align: middle;\n",
       "    }\n",
       "\n",
       "    .dataframe tbody tr th {\n",
       "        vertical-align: top;\n",
       "    }\n",
       "\n",
       "    .dataframe thead th {\n",
       "        text-align: right;\n",
       "    }\n",
       "</style>\n",
       "<table border=\"1\" class=\"dataframe\">\n",
       "  <thead>\n",
       "    <tr style=\"text-align: right;\">\n",
       "      <th></th>\n",
       "      <th>Name</th>\n",
       "      <th>Age</th>\n",
       "      <th>Weight</th>\n",
       "    </tr>\n",
       "  </thead>\n",
       "  <tbody>\n",
       "    <tr>\n",
       "      <th>0</th>\n",
       "      <td>Alice</td>\n",
       "      <td>25</td>\n",
       "      <td>58</td>\n",
       "    </tr>\n",
       "    <tr>\n",
       "      <th>1</th>\n",
       "      <td>Bob</td>\n",
       "      <td>30</td>\n",
       "      <td>64</td>\n",
       "    </tr>\n",
       "    <tr>\n",
       "      <th>2</th>\n",
       "      <td>Charlie</td>\n",
       "      <td>22</td>\n",
       "      <td>73</td>\n",
       "    </tr>\n",
       "    <tr>\n",
       "      <th>3</th>\n",
       "      <td>Nathan</td>\n",
       "      <td>21</td>\n",
       "      <td>48</td>\n",
       "    </tr>\n",
       "    <tr>\n",
       "      <th>4</th>\n",
       "      <td>Sally</td>\n",
       "      <td>25</td>\n",
       "      <td>55</td>\n",
       "    </tr>\n",
       "    <tr>\n",
       "      <th>5</th>\n",
       "      <td>rosa</td>\n",
       "      <td>20</td>\n",
       "      <td>86</td>\n",
       "    </tr>\n",
       "    <tr>\n",
       "      <th>6</th>\n",
       "      <td>Aditya</td>\n",
       "      <td>28</td>\n",
       "      <td>77</td>\n",
       "    </tr>\n",
       "    <tr>\n",
       "      <th>7</th>\n",
       "      <td>Adil</td>\n",
       "      <td>26</td>\n",
       "      <td>64</td>\n",
       "    </tr>\n",
       "  </tbody>\n",
       "</table>\n",
       "</div>"
      ],
      "text/plain": [
       "      Name  Age  Weight\n",
       "0    Alice   25      58\n",
       "1      Bob   30      64\n",
       "2  Charlie   22      73\n",
       "3   Nathan   21      48\n",
       "4    Sally   25      55\n",
       "5     rosa   20      86\n",
       "6   Aditya   28      77\n",
       "7     Adil   26      64"
      ]
     },
     "execution_count": 23,
     "metadata": {},
     "output_type": "execute_result"
    }
   ],
   "source": [
    "data = {'Name': ['Alice', 'Bob', 'Charlie','Nathan','Sally','rosa','Aditya','Adil'],\n",
    "        'Age': [25, 30, 22 ,21,25,20,28,26,],\n",
    "       'Weight':[58,64,73,48,55,86,77,64]}\n",
    "df = pd.DataFrame(data)\n",
    "\n",
    "df.to_csv('data.csv', index = None)\n",
    "\n",
    "df"
   ]
  },
  {
   "cell_type": "markdown",
   "id": "a618d632",
   "metadata": {},
   "source": [
    "#### Reading Data\n",
    "Pandas can read data from various file formats like CSV, Excel, and more."
   ]
  },
  {
   "cell_type": "code",
   "execution_count": 54,
   "id": "f95ea538",
   "metadata": {
    "tags": []
   },
   "outputs": [
    {
     "data": {
      "text/html": [
       "<div>\n",
       "<style scoped>\n",
       "    .dataframe tbody tr th:only-of-type {\n",
       "        vertical-align: middle;\n",
       "    }\n",
       "\n",
       "    .dataframe tbody tr th {\n",
       "        vertical-align: top;\n",
       "    }\n",
       "\n",
       "    .dataframe thead th {\n",
       "        text-align: right;\n",
       "    }\n",
       "</style>\n",
       "<table border=\"1\" class=\"dataframe\">\n",
       "  <thead>\n",
       "    <tr style=\"text-align: right;\">\n",
       "      <th></th>\n",
       "      <th>Name</th>\n",
       "      <th>Age</th>\n",
       "      <th>Weight</th>\n",
       "    </tr>\n",
       "  </thead>\n",
       "  <tbody>\n",
       "    <tr>\n",
       "      <th>0</th>\n",
       "      <td>Alice</td>\n",
       "      <td>25</td>\n",
       "      <td>58</td>\n",
       "    </tr>\n",
       "    <tr>\n",
       "      <th>1</th>\n",
       "      <td>Bob</td>\n",
       "      <td>30</td>\n",
       "      <td>64</td>\n",
       "    </tr>\n",
       "    <tr>\n",
       "      <th>2</th>\n",
       "      <td>Charlie</td>\n",
       "      <td>22</td>\n",
       "      <td>73</td>\n",
       "    </tr>\n",
       "    <tr>\n",
       "      <th>3</th>\n",
       "      <td>Nathan</td>\n",
       "      <td>21</td>\n",
       "      <td>48</td>\n",
       "    </tr>\n",
       "    <tr>\n",
       "      <th>4</th>\n",
       "      <td>Sally</td>\n",
       "      <td>25</td>\n",
       "      <td>55</td>\n",
       "    </tr>\n",
       "    <tr>\n",
       "      <th>5</th>\n",
       "      <td>rosa</td>\n",
       "      <td>20</td>\n",
       "      <td>86</td>\n",
       "    </tr>\n",
       "    <tr>\n",
       "      <th>6</th>\n",
       "      <td>Aditya</td>\n",
       "      <td>28</td>\n",
       "      <td>77</td>\n",
       "    </tr>\n",
       "    <tr>\n",
       "      <th>7</th>\n",
       "      <td>Adil</td>\n",
       "      <td>26</td>\n",
       "      <td>64</td>\n",
       "    </tr>\n",
       "  </tbody>\n",
       "</table>\n",
       "</div>"
      ],
      "text/plain": [
       "      Name  Age  Weight\n",
       "0    Alice   25      58\n",
       "1      Bob   30      64\n",
       "2  Charlie   22      73\n",
       "3   Nathan   21      48\n",
       "4    Sally   25      55\n",
       "5     rosa   20      86\n",
       "6   Aditya   28      77\n",
       "7     Adil   26      64"
      ]
     },
     "execution_count": 54,
     "metadata": {},
     "output_type": "execute_result"
    }
   ],
   "source": [
    "# Read data from a CSV file\n",
    "df = pd.read_csv('data.csv')\n",
    "df"
   ]
  },
  {
   "cell_type": "markdown",
   "id": "4f844e2f",
   "metadata": {},
   "source": [
    "### Exploring Data\n",
    "Useful functions to explore your data include,\n",
    "\n",
    "#### Display the first few rows of the DataFrame"
   ]
  },
  {
   "cell_type": "code",
   "execution_count": 24,
   "id": "a1e5fee9",
   "metadata": {
    "tags": []
   },
   "outputs": [
    {
     "data": {
      "text/html": [
       "<div>\n",
       "<style scoped>\n",
       "    .dataframe tbody tr th:only-of-type {\n",
       "        vertical-align: middle;\n",
       "    }\n",
       "\n",
       "    .dataframe tbody tr th {\n",
       "        vertical-align: top;\n",
       "    }\n",
       "\n",
       "    .dataframe thead th {\n",
       "        text-align: right;\n",
       "    }\n",
       "</style>\n",
       "<table border=\"1\" class=\"dataframe\">\n",
       "  <thead>\n",
       "    <tr style=\"text-align: right;\">\n",
       "      <th></th>\n",
       "      <th>Name</th>\n",
       "      <th>Age</th>\n",
       "      <th>Weight</th>\n",
       "    </tr>\n",
       "  </thead>\n",
       "  <tbody>\n",
       "    <tr>\n",
       "      <th>0</th>\n",
       "      <td>Alice</td>\n",
       "      <td>25</td>\n",
       "      <td>58</td>\n",
       "    </tr>\n",
       "    <tr>\n",
       "      <th>1</th>\n",
       "      <td>Bob</td>\n",
       "      <td>30</td>\n",
       "      <td>64</td>\n",
       "    </tr>\n",
       "    <tr>\n",
       "      <th>2</th>\n",
       "      <td>Charlie</td>\n",
       "      <td>22</td>\n",
       "      <td>73</td>\n",
       "    </tr>\n",
       "    <tr>\n",
       "      <th>3</th>\n",
       "      <td>Nathan</td>\n",
       "      <td>21</td>\n",
       "      <td>48</td>\n",
       "    </tr>\n",
       "    <tr>\n",
       "      <th>4</th>\n",
       "      <td>Sally</td>\n",
       "      <td>25</td>\n",
       "      <td>55</td>\n",
       "    </tr>\n",
       "  </tbody>\n",
       "</table>\n",
       "</div>"
      ],
      "text/plain": [
       "      Name  Age  Weight\n",
       "0    Alice   25      58\n",
       "1      Bob   30      64\n",
       "2  Charlie   22      73\n",
       "3   Nathan   21      48\n",
       "4    Sally   25      55"
      ]
     },
     "execution_count": 24,
     "metadata": {},
     "output_type": "execute_result"
    }
   ],
   "source": [
    "df.head()"
   ]
  },
  {
   "cell_type": "markdown",
   "id": "68a10923",
   "metadata": {},
   "source": [
    "#### Get basic statistics about the data"
   ]
  },
  {
   "cell_type": "code",
   "execution_count": 25,
   "id": "18c8f163",
   "metadata": {
    "tags": []
   },
   "outputs": [
    {
     "data": {
      "text/html": [
       "<div>\n",
       "<style scoped>\n",
       "    .dataframe tbody tr th:only-of-type {\n",
       "        vertical-align: middle;\n",
       "    }\n",
       "\n",
       "    .dataframe tbody tr th {\n",
       "        vertical-align: top;\n",
       "    }\n",
       "\n",
       "    .dataframe thead th {\n",
       "        text-align: right;\n",
       "    }\n",
       "</style>\n",
       "<table border=\"1\" class=\"dataframe\">\n",
       "  <thead>\n",
       "    <tr style=\"text-align: right;\">\n",
       "      <th></th>\n",
       "      <th>Age</th>\n",
       "      <th>Weight</th>\n",
       "    </tr>\n",
       "  </thead>\n",
       "  <tbody>\n",
       "    <tr>\n",
       "      <th>count</th>\n",
       "      <td>8.000000</td>\n",
       "      <td>8.000000</td>\n",
       "    </tr>\n",
       "    <tr>\n",
       "      <th>mean</th>\n",
       "      <td>24.625000</td>\n",
       "      <td>65.625000</td>\n",
       "    </tr>\n",
       "    <tr>\n",
       "      <th>std</th>\n",
       "      <td>3.461523</td>\n",
       "      <td>12.454919</td>\n",
       "    </tr>\n",
       "    <tr>\n",
       "      <th>min</th>\n",
       "      <td>20.000000</td>\n",
       "      <td>48.000000</td>\n",
       "    </tr>\n",
       "    <tr>\n",
       "      <th>25%</th>\n",
       "      <td>21.750000</td>\n",
       "      <td>57.250000</td>\n",
       "    </tr>\n",
       "    <tr>\n",
       "      <th>50%</th>\n",
       "      <td>25.000000</td>\n",
       "      <td>64.000000</td>\n",
       "    </tr>\n",
       "    <tr>\n",
       "      <th>75%</th>\n",
       "      <td>26.500000</td>\n",
       "      <td>74.000000</td>\n",
       "    </tr>\n",
       "    <tr>\n",
       "      <th>max</th>\n",
       "      <td>30.000000</td>\n",
       "      <td>86.000000</td>\n",
       "    </tr>\n",
       "  </tbody>\n",
       "</table>\n",
       "</div>"
      ],
      "text/plain": [
       "             Age     Weight\n",
       "count   8.000000   8.000000\n",
       "mean   24.625000  65.625000\n",
       "std     3.461523  12.454919\n",
       "min    20.000000  48.000000\n",
       "25%    21.750000  57.250000\n",
       "50%    25.000000  64.000000\n",
       "75%    26.500000  74.000000\n",
       "max    30.000000  86.000000"
      ]
     },
     "execution_count": 25,
     "metadata": {},
     "output_type": "execute_result"
    }
   ],
   "source": [
    "df.describe()"
   ]
  },
  {
   "cell_type": "markdown",
   "id": "74999a26",
   "metadata": {},
   "source": [
    "#### Data Selection and Filtering\n",
    "You can select and filter data using various methods:"
   ]
  },
  {
   "cell_type": "code",
   "execution_count": 26,
   "id": "b2565f3d",
   "metadata": {
    "tags": []
   },
   "outputs": [
    {
     "data": {
      "text/html": [
       "<div>\n",
       "<style scoped>\n",
       "    .dataframe tbody tr th:only-of-type {\n",
       "        vertical-align: middle;\n",
       "    }\n",
       "\n",
       "    .dataframe tbody tr th {\n",
       "        vertical-align: top;\n",
       "    }\n",
       "\n",
       "    .dataframe thead th {\n",
       "        text-align: right;\n",
       "    }\n",
       "</style>\n",
       "<table border=\"1\" class=\"dataframe\">\n",
       "  <thead>\n",
       "    <tr style=\"text-align: right;\">\n",
       "      <th></th>\n",
       "      <th>Weight</th>\n",
       "    </tr>\n",
       "  </thead>\n",
       "  <tbody>\n",
       "    <tr>\n",
       "      <th>0</th>\n",
       "      <td>58</td>\n",
       "    </tr>\n",
       "    <tr>\n",
       "      <th>1</th>\n",
       "      <td>64</td>\n",
       "    </tr>\n",
       "    <tr>\n",
       "      <th>2</th>\n",
       "      <td>73</td>\n",
       "    </tr>\n",
       "    <tr>\n",
       "      <th>3</th>\n",
       "      <td>48</td>\n",
       "    </tr>\n",
       "    <tr>\n",
       "      <th>4</th>\n",
       "      <td>55</td>\n",
       "    </tr>\n",
       "    <tr>\n",
       "      <th>5</th>\n",
       "      <td>86</td>\n",
       "    </tr>\n",
       "    <tr>\n",
       "      <th>6</th>\n",
       "      <td>77</td>\n",
       "    </tr>\n",
       "    <tr>\n",
       "      <th>7</th>\n",
       "      <td>64</td>\n",
       "    </tr>\n",
       "  </tbody>\n",
       "</table>\n",
       "</div>"
      ],
      "text/plain": [
       "   Weight\n",
       "0      58\n",
       "1      64\n",
       "2      73\n",
       "3      48\n",
       "4      55\n",
       "5      86\n",
       "6      77\n",
       "7      64"
      ]
     },
     "execution_count": 26,
     "metadata": {},
     "output_type": "execute_result"
    }
   ],
   "source": [
    "# Select a specific column\n",
    "df[['Weight']]"
   ]
  },
  {
   "cell_type": "code",
   "execution_count": 27,
   "id": "45266858-2055-4974-a814-dca50b8a250f",
   "metadata": {
    "tags": []
   },
   "outputs": [
    {
     "data": {
      "text/plain": [
       "0    58\n",
       "1    64\n",
       "2    73\n",
       "3    48\n",
       "4    55\n",
       "5    86\n",
       "6    77\n",
       "7    64\n",
       "Name: Weight, dtype: int64"
      ]
     },
     "execution_count": 27,
     "metadata": {},
     "output_type": "execute_result"
    }
   ],
   "source": [
    "df[\"Weight\"]"
   ]
  },
  {
   "cell_type": "code",
   "execution_count": 58,
   "id": "60bbb663",
   "metadata": {
    "tags": []
   },
   "outputs": [
    {
     "data": {
      "text/html": [
       "<div>\n",
       "<style scoped>\n",
       "    .dataframe tbody tr th:only-of-type {\n",
       "        vertical-align: middle;\n",
       "    }\n",
       "\n",
       "    .dataframe tbody tr th {\n",
       "        vertical-align: top;\n",
       "    }\n",
       "\n",
       "    .dataframe thead th {\n",
       "        text-align: right;\n",
       "    }\n",
       "</style>\n",
       "<table border=\"1\" class=\"dataframe\">\n",
       "  <thead>\n",
       "    <tr style=\"text-align: right;\">\n",
       "      <th></th>\n",
       "      <th>Weight</th>\n",
       "      <th>Age</th>\n",
       "    </tr>\n",
       "  </thead>\n",
       "  <tbody>\n",
       "    <tr>\n",
       "      <th>0</th>\n",
       "      <td>58</td>\n",
       "      <td>25</td>\n",
       "    </tr>\n",
       "    <tr>\n",
       "      <th>1</th>\n",
       "      <td>64</td>\n",
       "      <td>30</td>\n",
       "    </tr>\n",
       "    <tr>\n",
       "      <th>2</th>\n",
       "      <td>73</td>\n",
       "      <td>22</td>\n",
       "    </tr>\n",
       "    <tr>\n",
       "      <th>3</th>\n",
       "      <td>48</td>\n",
       "      <td>21</td>\n",
       "    </tr>\n",
       "    <tr>\n",
       "      <th>4</th>\n",
       "      <td>55</td>\n",
       "      <td>25</td>\n",
       "    </tr>\n",
       "    <tr>\n",
       "      <th>5</th>\n",
       "      <td>86</td>\n",
       "      <td>20</td>\n",
       "    </tr>\n",
       "    <tr>\n",
       "      <th>6</th>\n",
       "      <td>77</td>\n",
       "      <td>28</td>\n",
       "    </tr>\n",
       "    <tr>\n",
       "      <th>7</th>\n",
       "      <td>64</td>\n",
       "      <td>26</td>\n",
       "    </tr>\n",
       "  </tbody>\n",
       "</table>\n",
       "</div>"
      ],
      "text/plain": [
       "   Weight  Age\n",
       "0      58   25\n",
       "1      64   30\n",
       "2      73   22\n",
       "3      48   21\n",
       "4      55   25\n",
       "5      86   20\n",
       "6      77   28\n",
       "7      64   26"
      ]
     },
     "execution_count": 58,
     "metadata": {},
     "output_type": "execute_result"
    }
   ],
   "source": [
    "# Access multiple columns\n",
    "df[['Weight', 'Age']]"
   ]
  },
  {
   "cell_type": "code",
   "execution_count": 59,
   "id": "d782c149",
   "metadata": {
    "tags": []
   },
   "outputs": [
    {
     "data": {
      "text/html": [
       "<div>\n",
       "<style scoped>\n",
       "    .dataframe tbody tr th:only-of-type {\n",
       "        vertical-align: middle;\n",
       "    }\n",
       "\n",
       "    .dataframe tbody tr th {\n",
       "        vertical-align: top;\n",
       "    }\n",
       "\n",
       "    .dataframe thead th {\n",
       "        text-align: right;\n",
       "    }\n",
       "</style>\n",
       "<table border=\"1\" class=\"dataframe\">\n",
       "  <thead>\n",
       "    <tr style=\"text-align: right;\">\n",
       "      <th></th>\n",
       "      <th>Name</th>\n",
       "      <th>Age</th>\n",
       "      <th>Weight</th>\n",
       "    </tr>\n",
       "  </thead>\n",
       "  <tbody>\n",
       "    <tr>\n",
       "      <th>1</th>\n",
       "      <td>Bob</td>\n",
       "      <td>30</td>\n",
       "      <td>64</td>\n",
       "    </tr>\n",
       "    <tr>\n",
       "      <th>6</th>\n",
       "      <td>Aditya</td>\n",
       "      <td>28</td>\n",
       "      <td>77</td>\n",
       "    </tr>\n",
       "    <tr>\n",
       "      <th>7</th>\n",
       "      <td>Adil</td>\n",
       "      <td>26</td>\n",
       "      <td>64</td>\n",
       "    </tr>\n",
       "  </tbody>\n",
       "</table>\n",
       "</div>"
      ],
      "text/plain": [
       "     Name  Age  Weight\n",
       "1     Bob   30      64\n",
       "6  Aditya   28      77\n",
       "7    Adil   26      64"
      ]
     },
     "execution_count": 59,
     "metadata": {},
     "output_type": "execute_result"
    }
   ],
   "source": [
    "# Filter rows based on a condition\n",
    "df[df['Age'] > 25]"
   ]
  },
  {
   "cell_type": "markdown",
   "id": "4bb586bc",
   "metadata": {},
   "source": [
    "<-- [Back to Top](#top) -->"
   ]
  },
  {
   "cell_type": "markdown",
   "id": "8d70628b",
   "metadata": {},
   "source": [
    "## Data-Visualization\n",
    "\n",
    "Data visualization is a crucial part of data analysis, allowing you to gain insights and communicate findings effectively. `Matplotlib` is a popular Python library that provides a wide range of tools for creating various types of plots and graphs."
   ]
  },
  {
   "cell_type": "code",
   "execution_count": 29,
   "id": "258e30df",
   "metadata": {
    "tags": []
   },
   "outputs": [],
   "source": [
    "import matplotlib.pyplot as plt"
   ]
  },
  {
   "cell_type": "markdown",
   "id": "b4866922",
   "metadata": {},
   "source": [
    "### Line Plot\n",
    "Create a line plot to visualize trends in data:"
   ]
  },
  {
   "cell_type": "code",
   "execution_count": 61,
   "id": "1b61c60b",
   "metadata": {
    "tags": []
   },
   "outputs": [
    {
     "data": {
      "image/png": "[encoded data removed]",
      "text/plain": [
       "<Figure size 640x480 with 1 Axes>"
      ]
     },
     "metadata": {},
     "output_type": "display_data"
    }
   ],
   "source": [
    "x = [1, 2, 3, 4, 5]\n",
    "y = [12,17,19,22,25]\n",
    "\n",
    "plt.plot(x, y)\n",
    "plt.xlabel('X-axis')\n",
    "plt.ylabel('Y-axis')\n",
    "plt.title('Line Plot')\n",
    "plt.show()"
   ]
  },
  {
   "cell_type": "markdown",
   "id": "8e0c7ada",
   "metadata": {},
   "source": [
    "### Scatter Plot\n",
    "Generate a scatter plot to visualize individual data points:"
   ]
  },
  {
   "cell_type": "code",
   "execution_count": 50,
   "id": "69436e7b",
   "metadata": {
    "tags": []
   },
   "outputs": [
    {
     "data": {
      "image/png": "[encoded data removed]",
      "text/plain": [
       "<Figure size 640x480 with 1 Axes>"
      ]
     },
     "metadata": {},
     "output_type": "display_data"
    }
   ],
   "source": [
    "x = [1, 2, 3, 4, 5]\n",
    "y = [12,17,19,22,25]\n",
    "\n",
    "\n",
    "plt.scatter(x, y, color='blue', marker='*')\n",
    "plt.plot(x, y, color='blue', linestyle='--')\n",
    "plt.xlabel('X-axis')\n",
    "plt.ylabel('Y-axis')\n",
    "plt.title('Scatter Plot')\n",
    "plt.show()"
   ]
  },
  {
   "cell_type": "markdown",
   "id": "e580d44a",
   "metadata": {},
   "source": [
    "<-- [Back to Top](#top) -->"
   ]
  },
  {
   "cell_type": "code",
   "execution_count": null,
   "id": "13fccb2e",
   "metadata": {},
   "outputs": [],
   "source": []
  },
  {
   "cell_type": "code",
   "execution_count": null,
   "id": "38e436f3",
   "metadata": {},
   "outputs": [],
   "source": []
  },
  {
   "cell_type": "code",
   "execution_count": null,
   "id": "57c83a1b",
   "metadata": {},
   "outputs": [],
   "source": []
  },
  {
   "cell_type": "code",
   "execution_count": null,
   "id": "de35edde",
   "metadata": {},
   "outputs": [],
   "source": []
  },
  {
   "cell_type": "code",
   "execution_count": null,
   "id": "0de63458",
   "metadata": {},
   "outputs": [],
   "source": []
  },
  {
   "cell_type": "code",
   "execution_count": null,
   "id": "76e9ceae",
   "metadata": {},
   "outputs": [],
   "source": []
  },
  {
   "cell_type": "code",
   "execution_count": null,
   "id": "0b12b0cc",
   "metadata": {},
   "outputs": [],
   "source": []
  }
 ],
 "metadata": {
  "kernelspec": {
   "display_name": "Python 3 (ipykernel)",
   "language": "python",
   "name": "python3"
  },
  "language_info": {
   "codemirror_mode": {
    "name": "ipython",
    "version": 3
   },
   "file_extension": ".py",
   "mimetype": "text/x-python",
   "name": "python",
   "nbconvert_exporter": "python",
   "pygments_lexer": "ipython3",
   "version": "3.11.5"
  }
 },
 "nbformat": 4,
 "nbformat_minor": 5
}
