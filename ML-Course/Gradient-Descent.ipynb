{
 "cells": [
  {
   "cell_type": "code",
   "execution_count": 4,
   "id": "5d83e5bd-3db2-4e97-95a0-65892c7c8b96",
   "metadata": {
    "tags": []
   },
   "outputs": [],
   "source": [
    "import numpy as np\n",
    "import matplotlib.pyplot as plt\n",
    "\n",
    "%matplotlib inline\n",
    "def gradient_descent(x, y):\n",
    "    m_curr = b_curr = 0  # Initialize parameters\n",
    "    rate = 0.08  # Learning rate\n",
    "    iter = 1000  # Number of iterations\n",
    "    n = len(x)  # Number of data points\n",
    "\n",
    "    plt.scatter(x, y, color='red', marker='+', linewidths=5)  # Plot data points\n",
    "\n",
    "    for i in range(iter):\n",
    "        y_predicted = m_curr * x + b_curr\n",
    "        md = -(2/n) * np.dot(x, (y - y_predicted))  # Vectorized gradient calculation\n",
    "        yd = -(2/n) * np.sum(y - y_predicted)\n",
    "        m_curr -= rate * md  # Update m\n",
    "        b_curr -= rate * yd  # Update b\n",
    "\n",
    "    # Plot final regression line only once\n",
    "    y_final = m_curr * x + b_curr\n",
    "    plt.plot(x, y_final, color='green')\n",
    "\n",
    "    return m_curr, b_curr  # Return optimized values\n",
    "\n",
    "# Data (y = 2x + 3)\n",
    "# x = np.array([1, 2, 3, 4, 5])\n",
    "# y = np.array([5, 7, 9, 11, 13])\n",
    "\n",
    "# Run gradient descent\n",
    "#m_final, b_final = gradient_descent(x, y)\n",
    "\n",
    "# Print final values\n",
    "\n"
   ]
  },
  {
   "cell_type": "code",
   "execution_count": null,
   "id": "96ed239a-0ad0-4fae-b8b2-edd267e99ddc",
   "metadata": {},
   "outputs": [],
   "source": []
  },
  {
   "cell_type": "code",
   "execution_count": null,
   "id": "f782ede5-d393-4f81-b403-7418a4da5d35",
   "metadata": {},
   "outputs": [],
   "source": []
  },
  {
   "cell_type": "code",
   "execution_count": 6,
   "id": "d0c2a36f-fef2-4499-a4fd-224c2ed75349",
   "metadata": {
    "tags": []
   },
   "outputs": [
    {
     "data": {
      "text/html": [
       "<div>\n",
       "<style scoped>\n",
       "    .dataframe tbody tr th:only-of-type {\n",
       "        vertical-align: middle;\n",
       "    }\n",
       "\n",
       "    .dataframe tbody tr th {\n",
       "        vertical-align: top;\n",
       "    }\n",
       "\n",
       "    .dataframe thead th {\n",
       "        text-align: right;\n",
       "    }\n",
       "</style>\n",
       "<table border=\"1\" class=\"dataframe\">\n",
       "  <thead>\n",
       "    <tr style=\"text-align: right;\">\n",
       "      <th></th>\n",
       "      <th>area</th>\n",
       "      <th>bedrooms</th>\n",
       "      <th>price</th>\n",
       "    </tr>\n",
       "  </thead>\n",
       "  <tbody>\n",
       "    <tr>\n",
       "      <th>0</th>\n",
       "      <td>1056</td>\n",
       "      <td>2</td>\n",
       "      <td>39.07</td>\n",
       "    </tr>\n",
       "    <tr>\n",
       "      <th>1</th>\n",
       "      <td>2600</td>\n",
       "      <td>4</td>\n",
       "      <td>120.00</td>\n",
       "    </tr>\n",
       "    <tr>\n",
       "      <th>17</th>\n",
       "      <td>1540</td>\n",
       "      <td>3</td>\n",
       "      <td>60.00</td>\n",
       "    </tr>\n",
       "    <tr>\n",
       "      <th>10</th>\n",
       "      <td>1800</td>\n",
       "      <td>3</td>\n",
       "      <td>82.00</td>\n",
       "    </tr>\n",
       "    <tr>\n",
       "      <th>12</th>\n",
       "      <td>1000</td>\n",
       "      <td>2</td>\n",
       "      <td>38.00</td>\n",
       "    </tr>\n",
       "  </tbody>\n",
       "</table>\n",
       "</div>"
      ],
      "text/plain": [
       "    area  bedrooms   price\n",
       "0   1056         2   39.07\n",
       "1   2600         4  120.00\n",
       "17  1540         3   60.00\n",
       "10  1800         3   82.00\n",
       "12  1000         2   38.00"
      ]
     },
     "execution_count": 6,
     "metadata": {},
     "output_type": "execute_result"
    }
   ],
   "source": [
    "import pandas as pd\n",
    "# data = pd.read_csv(\"LR_1D_data.csv\")\n",
    "# data\n",
    "data = pd.read_csv(\"homeprices_banglore.csv\")\n",
    "data.sample(5)"
   ]
  },
  {
   "cell_type": "code",
   "execution_count": 7,
   "id": "645d890c-34f0-450f-a7db-46064f07f2c3",
   "metadata": {
    "tags": []
   },
   "outputs": [
    {
     "ename": "KeyError",
     "evalue": "'x'",
     "output_type": "error",
     "traceback": [
      "\u001b[1;31m---------------------------------------------------------------------------\u001b[0m",
      "\u001b[1;31mKeyError\u001b[0m                                  Traceback (most recent call last)",
      "File \u001b[1;32m~\\anaconda3\\anaconda\\Lib\\site-packages\\pandas\\core\\indexes\\base.py:3653\u001b[0m, in \u001b[0;36mIndex.get_loc\u001b[1;34m(self, key)\u001b[0m\n\u001b[0;32m   3652\u001b[0m \u001b[38;5;28;01mtry\u001b[39;00m:\n\u001b[1;32m-> 3653\u001b[0m     \u001b[38;5;28;01mreturn\u001b[39;00m \u001b[38;5;28mself\u001b[39m\u001b[38;5;241m.\u001b[39m_engine\u001b[38;5;241m.\u001b[39mget_loc(casted_key)\n\u001b[0;32m   3654\u001b[0m \u001b[38;5;28;01mexcept\u001b[39;00m \u001b[38;5;167;01mKeyError\u001b[39;00m \u001b[38;5;28;01mas\u001b[39;00m err:\n",
      "File \u001b[1;32m~\\anaconda3\\anaconda\\Lib\\site-packages\\pandas\\_libs\\index.pyx:147\u001b[0m, in \u001b[0;36mpandas._libs.index.IndexEngine.get_loc\u001b[1;34m()\u001b[0m\n",
      "File \u001b[1;32m~\\anaconda3\\anaconda\\Lib\\site-packages\\pandas\\_libs\\index.pyx:176\u001b[0m, in \u001b[0;36mpandas._libs.index.IndexEngine.get_loc\u001b[1;34m()\u001b[0m\n",
      "File \u001b[1;32mpandas\\_libs\\hashtable_class_helper.pxi:7080\u001b[0m, in \u001b[0;36mpandas._libs.hashtable.PyObjectHashTable.get_item\u001b[1;34m()\u001b[0m\n",
      "File \u001b[1;32mpandas\\_libs\\hashtable_class_helper.pxi:7088\u001b[0m, in \u001b[0;36mpandas._libs.hashtable.PyObjectHashTable.get_item\u001b[1;34m()\u001b[0m\n",
      "\u001b[1;31mKeyError\u001b[0m: 'x'",
      "\nThe above exception was the direct cause of the following exception:\n",
      "\u001b[1;31mKeyError\u001b[0m                                  Traceback (most recent call last)",
      "Cell \u001b[1;32mIn[7], line 1\u001b[0m\n\u001b[1;32m----> 1\u001b[0m m_final, b_final \u001b[38;5;241m=\u001b[39m gradient_descent(data[\u001b[38;5;124m\"\u001b[39m\u001b[38;5;124mx\u001b[39m\u001b[38;5;124m\"\u001b[39m], data[\u001b[38;5;124m\"\u001b[39m\u001b[38;5;124my\u001b[39m\u001b[38;5;124m\"\u001b[39m])\n\u001b[0;32m      2\u001b[0m \u001b[38;5;28mprint\u001b[39m(\u001b[38;5;124mf\u001b[39m\u001b[38;5;124m\"\u001b[39m\u001b[38;5;124mOptimized values: m = \u001b[39m\u001b[38;5;132;01m{\u001b[39;00mm_final\u001b[38;5;132;01m:\u001b[39;00m\u001b[38;5;124m.4f\u001b[39m\u001b[38;5;132;01m}\u001b[39;00m\u001b[38;5;124m, b = \u001b[39m\u001b[38;5;132;01m{\u001b[39;00mb_final\u001b[38;5;132;01m:\u001b[39;00m\u001b[38;5;124m.4f\u001b[39m\u001b[38;5;132;01m}\u001b[39;00m\u001b[38;5;124m\"\u001b[39m)\n",
      "File \u001b[1;32m~\\anaconda3\\anaconda\\Lib\\site-packages\\pandas\\core\\frame.py:3761\u001b[0m, in \u001b[0;36mDataFrame.__getitem__\u001b[1;34m(self, key)\u001b[0m\n\u001b[0;32m   3759\u001b[0m \u001b[38;5;28;01mif\u001b[39;00m \u001b[38;5;28mself\u001b[39m\u001b[38;5;241m.\u001b[39mcolumns\u001b[38;5;241m.\u001b[39mnlevels \u001b[38;5;241m>\u001b[39m \u001b[38;5;241m1\u001b[39m:\n\u001b[0;32m   3760\u001b[0m     \u001b[38;5;28;01mreturn\u001b[39;00m \u001b[38;5;28mself\u001b[39m\u001b[38;5;241m.\u001b[39m_getitem_multilevel(key)\n\u001b[1;32m-> 3761\u001b[0m indexer \u001b[38;5;241m=\u001b[39m \u001b[38;5;28mself\u001b[39m\u001b[38;5;241m.\u001b[39mcolumns\u001b[38;5;241m.\u001b[39mget_loc(key)\n\u001b[0;32m   3762\u001b[0m \u001b[38;5;28;01mif\u001b[39;00m is_integer(indexer):\n\u001b[0;32m   3763\u001b[0m     indexer \u001b[38;5;241m=\u001b[39m [indexer]\n",
      "File \u001b[1;32m~\\anaconda3\\anaconda\\Lib\\site-packages\\pandas\\core\\indexes\\base.py:3655\u001b[0m, in \u001b[0;36mIndex.get_loc\u001b[1;34m(self, key)\u001b[0m\n\u001b[0;32m   3653\u001b[0m     \u001b[38;5;28;01mreturn\u001b[39;00m \u001b[38;5;28mself\u001b[39m\u001b[38;5;241m.\u001b[39m_engine\u001b[38;5;241m.\u001b[39mget_loc(casted_key)\n\u001b[0;32m   3654\u001b[0m \u001b[38;5;28;01mexcept\u001b[39;00m \u001b[38;5;167;01mKeyError\u001b[39;00m \u001b[38;5;28;01mas\u001b[39;00m err:\n\u001b[1;32m-> 3655\u001b[0m     \u001b[38;5;28;01mraise\u001b[39;00m \u001b[38;5;167;01mKeyError\u001b[39;00m(key) \u001b[38;5;28;01mfrom\u001b[39;00m \u001b[38;5;21;01merr\u001b[39;00m\n\u001b[0;32m   3656\u001b[0m \u001b[38;5;28;01mexcept\u001b[39;00m \u001b[38;5;167;01mTypeError\u001b[39;00m:\n\u001b[0;32m   3657\u001b[0m     \u001b[38;5;66;03m# If we have a listlike key, _check_indexing_error will raise\u001b[39;00m\n\u001b[0;32m   3658\u001b[0m     \u001b[38;5;66;03m#  InvalidIndexError. Otherwise we fall through and re-raise\u001b[39;00m\n\u001b[0;32m   3659\u001b[0m     \u001b[38;5;66;03m#  the TypeError.\u001b[39;00m\n\u001b[0;32m   3660\u001b[0m     \u001b[38;5;28mself\u001b[39m\u001b[38;5;241m.\u001b[39m_check_indexing_error(key)\n",
      "\u001b[1;31mKeyError\u001b[0m: 'x'"
     ]
    }
   ],
   "source": [
    "m_final, b_final = gradient_descent(data[\"x\"], data[\"y\"])\n",
    "print(f\"Optimized values: m = {m_final:.4f}, b = {b_final:.4f}\")"
   ]
  },
  {
   "cell_type": "code",
   "execution_count": 6,
   "id": "654352bc-32b5-47c7-9883-a10809ef0b30",
   "metadata": {
    "tags": []
   },
   "outputs": [],
   "source": [
    "data2 = pd.read_csv(\"K_VRH.csv\")"
   ]
  },
  {
   "cell_type": "code",
   "execution_count": 15,
   "id": "a85c4873-9d91-4c0c-ae53-c09485ec06e4",
   "metadata": {
    "tags": []
   },
   "outputs": [
    {
     "name": "stdout",
     "output_type": "stream",
     "text": [
      "Optimized Weights: [ -5.6497267    0.15249909  -4.7667752   36.80926656  10.97852053\n",
      "  16.2250856   -8.69171509  20.33075182   4.28103805 -30.85744119\n",
      "  -5.29919017   4.09510169  -8.20247069   4.45207675   2.84364673\n",
      "   4.71134718  -3.53083698   3.92600698  -8.82994311   0.89514537\n",
      "   3.43360017  -6.48493495]\n",
      "Optimized Bias: b = 98.0000\n"
     ]
    }
   ],
   "source": [
    "import numpy as np\n",
    "from sklearn.preprocessing import StandardScaler\n",
    "\n",
    "# Extract features and target from the DataFrame\n",
    "Xcols = data2.columns[:-1]  # Select all but last column as features\n",
    "X = data2[Xcols].to_numpy()  # Convert to NumPy array\n",
    "y = data2['K_VRH'].to_numpy()  # Convert target to NumPy array\n",
    "\n",
    "# Feature Scaling (Recommended for Gradient Descent)\n",
    "scaler = StandardScaler()\n",
    "X = scaler.fit_transform(X)\n",
    "\n",
    "# Initialize weights (22 weights) and bias\n",
    "w = np.zeros(X.shape[1])  # Shape (22,)\n",
    "b = 0\n",
    "learning_rate = 0.01\n",
    "max_iterations = 10000  # Increased iterations\n",
    "n = len(y)  # Number of samples\n",
    "\n",
    "# Stopping criterion threshold\n",
    "tolerance = 1e-6  # If weight updates are smaller than this, stop\n",
    "\n",
    "# Gradient Descent with Convergence Check\n",
    "prev_w = np.copy(w)  # Store previous weights\n",
    "for iteration in range(max_iterations):\n",
    "    y_pred = np.dot(X, w) + b  # Compute predictions\n",
    "    error = y_pred - y  # Compute error\n",
    "\n",
    "    # Compute gradients\n",
    "    dw = (1/n) * np.dot(X.T, error)  # Gradient w.r.t. weights\n",
    "    db = (1/n) * np.sum(error)  # Gradient w.r.t. bias\n",
    "\n",
    "    # Update parameters\n",
    "    w -= learning_rate * dw\n",
    "    b -= learning_rate * db\n",
    "\n",
    "    # Check for convergence (if weight updates are very small)\n",
    "    if np.linalg.norm(w - prev_w) < tolerance:\n",
    "        print(f\"Converged at iteration {iteration}\")\n",
    "        break\n",
    "    prev_w = np.copy(w)  # Update previous weights\n",
    "\n",
    "print(f\"Optimized Weights: {w}\")  # Prints the 22 optimized weights\n",
    "print(f\"Optimized Bias: b = {b:.4f}\")\n"
   ]
  },
  {
   "cell_type": "code",
   "execution_count": 13,
   "id": "d85cf0b3-37ec-48a2-a5b6-3a24f4879954",
   "metadata": {
    "tags": []
   },
   "outputs": [
    {
     "data": {
      "text/plain": [
       "(479,)"
      ]
     },
     "execution_count": 13,
     "metadata": {},
     "output_type": "execute_result"
    }
   ],
   "source": [
    "y.shape"
   ]
  },
  {
   "cell_type": "code",
   "execution_count": 11,
   "id": "03123e99-b13e-41f0-9999-190573354914",
   "metadata": {
    "tags": []
   },
   "outputs": [
    {
     "ename": "NameError",
     "evalue": "name 'data2' is not defined",
     "output_type": "error",
     "traceback": [
      "\u001b[1;31m---------------------------------------------------------------------------\u001b[0m",
      "\u001b[1;31mNameError\u001b[0m                                 Traceback (most recent call last)",
      "Cell \u001b[1;32mIn[11], line 5\u001b[0m\n\u001b[0;32m      2\u001b[0m \u001b[38;5;28;01mfrom\u001b[39;00m \u001b[38;5;21;01msklearn\u001b[39;00m\u001b[38;5;21;01m.\u001b[39;00m\u001b[38;5;21;01mpreprocessing\u001b[39;00m \u001b[38;5;28;01mimport\u001b[39;00m StandardScaler\n\u001b[0;32m      4\u001b[0m \u001b[38;5;66;03m# Extract features and target\u001b[39;00m\n\u001b[1;32m----> 5\u001b[0m Xcols \u001b[38;5;241m=\u001b[39m data2\u001b[38;5;241m.\u001b[39mcolumns[:\u001b[38;5;241m-\u001b[39m\u001b[38;5;241m1\u001b[39m]\n\u001b[0;32m      6\u001b[0m X \u001b[38;5;241m=\u001b[39m data2[Xcols]\u001b[38;5;241m.\u001b[39mto_numpy()\n\u001b[0;32m      7\u001b[0m y \u001b[38;5;241m=\u001b[39m data2[\u001b[38;5;124m'\u001b[39m\u001b[38;5;124mK_VRH\u001b[39m\u001b[38;5;124m'\u001b[39m]\u001b[38;5;241m.\u001b[39mto_numpy()\n",
      "\u001b[1;31mNameError\u001b[0m: name 'data2' is not defined"
     ]
    }
   ],
   "source": [
    "import numpy as np\n",
    "from sklearn.preprocessing import StandardScaler\n",
    "\n",
    "# Extract features and target\n",
    "Xcols = data2.columns[:-1]\n",
    "X = data2[Xcols].to_numpy()\n",
    "y = data2['K_VRH'].to_numpy()\n",
    "\n",
    "# Feature Scaling\n",
    "scaler = StandardScaler()\n",
    "X = scaler.fit_transform(X)\n",
    "\n",
    "# Initialize weights and bias\n",
    "w = np.zeros(X.shape[1])  # Shape (22,)\n",
    "b = 0\n",
    "learning_rate = 0.01\n",
    "iterations = 1000\n",
    "batch_size = 32  # Mini-batch size\n",
    "n = len(y)\n",
    "\n",
    "# Mini-Batch Gradient Descent\n",
    "for _ in range(iterations):\n",
    "    indices = np.random.permutation(n)  # Shuffle data\n",
    "    X_shuffled = X[indices]\n",
    "    y_shuffled = y[indices]\n",
    "\n",
    "    for i in range(0, n, batch_size):\n",
    "        X_batch = X_shuffled[i:i+batch_size]\n",
    "        y_batch = y_shuffled[i:i+batch_size]\n",
    "\n",
    "        y_pred = np.dot(X_batch, w) + b\n",
    "        error = y_pred - y_batch\n",
    "\n",
    "        dw = (1/len(y_batch)) * np.dot(X_batch.T, error)\n",
    "        db = (1/len(y_batch)) * np.sum(error)\n",
    "\n",
    "        w -= learning_rate * dw\n",
    "        b -= learning_rate * db\n",
    "\n",
    "print(f\"Optimized Weights: {w}\")\n",
    "print(f\"Optimized Bias: b = {b:.4f}\")\n"
   ]
  },
  {
   "cell_type": "code",
   "execution_count": 10,
   "id": "1027c093-2aa5-42c7-b03e-30427a8c600c",
   "metadata": {
    "tags": []
   },
   "outputs": [
    {
     "ename": "NameError",
     "evalue": "name 'data2' is not defined",
     "output_type": "error",
     "traceback": [
      "\u001b[1;31m---------------------------------------------------------------------------\u001b[0m",
      "\u001b[1;31mNameError\u001b[0m                                 Traceback (most recent call last)",
      "Cell \u001b[1;32mIn[10], line 7\u001b[0m\n\u001b[0;32m      5\u001b[0m \u001b[38;5;66;03m# Extract features and target\u001b[39;00m\n\u001b[0;32m      6\u001b[0m Xcols \u001b[38;5;241m=\u001b[39m data\u001b[38;5;241m.\u001b[39mcolumns[:\u001b[38;5;241m-\u001b[39m\u001b[38;5;241m1\u001b[39m]\n\u001b[1;32m----> 7\u001b[0m X \u001b[38;5;241m=\u001b[39m data2[Xcols]\u001b[38;5;241m.\u001b[39mto_numpy()\n\u001b[0;32m      8\u001b[0m y \u001b[38;5;241m=\u001b[39m data2[\u001b[38;5;124m'\u001b[39m\u001b[38;5;124mK_VRH\u001b[39m\u001b[38;5;124m'\u001b[39m]\u001b[38;5;241m.\u001b[39mto_numpy()\n\u001b[0;32m     10\u001b[0m \u001b[38;5;66;03m# Feature Scaling\u001b[39;00m\n",
      "\u001b[1;31mNameError\u001b[0m: name 'data2' is not defined"
     ]
    }
   ],
   "source": [
    "import numpy as np\n",
    "import matplotlib.pyplot as plt\n",
    "from sklearn.preprocessing import StandardScaler\n",
    "\n",
    "# Extract features and target\n",
    "Xcols = data.columns[:-1]\n",
    "X = data2[Xcols].to_numpy()\n",
    "y = data2['K_VRH'].to_numpy()\n",
    "\n",
    "# Feature Scaling\n",
    "scaler = StandardScaler()\n",
    "X = scaler.fit_transform(X)\n",
    "\n",
    "# Initialize weights and bias\n",
    "w = np.zeros(X.shape[1])  # Shape (22,)\n",
    "b = 0\n",
    "learning_rate = 0.01\n",
    "iterations = 1000\n",
    "batch_size = 32  # Mini-batch size\n",
    "n = len(y)\n",
    "\n",
    "loss_history = []  # Store loss at each iteration\n",
    "\n",
    "# Mini-Batch Gradient Descent\n",
    "for _ in range(iterations):\n",
    "    indices = np.random.permutation(n)  # Shuffle data\n",
    "    X_shuffled = X[indices]\n",
    "    y_shuffled = y[indices]\n",
    "\n",
    "    for i in range(0, n, batch_size):\n",
    "        X_batch = X_shuffled[i:i+batch_size]\n",
    "        y_batch = y_shuffled[i:i+batch_size]\n",
    "\n",
    "        y_pred = np.dot(X_batch, w) + b\n",
    "        error = y_pred - y_batch\n",
    "\n",
    "        dw = (1/len(y_batch)) * np.dot(X_batch.T, error)\n",
    "        db = (1/len(y_batch)) * np.sum(error)\n",
    "\n",
    "        w -= learning_rate * dw\n",
    "        b -= learning_rate * db\n",
    "\n",
    "    # Compute overall loss after each iteration\n",
    "    y_full_pred = np.dot(X, w) + b\n",
    "    mse = np.mean((y_full_pred - y) ** 2)\n",
    "    loss_history.append(mse)\n",
    "\n",
    "# Plot Loss Convergence\n",
    "plt.figure(figsize=(8,5))\n",
    "plt.plot(loss_history, label=\"Loss Curve\", color='b')\n",
    "plt.xlabel(\"Iterations\")\n",
    "plt.ylabel(\"Mean Squared Error (MSE)\")\n",
    "plt.title(\"Loss Convergence in Mini-Batch Gradient Descent\")\n",
    "plt.legend()\n",
    "plt.grid(True)\n",
    "plt.show()\n",
    "\n",
    "print(f\"Final Loss: {loss_history[-1]:.6f}\")\n",
    "print(f\"Optimized Weights: {w}\")\n",
    "print(f\"Optimized Bias: b = {b:.4f}\")\n"
   ]
  },
  {
   "cell_type": "markdown",
   "id": "4550b1e2-2895-4581-b97a-25b42e51ab8f",
   "metadata": {},
   "source": [
    "### Code for BGD, MBGD, and SGD with Loss Visualization"
   ]
  },
  {
   "cell_type": "code",
   "execution_count": 22,
   "id": "8b090429-3e27-450f-9f45-66c6a13ea078",
   "metadata": {
    "tags": []
   },
   "outputs": [
    {
     "data": {
      "image/png": "[encoded data removed]",
      "text/plain": [
       "<Figure size 1000x600 with 1 Axes>"
      ]
     },
     "metadata": {},
     "output_type": "display_data"
    },
    {
     "name": "stdout",
     "output_type": "stream",
     "text": [
      "Final Loss (Batch GD): 1380.409302\n",
      "Final Loss (Mini-Batch GD): 1387.303867\n",
      "Final Loss (Stochastic GD): 1876.863497\n"
     ]
    }
   ],
   "source": [
    "import numpy as np\n",
    "import matplotlib.pyplot as plt\n",
    "from sklearn.preprocessing import StandardScaler\n",
    "\n",
    "# Extract features and target\n",
    "Xcols = data2.columns[:-1]\n",
    "X = data2[Xcols].to_numpy()\n",
    "y = data2['K_VRH'].to_numpy()\n",
    "\n",
    "# Feature Scaling\n",
    "scaler = StandardScaler()\n",
    "X = scaler.fit_transform(X)\n",
    "\n",
    "# Gradient Descent Function\n",
    "def gradient_descent(X, y, learning_rate=0.01, iterations=1000, batch_size=None):\n",
    "    \"\"\" Implements Batch GD, Mini-Batch GD, or Stochastic GD \"\"\"\n",
    "    n_samples, n_features = X.shape\n",
    "    w = np.zeros(n_features)  # Initialize weights\n",
    "    b = 0\n",
    "    loss_history = []\n",
    "\n",
    "    for _ in range(iterations):\n",
    "        if batch_size is None:  \n",
    "            # **Batch Gradient Descent** - Uses all samples\n",
    "            X_batch, y_batch = X, y\n",
    "        elif batch_size == 1:  \n",
    "            # **Stochastic Gradient Descent** - One sample at a time\n",
    "            idx = np.random.randint(n_samples)\n",
    "            X_batch, y_batch = X[idx:idx+1], y[idx:idx+1]\n",
    "        else:  \n",
    "            # **Mini-Batch Gradient Descent** - Random subset\n",
    "            indices = np.random.choice(n_samples, batch_size, replace=False)\n",
    "            X_batch, y_batch = X[indices], y[indices]\n",
    "\n",
    "        # Compute Predictions\n",
    "        y_pred = np.dot(X_batch, w) + b\n",
    "        error = y_pred - y_batch\n",
    "\n",
    "        # Compute Gradients\n",
    "        dw = (1 / len(y_batch)) * np.dot(X_batch.T, error)\n",
    "        db = (1 / len(y_batch)) * np.sum(error)\n",
    "\n",
    "        # Update Weights\n",
    "        w -= learning_rate * dw\n",
    "        b -= learning_rate * db\n",
    "\n",
    "        # Compute Loss (Full Dataset)\n",
    "        y_full_pred = np.dot(X, w) + b\n",
    "        mse = np.mean((y_full_pred - y) ** 2)\n",
    "        loss_history.append(mse)\n",
    "\n",
    "    return w, b, loss_history\n",
    "\n",
    "# Run Gradient Descent for different methods\n",
    "batch_w, batch_b, batch_loss = gradient_descent(X, y, batch_size=None)  # Full Batch\n",
    "mini_w, mini_b, mini_loss = gradient_descent(X, y, batch_size=32)  # Mini-Batch\n",
    "stoch_w, stoch_b, stoch_loss = gradient_descent(X, y, batch_size=1)  # Stochastic\n",
    "\n",
    "# Plot Loss Curves\n",
    "plt.figure(figsize=(10, 6))\n",
    "plt.plot(batch_loss, label=\"Batch GD\", color='r')\n",
    "plt.plot(mini_loss, label=\"Mini-Batch GD (b=32)\", color='g')\n",
    "plt.plot(stoch_loss, label=\"Stochastic GD\", color='b')\n",
    "plt.xlabel(\"Iterations\")\n",
    "plt.ylabel(\"Mean Squared Error (MSE)\")\n",
    "plt.title(\"Loss Convergence: Batch vs Mini-Batch vs Stochastic GD\")\n",
    "plt.legend()\n",
    "plt.grid(True)\n",
    "plt.show()\n",
    "\n",
    "# Print Final Loss\n",
    "print(f\"Final Loss (Batch GD): {batch_loss[-1]:.6f}\")\n",
    "print(f\"Final Loss (Mini-Batch GD): {mini_loss[-1]:.6f}\")\n",
    "print(f\"Final Loss (Stochastic GD): {stoch_loss[-1]:.6f}\")\n"
   ]
  }
 ],
 "metadata": {
  "kernelspec": {
   "display_name": "Python 3 (ipykernel)",
   "language": "python",
   "name": "python3"
  },
  "language_info": {
   "codemirror_mode": {
    "name": "ipython",
    "version": 3
   },
   "file_extension": ".py",
   "mimetype": "text/x-python",
   "name": "python",
   "nbconvert_exporter": "python",
   "pygments_lexer": "ipython3",
   "version": "3.11.5"
  }
 },
 "nbformat": 4,
 "nbformat_minor": 5
}
